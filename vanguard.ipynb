{
 "cells": [
  {
   "cell_type": "code",
   "execution_count": 1,
   "id": "11c1fdb0-6775-4b9e-b85b-5813afc3dcbd",
   "metadata": {},
   "outputs": [],
   "source": [
    "# Start running cells from here."
   ]
  },
  {
   "cell_type": "code",
   "execution_count": 2,
   "id": "79c398ac-1247-4ea1-ae1f-0b8807937646",
   "metadata": {},
   "outputs": [],
   "source": [
    "# File A: df_final_experiment_clients.txt. Columns: client_id,Variation\n",
    "# File B: df_final_web_data_pt_1.          Columns: client_id,visitor_id,visit_id,process_step,date_time\n",
    "# File C: df_final_web_data_pt_2.          Columns: client_id,visitor_id,visit_id,process_step,date_tim\n",
    "# File D: df_final_demo                    Columns: client_id,clnt_tenure_yr,clnt_tenure_mnth,clnt_age,gendr,num_accts,bal,calls_6_mnth,logons_6_mnth"
   ]
  },
  {
   "cell_type": "code",
   "execution_count": 3,
   "id": "8410d10b-0f3f-4b23-9bf3-9987d8c880b9",
   "metadata": {},
   "outputs": [],
   "source": [
    "# Logic of the merging:\n",
    "# DONE 1. Merge B and C because they have the same column names and their values look similar. Use CONCAT because the client_id doesn't have to be the same values.\n",
    "# I only need the data from the client_ids that participated in the experiment. So, out of the client profile in df_final_demo, I only need the client_ids that exist also in df_final_experiment_clients.txt.\n",
    "# In order to do so, perform a left join, where left is df_final_experiment_clients.txt (all of its client_id rows will be kept) and right is df_final_demo."
   ]
  },
  {
   "cell_type": "code",
   "execution_count": 4,
   "id": "06829e49-bb62-4f4c-bba0-d16066bc7f08",
   "metadata": {},
   "outputs": [],
   "source": [
    "import pandas as pd\n",
    "\n",
    "df_final_web_data_pt_1 = pd.read_csv('https://raw.githubusercontent.com/data-bootcamp-v4/lessons/refs/heads/main/5_6_eda_inf_stats_tableau/project/files_for_project/df_final_web_data_pt_1.txt')"
   ]
  },
  {
   "cell_type": "code",
   "execution_count": 5,
   "id": "91ebe117-518e-438e-9fd2-9bd8477a3fd8",
   "metadata": {},
   "outputs": [
    {
     "data": {
      "text/html": [
       "<div>\n",
       "<style scoped>\n",
       "    .dataframe tbody tr th:only-of-type {\n",
       "        vertical-align: middle;\n",
       "    }\n",
       "\n",
       "    .dataframe tbody tr th {\n",
       "        vertical-align: top;\n",
       "    }\n",
       "\n",
       "    .dataframe thead th {\n",
       "        text-align: right;\n",
       "    }\n",
       "</style>\n",
       "<table border=\"1\" class=\"dataframe\">\n",
       "  <thead>\n",
       "    <tr style=\"text-align: right;\">\n",
       "      <th></th>\n",
       "      <th>client_id</th>\n",
       "      <th>visitor_id</th>\n",
       "      <th>visit_id</th>\n",
       "      <th>process_step</th>\n",
       "      <th>date_time</th>\n",
       "    </tr>\n",
       "  </thead>\n",
       "  <tbody>\n",
       "    <tr>\n",
       "      <th>0</th>\n",
       "      <td>9988021</td>\n",
       "      <td>580560515_7732621733</td>\n",
       "      <td>781255054_21935453173_531117</td>\n",
       "      <td>step_3</td>\n",
       "      <td>2017-04-17 15:27:07</td>\n",
       "    </tr>\n",
       "    <tr>\n",
       "      <th>1</th>\n",
       "      <td>9988021</td>\n",
       "      <td>580560515_7732621733</td>\n",
       "      <td>781255054_21935453173_531117</td>\n",
       "      <td>step_2</td>\n",
       "      <td>2017-04-17 15:26:51</td>\n",
       "    </tr>\n",
       "    <tr>\n",
       "      <th>2</th>\n",
       "      <td>9988021</td>\n",
       "      <td>580560515_7732621733</td>\n",
       "      <td>781255054_21935453173_531117</td>\n",
       "      <td>step_3</td>\n",
       "      <td>2017-04-17 15:19:22</td>\n",
       "    </tr>\n",
       "    <tr>\n",
       "      <th>3</th>\n",
       "      <td>9988021</td>\n",
       "      <td>580560515_7732621733</td>\n",
       "      <td>781255054_21935453173_531117</td>\n",
       "      <td>step_2</td>\n",
       "      <td>2017-04-17 15:19:13</td>\n",
       "    </tr>\n",
       "    <tr>\n",
       "      <th>4</th>\n",
       "      <td>9988021</td>\n",
       "      <td>580560515_7732621733</td>\n",
       "      <td>781255054_21935453173_531117</td>\n",
       "      <td>step_3</td>\n",
       "      <td>2017-04-17 15:18:04</td>\n",
       "    </tr>\n",
       "    <tr>\n",
       "      <th>...</th>\n",
       "      <td>...</td>\n",
       "      <td>...</td>\n",
       "      <td>...</td>\n",
       "      <td>...</td>\n",
       "      <td>...</td>\n",
       "    </tr>\n",
       "    <tr>\n",
       "      <th>343136</th>\n",
       "      <td>2443347</td>\n",
       "      <td>465784886_73090545671</td>\n",
       "      <td>136329900_10529659391_316129</td>\n",
       "      <td>confirm</td>\n",
       "      <td>2017-03-31 15:15:46</td>\n",
       "    </tr>\n",
       "    <tr>\n",
       "      <th>343137</th>\n",
       "      <td>2443347</td>\n",
       "      <td>465784886_73090545671</td>\n",
       "      <td>136329900_10529659391_316129</td>\n",
       "      <td>step_3</td>\n",
       "      <td>2017-03-31 15:14:53</td>\n",
       "    </tr>\n",
       "    <tr>\n",
       "      <th>343138</th>\n",
       "      <td>2443347</td>\n",
       "      <td>465784886_73090545671</td>\n",
       "      <td>136329900_10529659391_316129</td>\n",
       "      <td>step_2</td>\n",
       "      <td>2017-03-31 15:12:08</td>\n",
       "    </tr>\n",
       "    <tr>\n",
       "      <th>343139</th>\n",
       "      <td>2443347</td>\n",
       "      <td>465784886_73090545671</td>\n",
       "      <td>136329900_10529659391_316129</td>\n",
       "      <td>step_1</td>\n",
       "      <td>2017-03-31 15:11:37</td>\n",
       "    </tr>\n",
       "    <tr>\n",
       "      <th>343140</th>\n",
       "      <td>2443347</td>\n",
       "      <td>465784886_73090545671</td>\n",
       "      <td>136329900_10529659391_316129</td>\n",
       "      <td>start</td>\n",
       "      <td>2017-03-31 15:10:47</td>\n",
       "    </tr>\n",
       "  </tbody>\n",
       "</table>\n",
       "<p>343141 rows × 5 columns</p>\n",
       "</div>"
      ],
      "text/plain": [
       "        client_id             visitor_id                      visit_id  \\\n",
       "0         9988021   580560515_7732621733  781255054_21935453173_531117   \n",
       "1         9988021   580560515_7732621733  781255054_21935453173_531117   \n",
       "2         9988021   580560515_7732621733  781255054_21935453173_531117   \n",
       "3         9988021   580560515_7732621733  781255054_21935453173_531117   \n",
       "4         9988021   580560515_7732621733  781255054_21935453173_531117   \n",
       "...           ...                    ...                           ...   \n",
       "343136    2443347  465784886_73090545671  136329900_10529659391_316129   \n",
       "343137    2443347  465784886_73090545671  136329900_10529659391_316129   \n",
       "343138    2443347  465784886_73090545671  136329900_10529659391_316129   \n",
       "343139    2443347  465784886_73090545671  136329900_10529659391_316129   \n",
       "343140    2443347  465784886_73090545671  136329900_10529659391_316129   \n",
       "\n",
       "       process_step            date_time  \n",
       "0            step_3  2017-04-17 15:27:07  \n",
       "1            step_2  2017-04-17 15:26:51  \n",
       "2            step_3  2017-04-17 15:19:22  \n",
       "3            step_2  2017-04-17 15:19:13  \n",
       "4            step_3  2017-04-17 15:18:04  \n",
       "...             ...                  ...  \n",
       "343136      confirm  2017-03-31 15:15:46  \n",
       "343137       step_3  2017-03-31 15:14:53  \n",
       "343138       step_2  2017-03-31 15:12:08  \n",
       "343139       step_1  2017-03-31 15:11:37  \n",
       "343140        start  2017-03-31 15:10:47  \n",
       "\n",
       "[343141 rows x 5 columns]"
      ]
     },
     "execution_count": 5,
     "metadata": {},
     "output_type": "execute_result"
    }
   ],
   "source": [
    "df_final_web_data_pt_1"
   ]
  },
  {
   "cell_type": "code",
   "execution_count": 6,
   "id": "eb42654c-32ba-421e-9e5c-0843de7f6b37",
   "metadata": {},
   "outputs": [],
   "source": [
    "df_final_web_data_pt_2 = pd.read_csv('https://raw.githubusercontent.com/data-bootcamp-v4/lessons/refs/heads/main/5_6_eda_inf_stats_tableau/project/files_for_project/df_final_web_data_pt_2.txt')"
   ]
  },
  {
   "cell_type": "code",
   "execution_count": 7,
   "id": "32f5c69c-826a-47af-b5ec-8d041231e81a",
   "metadata": {},
   "outputs": [
    {
     "data": {
      "text/html": [
       "<div>\n",
       "<style scoped>\n",
       "    .dataframe tbody tr th:only-of-type {\n",
       "        vertical-align: middle;\n",
       "    }\n",
       "\n",
       "    .dataframe tbody tr th {\n",
       "        vertical-align: top;\n",
       "    }\n",
       "\n",
       "    .dataframe thead th {\n",
       "        text-align: right;\n",
       "    }\n",
       "</style>\n",
       "<table border=\"1\" class=\"dataframe\">\n",
       "  <thead>\n",
       "    <tr style=\"text-align: right;\">\n",
       "      <th></th>\n",
       "      <th>client_id</th>\n",
       "      <th>visitor_id</th>\n",
       "      <th>visit_id</th>\n",
       "      <th>process_step</th>\n",
       "      <th>date_time</th>\n",
       "    </tr>\n",
       "  </thead>\n",
       "  <tbody>\n",
       "    <tr>\n",
       "      <th>0</th>\n",
       "      <td>763412</td>\n",
       "      <td>601952081_10457207388</td>\n",
       "      <td>397475557_40440946728_419634</td>\n",
       "      <td>confirm</td>\n",
       "      <td>2017-06-06 08:56:00</td>\n",
       "    </tr>\n",
       "    <tr>\n",
       "      <th>1</th>\n",
       "      <td>6019349</td>\n",
       "      <td>442094451_91531546617</td>\n",
       "      <td>154620534_35331068705_522317</td>\n",
       "      <td>confirm</td>\n",
       "      <td>2017-06-01 11:59:27</td>\n",
       "    </tr>\n",
       "    <tr>\n",
       "      <th>2</th>\n",
       "      <td>6019349</td>\n",
       "      <td>442094451_91531546617</td>\n",
       "      <td>154620534_35331068705_522317</td>\n",
       "      <td>step_3</td>\n",
       "      <td>2017-06-01 11:58:48</td>\n",
       "    </tr>\n",
       "    <tr>\n",
       "      <th>3</th>\n",
       "      <td>6019349</td>\n",
       "      <td>442094451_91531546617</td>\n",
       "      <td>154620534_35331068705_522317</td>\n",
       "      <td>step_2</td>\n",
       "      <td>2017-06-01 11:58:08</td>\n",
       "    </tr>\n",
       "    <tr>\n",
       "      <th>4</th>\n",
       "      <td>6019349</td>\n",
       "      <td>442094451_91531546617</td>\n",
       "      <td>154620534_35331068705_522317</td>\n",
       "      <td>step_1</td>\n",
       "      <td>2017-06-01 11:57:58</td>\n",
       "    </tr>\n",
       "    <tr>\n",
       "      <th>...</th>\n",
       "      <td>...</td>\n",
       "      <td>...</td>\n",
       "      <td>...</td>\n",
       "      <td>...</td>\n",
       "      <td>...</td>\n",
       "    </tr>\n",
       "    <tr>\n",
       "      <th>412259</th>\n",
       "      <td>9668240</td>\n",
       "      <td>388766751_9038881013</td>\n",
       "      <td>922267647_3096648104_968866</td>\n",
       "      <td>start</td>\n",
       "      <td>2017-05-24 18:46:10</td>\n",
       "    </tr>\n",
       "    <tr>\n",
       "      <th>412260</th>\n",
       "      <td>9668240</td>\n",
       "      <td>388766751_9038881013</td>\n",
       "      <td>922267647_3096648104_968866</td>\n",
       "      <td>start</td>\n",
       "      <td>2017-05-24 18:45:29</td>\n",
       "    </tr>\n",
       "    <tr>\n",
       "      <th>412261</th>\n",
       "      <td>9668240</td>\n",
       "      <td>388766751_9038881013</td>\n",
       "      <td>922267647_3096648104_968866</td>\n",
       "      <td>step_1</td>\n",
       "      <td>2017-05-24 18:44:51</td>\n",
       "    </tr>\n",
       "    <tr>\n",
       "      <th>412262</th>\n",
       "      <td>9668240</td>\n",
       "      <td>388766751_9038881013</td>\n",
       "      <td>922267647_3096648104_968866</td>\n",
       "      <td>start</td>\n",
       "      <td>2017-05-24 18:44:34</td>\n",
       "    </tr>\n",
       "    <tr>\n",
       "      <th>412263</th>\n",
       "      <td>674799</td>\n",
       "      <td>947159805_81558194550</td>\n",
       "      <td>86152093_47511127657_716022</td>\n",
       "      <td>start</td>\n",
       "      <td>2017-06-03 12:17:09</td>\n",
       "    </tr>\n",
       "  </tbody>\n",
       "</table>\n",
       "<p>412264 rows × 5 columns</p>\n",
       "</div>"
      ],
      "text/plain": [
       "        client_id             visitor_id                      visit_id  \\\n",
       "0          763412  601952081_10457207388  397475557_40440946728_419634   \n",
       "1         6019349  442094451_91531546617  154620534_35331068705_522317   \n",
       "2         6019349  442094451_91531546617  154620534_35331068705_522317   \n",
       "3         6019349  442094451_91531546617  154620534_35331068705_522317   \n",
       "4         6019349  442094451_91531546617  154620534_35331068705_522317   \n",
       "...           ...                    ...                           ...   \n",
       "412259    9668240   388766751_9038881013   922267647_3096648104_968866   \n",
       "412260    9668240   388766751_9038881013   922267647_3096648104_968866   \n",
       "412261    9668240   388766751_9038881013   922267647_3096648104_968866   \n",
       "412262    9668240   388766751_9038881013   922267647_3096648104_968866   \n",
       "412263     674799  947159805_81558194550   86152093_47511127657_716022   \n",
       "\n",
       "       process_step            date_time  \n",
       "0           confirm  2017-06-06 08:56:00  \n",
       "1           confirm  2017-06-01 11:59:27  \n",
       "2            step_3  2017-06-01 11:58:48  \n",
       "3            step_2  2017-06-01 11:58:08  \n",
       "4            step_1  2017-06-01 11:57:58  \n",
       "...             ...                  ...  \n",
       "412259        start  2017-05-24 18:46:10  \n",
       "412260        start  2017-05-24 18:45:29  \n",
       "412261       step_1  2017-05-24 18:44:51  \n",
       "412262        start  2017-05-24 18:44:34  \n",
       "412263        start  2017-06-03 12:17:09  \n",
       "\n",
       "[412264 rows x 5 columns]"
      ]
     },
     "execution_count": 7,
     "metadata": {},
     "output_type": "execute_result"
    }
   ],
   "source": [
    "df_final_web_data_pt_2"
   ]
  },
  {
   "cell_type": "code",
   "execution_count": 8,
   "id": "e5a8849d-47bb-4597-92e1-6a690ef30796",
   "metadata": {},
   "outputs": [],
   "source": [
    "df_merged_final_web_data = pd.concat([df_final_web_data_pt_1, df_final_web_data_pt_2], axis=0)"
   ]
  },
  {
   "cell_type": "code",
   "execution_count": 9,
   "id": "8c51b0db-efb1-48fb-a419-1597fbbf7c60",
   "metadata": {},
   "outputs": [
    {
     "data": {
      "text/html": [
       "<div>\n",
       "<style scoped>\n",
       "    .dataframe tbody tr th:only-of-type {\n",
       "        vertical-align: middle;\n",
       "    }\n",
       "\n",
       "    .dataframe tbody tr th {\n",
       "        vertical-align: top;\n",
       "    }\n",
       "\n",
       "    .dataframe thead th {\n",
       "        text-align: right;\n",
       "    }\n",
       "</style>\n",
       "<table border=\"1\" class=\"dataframe\">\n",
       "  <thead>\n",
       "    <tr style=\"text-align: right;\">\n",
       "      <th></th>\n",
       "      <th>client_id</th>\n",
       "      <th>visitor_id</th>\n",
       "      <th>visit_id</th>\n",
       "      <th>process_step</th>\n",
       "      <th>date_time</th>\n",
       "    </tr>\n",
       "  </thead>\n",
       "  <tbody>\n",
       "    <tr>\n",
       "      <th>0</th>\n",
       "      <td>9988021</td>\n",
       "      <td>580560515_7732621733</td>\n",
       "      <td>781255054_21935453173_531117</td>\n",
       "      <td>step_3</td>\n",
       "      <td>2017-04-17 15:27:07</td>\n",
       "    </tr>\n",
       "    <tr>\n",
       "      <th>1</th>\n",
       "      <td>9988021</td>\n",
       "      <td>580560515_7732621733</td>\n",
       "      <td>781255054_21935453173_531117</td>\n",
       "      <td>step_2</td>\n",
       "      <td>2017-04-17 15:26:51</td>\n",
       "    </tr>\n",
       "    <tr>\n",
       "      <th>2</th>\n",
       "      <td>9988021</td>\n",
       "      <td>580560515_7732621733</td>\n",
       "      <td>781255054_21935453173_531117</td>\n",
       "      <td>step_3</td>\n",
       "      <td>2017-04-17 15:19:22</td>\n",
       "    </tr>\n",
       "    <tr>\n",
       "      <th>3</th>\n",
       "      <td>9988021</td>\n",
       "      <td>580560515_7732621733</td>\n",
       "      <td>781255054_21935453173_531117</td>\n",
       "      <td>step_2</td>\n",
       "      <td>2017-04-17 15:19:13</td>\n",
       "    </tr>\n",
       "    <tr>\n",
       "      <th>4</th>\n",
       "      <td>9988021</td>\n",
       "      <td>580560515_7732621733</td>\n",
       "      <td>781255054_21935453173_531117</td>\n",
       "      <td>step_3</td>\n",
       "      <td>2017-04-17 15:18:04</td>\n",
       "    </tr>\n",
       "    <tr>\n",
       "      <th>...</th>\n",
       "      <td>...</td>\n",
       "      <td>...</td>\n",
       "      <td>...</td>\n",
       "      <td>...</td>\n",
       "      <td>...</td>\n",
       "    </tr>\n",
       "    <tr>\n",
       "      <th>412259</th>\n",
       "      <td>9668240</td>\n",
       "      <td>388766751_9038881013</td>\n",
       "      <td>922267647_3096648104_968866</td>\n",
       "      <td>start</td>\n",
       "      <td>2017-05-24 18:46:10</td>\n",
       "    </tr>\n",
       "    <tr>\n",
       "      <th>412260</th>\n",
       "      <td>9668240</td>\n",
       "      <td>388766751_9038881013</td>\n",
       "      <td>922267647_3096648104_968866</td>\n",
       "      <td>start</td>\n",
       "      <td>2017-05-24 18:45:29</td>\n",
       "    </tr>\n",
       "    <tr>\n",
       "      <th>412261</th>\n",
       "      <td>9668240</td>\n",
       "      <td>388766751_9038881013</td>\n",
       "      <td>922267647_3096648104_968866</td>\n",
       "      <td>step_1</td>\n",
       "      <td>2017-05-24 18:44:51</td>\n",
       "    </tr>\n",
       "    <tr>\n",
       "      <th>412262</th>\n",
       "      <td>9668240</td>\n",
       "      <td>388766751_9038881013</td>\n",
       "      <td>922267647_3096648104_968866</td>\n",
       "      <td>start</td>\n",
       "      <td>2017-05-24 18:44:34</td>\n",
       "    </tr>\n",
       "    <tr>\n",
       "      <th>412263</th>\n",
       "      <td>674799</td>\n",
       "      <td>947159805_81558194550</td>\n",
       "      <td>86152093_47511127657_716022</td>\n",
       "      <td>start</td>\n",
       "      <td>2017-06-03 12:17:09</td>\n",
       "    </tr>\n",
       "  </tbody>\n",
       "</table>\n",
       "<p>755405 rows × 5 columns</p>\n",
       "</div>"
      ],
      "text/plain": [
       "        client_id             visitor_id                      visit_id  \\\n",
       "0         9988021   580560515_7732621733  781255054_21935453173_531117   \n",
       "1         9988021   580560515_7732621733  781255054_21935453173_531117   \n",
       "2         9988021   580560515_7732621733  781255054_21935453173_531117   \n",
       "3         9988021   580560515_7732621733  781255054_21935453173_531117   \n",
       "4         9988021   580560515_7732621733  781255054_21935453173_531117   \n",
       "...           ...                    ...                           ...   \n",
       "412259    9668240   388766751_9038881013   922267647_3096648104_968866   \n",
       "412260    9668240   388766751_9038881013   922267647_3096648104_968866   \n",
       "412261    9668240   388766751_9038881013   922267647_3096648104_968866   \n",
       "412262    9668240   388766751_9038881013   922267647_3096648104_968866   \n",
       "412263     674799  947159805_81558194550   86152093_47511127657_716022   \n",
       "\n",
       "       process_step            date_time  \n",
       "0            step_3  2017-04-17 15:27:07  \n",
       "1            step_2  2017-04-17 15:26:51  \n",
       "2            step_3  2017-04-17 15:19:22  \n",
       "3            step_2  2017-04-17 15:19:13  \n",
       "4            step_3  2017-04-17 15:18:04  \n",
       "...             ...                  ...  \n",
       "412259        start  2017-05-24 18:46:10  \n",
       "412260        start  2017-05-24 18:45:29  \n",
       "412261       step_1  2017-05-24 18:44:51  \n",
       "412262        start  2017-05-24 18:44:34  \n",
       "412263        start  2017-06-03 12:17:09  \n",
       "\n",
       "[755405 rows x 5 columns]"
      ]
     },
     "execution_count": 9,
     "metadata": {},
     "output_type": "execute_result"
    }
   ],
   "source": [
    "df_merged_final_web_data"
   ]
  },
  {
   "cell_type": "code",
   "execution_count": 10,
   "id": "d53eb90e-4569-453b-b63b-eef47bdb9ba6",
   "metadata": {},
   "outputs": [],
   "source": [
    "# They have been merged successfully, number of rows is the sum of both: 755405."
   ]
  },
  {
   "cell_type": "code",
   "execution_count": 11,
   "id": "34f7ae17-779c-4887-b78d-5d3b28346542",
   "metadata": {},
   "outputs": [],
   "source": [
    "df_final_experiment_clients = pd.read_csv('https://raw.githubusercontent.com/data-bootcamp-v4/lessons/refs/heads/main/5_6_eda_inf_stats_tableau/project/files_for_project/df_final_experiment_clients.txt')"
   ]
  },
  {
   "cell_type": "code",
   "execution_count": 12,
   "id": "ae57d2cb-0703-45f9-b9aa-a87750bbc52a",
   "metadata": {},
   "outputs": [
    {
     "data": {
      "text/html": [
       "<div>\n",
       "<style scoped>\n",
       "    .dataframe tbody tr th:only-of-type {\n",
       "        vertical-align: middle;\n",
       "    }\n",
       "\n",
       "    .dataframe tbody tr th {\n",
       "        vertical-align: top;\n",
       "    }\n",
       "\n",
       "    .dataframe thead th {\n",
       "        text-align: right;\n",
       "    }\n",
       "</style>\n",
       "<table border=\"1\" class=\"dataframe\">\n",
       "  <thead>\n",
       "    <tr style=\"text-align: right;\">\n",
       "      <th></th>\n",
       "      <th>client_id</th>\n",
       "      <th>Variation</th>\n",
       "    </tr>\n",
       "  </thead>\n",
       "  <tbody>\n",
       "    <tr>\n",
       "      <th>0</th>\n",
       "      <td>9988021</td>\n",
       "      <td>Test</td>\n",
       "    </tr>\n",
       "    <tr>\n",
       "      <th>1</th>\n",
       "      <td>8320017</td>\n",
       "      <td>Test</td>\n",
       "    </tr>\n",
       "    <tr>\n",
       "      <th>2</th>\n",
       "      <td>4033851</td>\n",
       "      <td>Control</td>\n",
       "    </tr>\n",
       "    <tr>\n",
       "      <th>3</th>\n",
       "      <td>1982004</td>\n",
       "      <td>Test</td>\n",
       "    </tr>\n",
       "    <tr>\n",
       "      <th>4</th>\n",
       "      <td>9294070</td>\n",
       "      <td>Control</td>\n",
       "    </tr>\n",
       "    <tr>\n",
       "      <th>...</th>\n",
       "      <td>...</td>\n",
       "      <td>...</td>\n",
       "    </tr>\n",
       "    <tr>\n",
       "      <th>70604</th>\n",
       "      <td>2443347</td>\n",
       "      <td>NaN</td>\n",
       "    </tr>\n",
       "    <tr>\n",
       "      <th>70605</th>\n",
       "      <td>8788427</td>\n",
       "      <td>NaN</td>\n",
       "    </tr>\n",
       "    <tr>\n",
       "      <th>70606</th>\n",
       "      <td>266828</td>\n",
       "      <td>NaN</td>\n",
       "    </tr>\n",
       "    <tr>\n",
       "      <th>70607</th>\n",
       "      <td>1266421</td>\n",
       "      <td>NaN</td>\n",
       "    </tr>\n",
       "    <tr>\n",
       "      <th>70608</th>\n",
       "      <td>9895983</td>\n",
       "      <td>NaN</td>\n",
       "    </tr>\n",
       "  </tbody>\n",
       "</table>\n",
       "<p>70609 rows × 2 columns</p>\n",
       "</div>"
      ],
      "text/plain": [
       "       client_id Variation\n",
       "0        9988021      Test\n",
       "1        8320017      Test\n",
       "2        4033851   Control\n",
       "3        1982004      Test\n",
       "4        9294070   Control\n",
       "...          ...       ...\n",
       "70604    2443347       NaN\n",
       "70605    8788427       NaN\n",
       "70606     266828       NaN\n",
       "70607    1266421       NaN\n",
       "70608    9895983       NaN\n",
       "\n",
       "[70609 rows x 2 columns]"
      ]
     },
     "execution_count": 12,
     "metadata": {},
     "output_type": "execute_result"
    }
   ],
   "source": [
    "df_final_experiment_clients"
   ]
  },
  {
   "cell_type": "code",
   "execution_count": 13,
   "id": "c12974ae-8529-43ba-8b41-a4f6c88dd802",
   "metadata": {},
   "outputs": [],
   "source": [
    "df_final_demo = pd.read_csv('https://raw.githubusercontent.com/data-bootcamp-v4/lessons/refs/heads/main/5_6_eda_inf_stats_tableau/project/files_for_project/df_final_demo.txt')"
   ]
  },
  {
   "cell_type": "code",
   "execution_count": 14,
   "id": "3194ea0e-d2e1-4d45-90ea-78e601b07cbe",
   "metadata": {},
   "outputs": [
    {
     "data": {
      "text/html": [
       "<div>\n",
       "<style scoped>\n",
       "    .dataframe tbody tr th:only-of-type {\n",
       "        vertical-align: middle;\n",
       "    }\n",
       "\n",
       "    .dataframe tbody tr th {\n",
       "        vertical-align: top;\n",
       "    }\n",
       "\n",
       "    .dataframe thead th {\n",
       "        text-align: right;\n",
       "    }\n",
       "</style>\n",
       "<table border=\"1\" class=\"dataframe\">\n",
       "  <thead>\n",
       "    <tr style=\"text-align: right;\">\n",
       "      <th></th>\n",
       "      <th>client_id</th>\n",
       "      <th>clnt_tenure_yr</th>\n",
       "      <th>clnt_tenure_mnth</th>\n",
       "      <th>clnt_age</th>\n",
       "      <th>gendr</th>\n",
       "      <th>num_accts</th>\n",
       "      <th>bal</th>\n",
       "      <th>calls_6_mnth</th>\n",
       "      <th>logons_6_mnth</th>\n",
       "    </tr>\n",
       "  </thead>\n",
       "  <tbody>\n",
       "    <tr>\n",
       "      <th>0</th>\n",
       "      <td>836976</td>\n",
       "      <td>6.0</td>\n",
       "      <td>73.0</td>\n",
       "      <td>60.5</td>\n",
       "      <td>U</td>\n",
       "      <td>2.0</td>\n",
       "      <td>45105.30</td>\n",
       "      <td>6.0</td>\n",
       "      <td>9.0</td>\n",
       "    </tr>\n",
       "    <tr>\n",
       "      <th>1</th>\n",
       "      <td>2304905</td>\n",
       "      <td>7.0</td>\n",
       "      <td>94.0</td>\n",
       "      <td>58.0</td>\n",
       "      <td>U</td>\n",
       "      <td>2.0</td>\n",
       "      <td>110860.30</td>\n",
       "      <td>6.0</td>\n",
       "      <td>9.0</td>\n",
       "    </tr>\n",
       "    <tr>\n",
       "      <th>2</th>\n",
       "      <td>1439522</td>\n",
       "      <td>5.0</td>\n",
       "      <td>64.0</td>\n",
       "      <td>32.0</td>\n",
       "      <td>U</td>\n",
       "      <td>2.0</td>\n",
       "      <td>52467.79</td>\n",
       "      <td>6.0</td>\n",
       "      <td>9.0</td>\n",
       "    </tr>\n",
       "    <tr>\n",
       "      <th>3</th>\n",
       "      <td>1562045</td>\n",
       "      <td>16.0</td>\n",
       "      <td>198.0</td>\n",
       "      <td>49.0</td>\n",
       "      <td>M</td>\n",
       "      <td>2.0</td>\n",
       "      <td>67454.65</td>\n",
       "      <td>3.0</td>\n",
       "      <td>6.0</td>\n",
       "    </tr>\n",
       "    <tr>\n",
       "      <th>4</th>\n",
       "      <td>5126305</td>\n",
       "      <td>12.0</td>\n",
       "      <td>145.0</td>\n",
       "      <td>33.0</td>\n",
       "      <td>F</td>\n",
       "      <td>2.0</td>\n",
       "      <td>103671.75</td>\n",
       "      <td>0.0</td>\n",
       "      <td>3.0</td>\n",
       "    </tr>\n",
       "    <tr>\n",
       "      <th>...</th>\n",
       "      <td>...</td>\n",
       "      <td>...</td>\n",
       "      <td>...</td>\n",
       "      <td>...</td>\n",
       "      <td>...</td>\n",
       "      <td>...</td>\n",
       "      <td>...</td>\n",
       "      <td>...</td>\n",
       "      <td>...</td>\n",
       "    </tr>\n",
       "    <tr>\n",
       "      <th>70604</th>\n",
       "      <td>7993686</td>\n",
       "      <td>4.0</td>\n",
       "      <td>56.0</td>\n",
       "      <td>38.5</td>\n",
       "      <td>U</td>\n",
       "      <td>3.0</td>\n",
       "      <td>1411062.68</td>\n",
       "      <td>5.0</td>\n",
       "      <td>5.0</td>\n",
       "    </tr>\n",
       "    <tr>\n",
       "      <th>70605</th>\n",
       "      <td>8981690</td>\n",
       "      <td>12.0</td>\n",
       "      <td>148.0</td>\n",
       "      <td>31.0</td>\n",
       "      <td>M</td>\n",
       "      <td>2.0</td>\n",
       "      <td>101867.07</td>\n",
       "      <td>6.0</td>\n",
       "      <td>6.0</td>\n",
       "    </tr>\n",
       "    <tr>\n",
       "      <th>70606</th>\n",
       "      <td>333913</td>\n",
       "      <td>16.0</td>\n",
       "      <td>198.0</td>\n",
       "      <td>61.5</td>\n",
       "      <td>F</td>\n",
       "      <td>2.0</td>\n",
       "      <td>40745.00</td>\n",
       "      <td>3.0</td>\n",
       "      <td>3.0</td>\n",
       "    </tr>\n",
       "    <tr>\n",
       "      <th>70607</th>\n",
       "      <td>1573142</td>\n",
       "      <td>21.0</td>\n",
       "      <td>255.0</td>\n",
       "      <td>68.0</td>\n",
       "      <td>M</td>\n",
       "      <td>3.0</td>\n",
       "      <td>475114.69</td>\n",
       "      <td>4.0</td>\n",
       "      <td>4.0</td>\n",
       "    </tr>\n",
       "    <tr>\n",
       "      <th>70608</th>\n",
       "      <td>5602139</td>\n",
       "      <td>21.0</td>\n",
       "      <td>254.0</td>\n",
       "      <td>59.5</td>\n",
       "      <td>F</td>\n",
       "      <td>3.0</td>\n",
       "      <td>157498.73</td>\n",
       "      <td>7.0</td>\n",
       "      <td>7.0</td>\n",
       "    </tr>\n",
       "  </tbody>\n",
       "</table>\n",
       "<p>70609 rows × 9 columns</p>\n",
       "</div>"
      ],
      "text/plain": [
       "       client_id  clnt_tenure_yr  clnt_tenure_mnth  clnt_age gendr  num_accts  \\\n",
       "0         836976             6.0              73.0      60.5     U        2.0   \n",
       "1        2304905             7.0              94.0      58.0     U        2.0   \n",
       "2        1439522             5.0              64.0      32.0     U        2.0   \n",
       "3        1562045            16.0             198.0      49.0     M        2.0   \n",
       "4        5126305            12.0             145.0      33.0     F        2.0   \n",
       "...          ...             ...               ...       ...   ...        ...   \n",
       "70604    7993686             4.0              56.0      38.5     U        3.0   \n",
       "70605    8981690            12.0             148.0      31.0     M        2.0   \n",
       "70606     333913            16.0             198.0      61.5     F        2.0   \n",
       "70607    1573142            21.0             255.0      68.0     M        3.0   \n",
       "70608    5602139            21.0             254.0      59.5     F        3.0   \n",
       "\n",
       "              bal  calls_6_mnth  logons_6_mnth  \n",
       "0        45105.30           6.0            9.0  \n",
       "1       110860.30           6.0            9.0  \n",
       "2        52467.79           6.0            9.0  \n",
       "3        67454.65           3.0            6.0  \n",
       "4       103671.75           0.0            3.0  \n",
       "...           ...           ...            ...  \n",
       "70604  1411062.68           5.0            5.0  \n",
       "70605   101867.07           6.0            6.0  \n",
       "70606    40745.00           3.0            3.0  \n",
       "70607   475114.69           4.0            4.0  \n",
       "70608   157498.73           7.0            7.0  \n",
       "\n",
       "[70609 rows x 9 columns]"
      ]
     },
     "execution_count": 14,
     "metadata": {},
     "output_type": "execute_result"
    }
   ],
   "source": [
    "df_final_demo"
   ]
  },
  {
   "cell_type": "code",
   "execution_count": 15,
   "id": "84e51954-df43-4567-8b1e-f41e0dd2a1a3",
   "metadata": {},
   "outputs": [],
   "source": [
    "merged_left_final_experiment_and_final_demo = pd.merge(df_final_experiment_clients, df_final_demo, on='client_id', how='left')"
   ]
  },
  {
   "cell_type": "code",
   "execution_count": 16,
   "id": "d28c07ca-3710-45cd-97c6-567f200b83d7",
   "metadata": {},
   "outputs": [
    {
     "data": {
      "text/html": [
       "<div>\n",
       "<style scoped>\n",
       "    .dataframe tbody tr th:only-of-type {\n",
       "        vertical-align: middle;\n",
       "    }\n",
       "\n",
       "    .dataframe tbody tr th {\n",
       "        vertical-align: top;\n",
       "    }\n",
       "\n",
       "    .dataframe thead th {\n",
       "        text-align: right;\n",
       "    }\n",
       "</style>\n",
       "<table border=\"1\" class=\"dataframe\">\n",
       "  <thead>\n",
       "    <tr style=\"text-align: right;\">\n",
       "      <th></th>\n",
       "      <th>client_id</th>\n",
       "      <th>Variation</th>\n",
       "      <th>clnt_tenure_yr</th>\n",
       "      <th>clnt_tenure_mnth</th>\n",
       "      <th>clnt_age</th>\n",
       "      <th>gendr</th>\n",
       "      <th>num_accts</th>\n",
       "      <th>bal</th>\n",
       "      <th>calls_6_mnth</th>\n",
       "      <th>logons_6_mnth</th>\n",
       "    </tr>\n",
       "  </thead>\n",
       "  <tbody>\n",
       "    <tr>\n",
       "      <th>0</th>\n",
       "      <td>9988021</td>\n",
       "      <td>Test</td>\n",
       "      <td>5.0</td>\n",
       "      <td>64.0</td>\n",
       "      <td>79.0</td>\n",
       "      <td>U</td>\n",
       "      <td>2.0</td>\n",
       "      <td>189023.86</td>\n",
       "      <td>1.0</td>\n",
       "      <td>4.0</td>\n",
       "    </tr>\n",
       "    <tr>\n",
       "      <th>1</th>\n",
       "      <td>8320017</td>\n",
       "      <td>Test</td>\n",
       "      <td>22.0</td>\n",
       "      <td>274.0</td>\n",
       "      <td>34.5</td>\n",
       "      <td>M</td>\n",
       "      <td>2.0</td>\n",
       "      <td>36001.90</td>\n",
       "      <td>5.0</td>\n",
       "      <td>8.0</td>\n",
       "    </tr>\n",
       "    <tr>\n",
       "      <th>2</th>\n",
       "      <td>4033851</td>\n",
       "      <td>Control</td>\n",
       "      <td>12.0</td>\n",
       "      <td>149.0</td>\n",
       "      <td>63.5</td>\n",
       "      <td>M</td>\n",
       "      <td>2.0</td>\n",
       "      <td>142642.26</td>\n",
       "      <td>5.0</td>\n",
       "      <td>8.0</td>\n",
       "    </tr>\n",
       "    <tr>\n",
       "      <th>3</th>\n",
       "      <td>1982004</td>\n",
       "      <td>Test</td>\n",
       "      <td>6.0</td>\n",
       "      <td>80.0</td>\n",
       "      <td>44.5</td>\n",
       "      <td>U</td>\n",
       "      <td>2.0</td>\n",
       "      <td>30231.76</td>\n",
       "      <td>1.0</td>\n",
       "      <td>4.0</td>\n",
       "    </tr>\n",
       "    <tr>\n",
       "      <th>4</th>\n",
       "      <td>9294070</td>\n",
       "      <td>Control</td>\n",
       "      <td>5.0</td>\n",
       "      <td>70.0</td>\n",
       "      <td>29.0</td>\n",
       "      <td>U</td>\n",
       "      <td>2.0</td>\n",
       "      <td>34254.54</td>\n",
       "      <td>0.0</td>\n",
       "      <td>3.0</td>\n",
       "    </tr>\n",
       "    <tr>\n",
       "      <th>...</th>\n",
       "      <td>...</td>\n",
       "      <td>...</td>\n",
       "      <td>...</td>\n",
       "      <td>...</td>\n",
       "      <td>...</td>\n",
       "      <td>...</td>\n",
       "      <td>...</td>\n",
       "      <td>...</td>\n",
       "      <td>...</td>\n",
       "      <td>...</td>\n",
       "    </tr>\n",
       "    <tr>\n",
       "      <th>70604</th>\n",
       "      <td>2443347</td>\n",
       "      <td>NaN</td>\n",
       "      <td>17.0</td>\n",
       "      <td>204.0</td>\n",
       "      <td>52.5</td>\n",
       "      <td>M</td>\n",
       "      <td>3.0</td>\n",
       "      <td>164693.48</td>\n",
       "      <td>7.0</td>\n",
       "      <td>7.0</td>\n",
       "    </tr>\n",
       "    <tr>\n",
       "      <th>70605</th>\n",
       "      <td>8788427</td>\n",
       "      <td>NaN</td>\n",
       "      <td>10.0</td>\n",
       "      <td>121.0</td>\n",
       "      <td>59.5</td>\n",
       "      <td>M</td>\n",
       "      <td>2.0</td>\n",
       "      <td>203149.13</td>\n",
       "      <td>3.0</td>\n",
       "      <td>3.0</td>\n",
       "    </tr>\n",
       "    <tr>\n",
       "      <th>70606</th>\n",
       "      <td>266828</td>\n",
       "      <td>NaN</td>\n",
       "      <td>14.0</td>\n",
       "      <td>172.0</td>\n",
       "      <td>60.5</td>\n",
       "      <td>M</td>\n",
       "      <td>2.0</td>\n",
       "      <td>1135068.68</td>\n",
       "      <td>7.0</td>\n",
       "      <td>7.0</td>\n",
       "    </tr>\n",
       "    <tr>\n",
       "      <th>70607</th>\n",
       "      <td>1266421</td>\n",
       "      <td>NaN</td>\n",
       "      <td>13.0</td>\n",
       "      <td>164.0</td>\n",
       "      <td>33.0</td>\n",
       "      <td>M</td>\n",
       "      <td>3.0</td>\n",
       "      <td>27701.79</td>\n",
       "      <td>2.0</td>\n",
       "      <td>3.0</td>\n",
       "    </tr>\n",
       "    <tr>\n",
       "      <th>70608</th>\n",
       "      <td>9895983</td>\n",
       "      <td>NaN</td>\n",
       "      <td>10.0</td>\n",
       "      <td>121.0</td>\n",
       "      <td>49.0</td>\n",
       "      <td>M</td>\n",
       "      <td>2.0</td>\n",
       "      <td>97748.22</td>\n",
       "      <td>2.0</td>\n",
       "      <td>2.0</td>\n",
       "    </tr>\n",
       "  </tbody>\n",
       "</table>\n",
       "<p>70609 rows × 10 columns</p>\n",
       "</div>"
      ],
      "text/plain": [
       "       client_id Variation  clnt_tenure_yr  clnt_tenure_mnth  clnt_age gendr  \\\n",
       "0        9988021      Test             5.0              64.0      79.0     U   \n",
       "1        8320017      Test            22.0             274.0      34.5     M   \n",
       "2        4033851   Control            12.0             149.0      63.5     M   \n",
       "3        1982004      Test             6.0              80.0      44.5     U   \n",
       "4        9294070   Control             5.0              70.0      29.0     U   \n",
       "...          ...       ...             ...               ...       ...   ...   \n",
       "70604    2443347       NaN            17.0             204.0      52.5     M   \n",
       "70605    8788427       NaN            10.0             121.0      59.5     M   \n",
       "70606     266828       NaN            14.0             172.0      60.5     M   \n",
       "70607    1266421       NaN            13.0             164.0      33.0     M   \n",
       "70608    9895983       NaN            10.0             121.0      49.0     M   \n",
       "\n",
       "       num_accts         bal  calls_6_mnth  logons_6_mnth  \n",
       "0            2.0   189023.86           1.0            4.0  \n",
       "1            2.0    36001.90           5.0            8.0  \n",
       "2            2.0   142642.26           5.0            8.0  \n",
       "3            2.0    30231.76           1.0            4.0  \n",
       "4            2.0    34254.54           0.0            3.0  \n",
       "...          ...         ...           ...            ...  \n",
       "70604        3.0   164693.48           7.0            7.0  \n",
       "70605        2.0   203149.13           3.0            3.0  \n",
       "70606        2.0  1135068.68           7.0            7.0  \n",
       "70607        3.0    27701.79           2.0            3.0  \n",
       "70608        2.0    97748.22           2.0            2.0  \n",
       "\n",
       "[70609 rows x 10 columns]"
      ]
     },
     "execution_count": 16,
     "metadata": {},
     "output_type": "execute_result"
    }
   ],
   "source": [
    "merged_left_final_experiment_and_final_demo"
   ]
  },
  {
   "cell_type": "code",
   "execution_count": 17,
   "id": "2c6288ca-ad98-493e-a42a-82dc65139c27",
   "metadata": {},
   "outputs": [],
   "source": [
    "import matplotlib.pyplot as plt\n",
    "import seaborn as sns\n",
    "import numpy as np\n",
    "\n",
    "%matplotlib inline"
   ]
  },
  {
   "cell_type": "code",
   "execution_count": 18,
   "id": "63d1e774-58ea-4b03-9c10-6b05d75127f7",
   "metadata": {},
   "outputs": [],
   "source": [
    "# Stop running cells here, the data cleaning starts here."
   ]
  },
  {
   "cell_type": "code",
   "execution_count": 19,
   "id": "81ef4cd9-adad-4bfe-bff4-8dc96175c211",
   "metadata": {},
   "outputs": [],
   "source": [
    "# Check what and how many rows have NaN for the \"Variation\" column. This means that they didn't participate in the experiment."
   ]
  },
  {
   "cell_type": "code",
   "execution_count": 20,
   "id": "1b6d5d47-4b2b-4db7-a788-59a56e55210b",
   "metadata": {},
   "outputs": [
    {
     "data": {
      "text/plain": [
       "client_id           False\n",
       "Variation            True\n",
       "clnt_tenure_yr       True\n",
       "clnt_tenure_mnth     True\n",
       "clnt_age             True\n",
       "gendr                True\n",
       "num_accts            True\n",
       "bal                  True\n",
       "calls_6_mnth         True\n",
       "logons_6_mnth        True\n",
       "dtype: bool"
      ]
     },
     "execution_count": 20,
     "metadata": {},
     "output_type": "execute_result"
    }
   ],
   "source": [
    "# Check for null values in each column\n",
    "merged_left_final_experiment_and_final_demo.isna().any()"
   ]
  },
  {
   "cell_type": "code",
   "execution_count": 21,
   "id": "f9883a49-eb49-4446-8dd1-a2fcd899e560",
   "metadata": {},
   "outputs": [
    {
     "data": {
      "text/plain": [
       "client_id               0\n",
       "Variation           20109\n",
       "clnt_tenure_yr         14\n",
       "clnt_tenure_mnth       14\n",
       "clnt_age               15\n",
       "gendr                  14\n",
       "num_accts              14\n",
       "bal                    14\n",
       "calls_6_mnth           14\n",
       "logons_6_mnth          14\n",
       "dtype: int64"
      ]
     },
     "execution_count": 21,
     "metadata": {},
     "output_type": "execute_result"
    }
   ],
   "source": [
    "# Count the number of null values in each column\n",
    "merged_left_final_experiment_and_final_demo.isna().sum()"
   ]
  },
  {
   "cell_type": "code",
   "execution_count": 22,
   "id": "907c78bf-22eb-4145-8189-bde0a3ab97b1",
   "metadata": {},
   "outputs": [],
   "source": [
    "# Out of 70609 rows (client_ids), 20109 have Nan for \"Variation\". They didn't participate in the experiment. We will drop these rows."
   ]
  },
  {
   "cell_type": "code",
   "execution_count": 23,
   "id": "fab7ce98-fd4e-45d1-a638-56a0c5c3a954",
   "metadata": {},
   "outputs": [],
   "source": [
    "merged_left_final_experiment_and_final_demo.dropna(subset=['Variation'], inplace=True)"
   ]
  },
  {
   "cell_type": "code",
   "execution_count": 24,
   "id": "355913ca-a39e-4544-b17d-fc689672ddef",
   "metadata": {},
   "outputs": [],
   "source": [
    "merged_left_final_experiment_and_final_demo = merged_left_final_experiment_and_final_demo.dropna(subset=['Variation'])"
   ]
  },
  {
   "cell_type": "code",
   "execution_count": 25,
   "id": "85ce054e-98c0-4e28-928e-946c9f16d4aa",
   "metadata": {},
   "outputs": [],
   "source": [
    "merged_client_profile = merged_left_final_experiment_and_final_demo"
   ]
  },
  {
   "cell_type": "code",
   "execution_count": 26,
   "id": "246de89c-c257-4be4-9423-b8baaed412b3",
   "metadata": {},
   "outputs": [
    {
     "data": {
      "text/plain": [
       "client_id            0\n",
       "Variation            0\n",
       "clnt_tenure_yr      12\n",
       "clnt_tenure_mnth    12\n",
       "clnt_age            13\n",
       "gendr               12\n",
       "num_accts           12\n",
       "bal                 12\n",
       "calls_6_mnth        12\n",
       "logons_6_mnth       12\n",
       "dtype: int64"
      ]
     },
     "execution_count": 26,
     "metadata": {},
     "output_type": "execute_result"
    }
   ],
   "source": [
    "merged_client_profile.isna().sum()"
   ]
  },
  {
   "cell_type": "code",
   "execution_count": 27,
   "id": "59904932-fd9a-4cd2-bf8b-9a67f81d7e5e",
   "metadata": {},
   "outputs": [],
   "source": [
    "# Check if data types for columns are correct. There seems to be no problem here."
   ]
  },
  {
   "cell_type": "code",
   "execution_count": 28,
   "id": "f6502e20-e1a4-4dbd-9806-a5980467b698",
   "metadata": {},
   "outputs": [
    {
     "data": {
      "text/plain": [
       "client_id             int64\n",
       "Variation            object\n",
       "clnt_tenure_yr      float64\n",
       "clnt_tenure_mnth    float64\n",
       "clnt_age            float64\n",
       "gendr                object\n",
       "num_accts           float64\n",
       "bal                 float64\n",
       "calls_6_mnth        float64\n",
       "logons_6_mnth       float64\n",
       "dtype: object"
      ]
     },
     "execution_count": 28,
     "metadata": {},
     "output_type": "execute_result"
    }
   ],
   "source": [
    "merged_client_profile.dtypes"
   ]
  },
  {
   "cell_type": "code",
   "execution_count": 29,
   "id": "96cbfce5-b25e-4407-ba88-0387317d9191",
   "metadata": {},
   "outputs": [
    {
     "data": {
      "text/plain": [
       "50500"
      ]
     },
     "execution_count": 29,
     "metadata": {},
     "output_type": "execute_result"
    }
   ],
   "source": [
    "# Find out how many unique client_ids there are.\n",
    "unique_client_count_merged_left_final_experiment_and_final_demo = merged_left_final_experiment_and_final_demo[\"client_id\"].nunique()\n",
    "\n",
    "unique_client_count_merged_left_final_experiment_and_final_demo"
   ]
  },
  {
   "cell_type": "code",
   "execution_count": 30,
   "id": "61e59d15-dd6f-40e4-a47d-acda404d5c8c",
   "metadata": {},
   "outputs": [],
   "source": [
    "# In the final demo (before merging), 14 client_id rows do not have any value for tenure, neither in years nor in months (values in both columns are blank, NaN)."
   ]
  },
  {
   "cell_type": "code",
   "execution_count": 31,
   "id": "671734e5-cf4d-4f45-b772-1010d0225d6f",
   "metadata": {},
   "outputs": [],
   "source": [
    "# Drop these 14 rows. And drop also the client_id 4666211, because this person has their data filled from the profile, except for their age.\n",
    "# NOT DONE"
   ]
  },
  {
   "cell_type": "code",
   "execution_count": 32,
   "id": "67b3d18f-5503-4af9-af18-ef0c0ebd5492",
   "metadata": {},
   "outputs": [],
   "source": [
    "merged_client_profile = merged_client_profile.dropna(subset=['clnt_age'], inplace=True)"
   ]
  },
  {
   "cell_type": "code",
   "execution_count": 33,
   "id": "83b6242c-5d98-42de-bac9-2675509140e4",
   "metadata": {},
   "outputs": [
    {
     "ename": "AttributeError",
     "evalue": "'NoneType' object has no attribute 'isna'",
     "output_type": "error",
     "traceback": [
      "\u001b[1;31m---------------------------------------------------------------------------\u001b[0m",
      "\u001b[1;31mAttributeError\u001b[0m                            Traceback (most recent call last)",
      "Cell \u001b[1;32mIn[33], line 1\u001b[0m\n\u001b[1;32m----> 1\u001b[0m merged_client_profile\u001b[38;5;241m.\u001b[39misna()\u001b[38;5;241m.\u001b[39msum()\n",
      "\u001b[1;31mAttributeError\u001b[0m: 'NoneType' object has no attribute 'isna'"
     ]
    }
   ],
   "source": [
    "merged_client_profile.isna().sum()"
   ]
  },
  {
   "cell_type": "code",
   "execution_count": null,
   "id": "5fec1c97-9a12-41d7-a7f9-b8d2accd6842",
   "metadata": {},
   "outputs": [],
   "source": [
    "merged_client_profile.isna().sum()"
   ]
  },
  {
   "cell_type": "code",
   "execution_count": null,
   "id": "6ae1dd6e-b6b9-4ac8-bb0d-cb13cb77564e",
   "metadata": {},
   "outputs": [],
   "source": [
    "# Now, there are no NaN values in any of the columns."
   ]
  },
  {
   "cell_type": "code",
   "execution_count": null,
   "id": "606fe116-a7c1-4675-8189-7ffd312cf37c",
   "metadata": {},
   "outputs": [],
   "source": [
    "sns.barplot(x=frequency_table.index, y=frequency_table.values, hue=frequency_table.index, palette=\"Set3\", legend=False)"
   ]
  },
  {
   "cell_type": "code",
   "execution_count": null,
   "id": "6bff56a3-7b9a-459f-b930-57bd2a180fba",
   "metadata": {},
   "outputs": [],
   "source": [
    "import matplotlib.pyplot as plt\n",
    "plt.show()"
   ]
  },
  {
   "cell_type": "code",
   "execution_count": null,
   "id": "cf016f64-39ac-41b1-b8e3-470badc08c51",
   "metadata": {},
   "outputs": [],
   "source": [
    "# I need to clean the \"bal\" column for the values that contain 9999999900 at the end. Do not drop rows, but substitute values.\n",
    "# NOT DONE"
   ]
  },
  {
   "cell_type": "code",
   "execution_count": null,
   "id": "6354e534-a8c1-4214-a646-6ada29034572",
   "metadata": {},
   "outputs": [],
   "source": []
  },
  {
   "cell_type": "code",
   "execution_count": null,
   "id": "53b3d6ea-4389-4bb2-933b-9410ace1fdfc",
   "metadata": {},
   "outputs": [],
   "source": []
  },
  {
   "cell_type": "code",
   "execution_count": null,
   "id": "e15966cf-88b3-4b1e-8c0c-b6d1acdb9564",
   "metadata": {},
   "outputs": [],
   "source": [
    "x = txt.rstrip(\"9999999900\")"
   ]
  },
  {
   "cell_type": "code",
   "execution_count": null,
   "id": "3f7172c2-9782-4a4f-9e2a-75e0b79788b3",
   "metadata": {},
   "outputs": [],
   "source": [
    "# Export to CSV merged_client_profile\n",
    "merged_client_profile.to_csv(\"merged_client_profile.csv\", index=False, encoding=\"utf-8\")"
   ]
  },
  {
   "cell_type": "code",
   "execution_count": null,
   "id": "937e2b54-af7f-4567-a5d8-4c1610fcadbf",
   "metadata": {},
   "outputs": [],
   "source": [
    "# Merge merged_client_profile with df_merged_final_web_data with an inner join.\n",
    "# I did an outer join, and there were no unmatched values left or right. That means the number of unique values of client_id is the same,\n",
    "# regardless of join type. So I have peformed an inner join below (and deleted the previous outher join).\n",
    "# THIS IS DONE"
   ]
  },
  {
   "cell_type": "code",
   "execution_count": null,
   "id": "a1b80b2a-273c-45af-a98f-748578175cd6",
   "metadata": {},
   "outputs": [],
   "source": [
    "df_4_csvs_inner = pd.merge(merged_left_final_experiment_and_final_demo, df_merged_final_web_data , on='client_id', how='inner')"
   ]
  },
  {
   "cell_type": "code",
   "execution_count": null,
   "id": "f3c57528-b5d9-4bc1-8475-73de956f0ddc",
   "metadata": {},
   "outputs": [],
   "source": [
    "df_4_csvs_inner"
   ]
  },
  {
   "cell_type": "code",
   "execution_count": null,
   "id": "562e9039-d103-4b5d-8f4b-8054c6ef6ac2",
   "metadata": {},
   "outputs": [],
   "source": [
    "df_4_csvs_inner.isna().sum()"
   ]
  },
  {
   "cell_type": "code",
   "execution_count": null,
   "id": "d9437109-61c7-4eb6-bec4-93bc0812d180",
   "metadata": {},
   "outputs": [],
   "source": [
    "# Find out what this 114 clients without an age are. If it makes sense, drop these rows.\n",
    "# NOT DONE"
   ]
  },
  {
   "cell_type": "code",
   "execution_count": null,
   "id": "b5b12803-c8fe-4536-9020-41c663cf1fb3",
   "metadata": {},
   "outputs": [],
   "source": [
    "# Find out how many unique client_ids there are.\n",
    "unique_client_count = df_4_csvs_inner[\"client_id\"].nunique()\n",
    "\n",
    "unique_client_count"
   ]
  },
  {
   "cell_type": "code",
   "execution_count": null,
   "id": "8d7aba54-be08-4e48-8494-75af20e43503",
   "metadata": {},
   "outputs": [],
   "source": [
    "# Export to CSV df_4_csvs\n",
    "df_4_csvs_inner.to_csv(\"df_4_csvs.csv\", index=False, encoding=\"utf-8\")"
   ]
  },
  {
   "cell_type": "code",
   "execution_count": null,
   "id": "235306de-7e5e-4c7b-825d-5c46dcea85c4",
   "metadata": {},
   "outputs": [],
   "source": [
    "# Create visualization to answer the following demographic question. Who are the primary clients using this online process?\n",
    "# NOT DONE"
   ]
  },
  {
   "cell_type": "code",
   "execution_count": null,
   "id": "34eed93d-a0c1-412b-8542-a6f29f357d10",
   "metadata": {},
   "outputs": [],
   "source": [
    "# Create visualization for age. Are the primary clients younger or older, new or long-standing?\n",
    "# NOT DONE"
   ]
  },
  {
   "cell_type": "code",
   "execution_count": null,
   "id": "9fe575fe-e1bf-4e15-841a-2aa3ed28a9f5",
   "metadata": {},
   "outputs": [],
   "source": [
    "# Carry out a client behaviour analysis to answer any additional relevant questions. OPTIONAL\n",
    "# NOT DONE"
   ]
  },
  {
   "cell_type": "code",
   "execution_count": null,
   "id": "2934578a-6df2-43c9-a0b2-250429324da8",
   "metadata": {},
   "outputs": [],
   "source": [
    "# Calculate KPI completion rate:\n",
    "# 1. Group 2 groups by the values of the column \"Variation\": 1 percentage number of completion rate for client_id s with the value \"Test\" vs.\n",
    "# a different percentage number of completion rate for client_id s with the value \"Control\".\n",
    "# 2. Calculate the count of unique client_ids per group, this is how many customers are part of the test vs. how many are not.\n",
    "# 3. Calculate the number of confirms per group. This is the number of unique client_id (these are the unique values of the column \"client_id\") \n",
    "# for whom the value \"confirm\" within the colum \"process_step\" appears at least once, regardless of how many times \"confirm\" appears for 1 client_id.\n",
    "# I choose to consider multiple confirms for 1 client_id as 1 single confirm. 1 confirm = 1 confirmed user\n",
    "# 4. Per group, divide number of confirms by the number of client_id s. Then multiply by 100. This is the completion rate percentage.\n",
    "# THIS IS DONE"
   ]
  },
  {
   "cell_type": "code",
   "execution_count": null,
   "id": "b9cb0435-0f32-4c8a-8282-33b179e451b9",
   "metadata": {},
   "outputs": [],
   "source": [
    "# Group by Variation (Test or Control for client_id)\n",
    "grouped_variation = df_4_csvs_inner.groupby(\"Variation\")"
   ]
  },
  {
   "cell_type": "code",
   "execution_count": null,
   "id": "905705e7-5d73-4f21-8da2-3e168e076e14",
   "metadata": {},
   "outputs": [],
   "source": [
    "# Count unique client_ids per group\n",
    "unique_clients_per_group = grouped_variation[\"client_id\"].nunique()"
   ]
  },
  {
   "cell_type": "code",
   "execution_count": null,
   "id": "11452329-6b36-4403-87f5-54af439ddc7b",
   "metadata": {},
   "outputs": [],
   "source": [
    "# Count confirmed users per group (client_id appearing at least once with \"confirm\")\n",
    "confirmed_users = df_4_csvs_inner[df_4_csvs_inner[\"process_step\"] == \"confirm\"].groupby(\"Variation\")[\"client_id\"].nunique()"
   ]
  },
  {
   "cell_type": "code",
   "execution_count": null,
   "id": "f34d6ca6-1a44-4d6f-8376-b55507170e49",
   "metadata": {},
   "outputs": [],
   "source": [
    "df_4_csvs_inner.columns"
   ]
  },
  {
   "cell_type": "code",
   "execution_count": null,
   "id": "030dcd9e-d01f-4eec-bcb0-a4f563243eb2",
   "metadata": {},
   "outputs": [],
   "source": [
    "# Calculate completion rate percentage\n",
    "completion_rate = (confirmed_users / unique_clients_per_group) * 100"
   ]
  },
  {
   "cell_type": "code",
   "execution_count": null,
   "id": "7b891335-967a-4e81-a09a-a96a4d7ae65a",
   "metadata": {},
   "outputs": [],
   "source": [
    "unique_clients_per_group"
   ]
  },
  {
   "cell_type": "code",
   "execution_count": null,
   "id": "0204e3a9-e405-4f07-924a-0e4b4361a27f",
   "metadata": {},
   "outputs": [],
   "source": [
    "confirmed_users"
   ]
  },
  {
   "cell_type": "code",
   "execution_count": null,
   "id": "ad7159d5-aab5-4d71-a6bc-19a4a480082a",
   "metadata": {},
   "outputs": [],
   "source": [
    "completion_rate"
   ]
  },
  {
   "cell_type": "code",
   "execution_count": null,
   "id": "fd0b022e-3eb1-4e85-ab46-0519bb8f5618",
   "metadata": {},
   "outputs": [],
   "source": [
    "# Conclusion of completion rate: The test group completed at a higher percentage (outperformed control group), so the test is successful.\n",
    "# Thus, the new version of the website tested should be relesased / published."
   ]
  },
  {
   "cell_type": "code",
   "execution_count": null,
   "id": "79bf925e-28a4-431d-86a4-c15f4e893d3e",
   "metadata": {},
   "outputs": [],
   "source": [
    "# Calculate KPI Time Spent on Each Step:\n",
    "# 1. Change format of column into date time using pd\n",
    "# 2. Use the diff function to calculate time between to consecutive rows??? steps???\n",
    "# 3. Out of 5 time stamps, calculate 4 time durations (times between each steps and the consecutive step). This is per user.\n",
    "# 4. Group time duration KPIs to achieve 4 time durations for each customer id group (Test vs Control), 8 time durations in total.\n",
    "# 5. If we decide to include the errors in this count, we might need to calculate a 5th time duration. This is the duration between start and step 1 (the time stamp for start only appears if the user went back to the start).\n",
    "# NOT DONE"
   ]
  },
  {
   "cell_type": "code",
   "execution_count": null,
   "id": "9bdd944b-72ac-4de8-8531-b9718c631685",
   "metadata": {},
   "outputs": [],
   "source": [
    "# 1. Change format of column into date time using pd\n",
    "df_4_csvs_inner['date_time'] = pd.to_datetime(df_4_csvs_inner['date_time'], errors='coerce')"
   ]
  },
  {
   "cell_type": "code",
   "execution_count": null,
   "id": "84997f9b-c454-4e98-8d00-0d5b9cd96704",
   "metadata": {},
   "outputs": [],
   "source": [
    "# Calculate time difference for step 1: this is the value of date_time for step 2 minus date_time for step_1."
   ]
  },
  {
   "cell_type": "code",
   "execution_count": null,
   "id": "80fcfea6-01ec-45ec-b8d6-318dd7ec9e27",
   "metadata": {},
   "outputs": [],
   "source": [
    "from datetime import datetime\n",
    "\n",
    "# Define two datetime values for start and end of duation\n",
    "date_time_step_2 = datetime.strptime(df_4_csvs_inner.loc[step_2, \"date_time\"], \"%Y-%m-%d %H:%M:%S\")\n",
    "date_time_step_1 = datetime.strptime(df_4_csvs_inner.loc[step_1, \"date_time\"], \"%Y-%m-%d %H:%M:%S\")\n",
    "# I want to get the value for date_time from \n",
    "\n",
    "# Lets set up a specific client id\n",
    "# I need to do that for the group of client_ids Test and Control. Create 1 column with the duration for each unique client_id.\n",
    "# Then, counting only unique client_ids and their duration of step 2 minus step 1\n",
    "# (not summing the durations if 1 different client_id had multiple visits),\n",
    "# calculate the average. And group by Test vs. Control to get 1 average per Variation."
   ]
  },
  {
   "cell_type": "code",
   "execution_count": null,
   "id": "dd0bb82e-35b0-4a63-a035-fa4a7c3a8d48",
   "metadata": {},
   "outputs": [],
   "source": [
    "# Example of creating a column from a list into a df.\n",
    "\n",
    "# Adding a new column C using basic arithmetic operators\n",
    "df_4_csvs_inner['duration_step_1'] = df_4_csvs_inner['date_time_step_2'] - df_4_csvs_inner['date_time_step_1']"
   ]
  },
  {
   "cell_type": "code",
   "execution_count": null,
   "id": "36817ed6-ea6a-46d5-95f6-cff0ce5c973e",
   "metadata": {},
   "outputs": [],
   "source": []
  },
  {
   "cell_type": "code",
   "execution_count": null,
   "id": "eb92a03f-6e52-4e46-b7a3-3a6fe9f00a84",
   "metadata": {},
   "outputs": [],
   "source": [
    "# Calculate the time duration for step 1\n",
    "duration_step_1 = date_time_step_2 - date_time_step_1\n",
    "\n",
    "print(duration_step_1)"
   ]
  },
  {
   "cell_type": "code",
   "execution_count": null,
   "id": "7fab27b6-9464-4082-a483-93f9f074e44f",
   "metadata": {},
   "outputs": [],
   "source": [
    "df_4_csvs_inner.head"
   ]
  },
  {
   "cell_type": "code",
   "execution_count": null,
   "id": "7a19b6f8-0e7b-40f9-b72f-4b78a7273993",
   "metadata": {},
   "outputs": [],
   "source": [
    "df_4_csvs_inner.isna().sum()"
   ]
  },
  {
   "cell_type": "code",
   "execution_count": null,
   "id": "165eb0ff-d11a-47aa-a694-42b8e4e28bcc",
   "metadata": {},
   "outputs": [],
   "source": [
    "# No null values in date_time, so conversi"
   ]
  },
  {
   "cell_type": "code",
   "execution_count": null,
   "id": "b2996e21-b623-44de-aeed-469ffbf4349f",
   "metadata": {},
   "outputs": [],
   "source": [
    "# Calculate error rates: the step before going to aprev osus tep has the error\n",
    "# 1. Create a list with steps sequence\n",
    "# My choice: If a visit has more than 0 errors, it is is an error visit, regardless of how many errors. I will also consider the customer id as having errors.\n",
    "# My choice: I will not calculate the error rate per visit, just per customer id grouped into either Test or Control.\n",
    "# My choice: Steps that will not be counted are the steps before going to a previous step, because they are steps with errors (causing the error).\n",
    "# How to calculate: If the index of a later step comes before the previous step, it is an error. ???\n",
    "# NOT DONE"
   ]
  },
  {
   "cell_type": "code",
   "execution_count": null,
   "id": "a91bb425-13b0-4b97-a8cc-6f6453d16a78",
   "metadata": {},
   "outputs": [],
   "source": [
    "\n",
    "\n",
    "# two sample t test is not valid here, we neeed to compare binary values"
   ]
  },
  {
   "cell_type": "code",
   "execution_count": null,
   "id": "03c5f1c0-a019-43fe-ae04-50519c99d11f",
   "metadata": {},
   "outputs": [],
   "source": [
    "# Day 4:"
   ]
  },
  {
   "cell_type": "code",
   "execution_count": null,
   "id": "c718549c-3e9c-4249-ae30-8d2d6174cc44",
   "metadata": {},
   "outputs": [],
   "source": [
    "#  if this difference is statistically significant.\n",
    "# Make sure to define the proper null and an alternative hypothesis to test it. Use the provided data to test these hypotheses, and determine if you can reject the null hypothesis in favor of the alternative. Make sure to consider the significance level, p-value, the statistical test prerequisites, and other relevant statistical measures in your analysis."
   ]
  },
  {
   "cell_type": "code",
   "execution_count": null,
   "id": "46aee17a-0cd8-48c3-9032-59ecef464d1c",
   "metadata": {},
   "outputs": [],
   "source": [
    "# IMPORT FISHER_EXACT TEST\n",
    "from scipy.stats import fisher_exact\n",
    "# CREATE 2X2 MATRIX\n",
    "tab = pd.crosstab(df.uspc_class, df.alice_in)\n",
    "# CONDUCT FISHER_EXACT STATISTICAL TEST\n",
    "odds_ratio, p_value = fisher_exact(tab)\n",
    "# PRINT OUT RESULTS\n",
    "if p_value < 0.05:\n",
    "    print(f'p_value: {p_value}\\nResult: There is a significant difference')\n",
    "else:\n",
    "    print(f'p_value: {p_value}\\nResult: No significant difference')"
   ]
  },
  {
   "cell_type": "code",
   "execution_count": null,
   "id": "0da29285-45a1-4897-a53d-ae18e1484855",
   "metadata": {},
   "outputs": [],
   "source": []
  },
  {
   "cell_type": "code",
   "execution_count": null,
   "id": "6ebb64bc-9573-4d22-b02c-cb34b430a09b",
   "metadata": {},
   "outputs": [],
   "source": [
    "%matplotlib inline\n",
    "\n",
    "crosstab_result = pd.crosstab(df_4_csvs_inner['Variation'], df_4_csvs_inner['confirmed'])\n",
    "\n",
    "crosstab_result"
   ]
  },
  {
   "cell_type": "code",
   "execution_count": null,
   "id": "127f1ceb-5c1d-4931-9280-9637643324ea",
   "metadata": {},
   "outputs": [],
   "source": []
  },
  {
   "cell_type": "code",
   "execution_count": null,
   "id": "df372b1e-da72-4dab-8d61-ee10ea50d624",
   "metadata": {},
   "outputs": [],
   "source": [
    "# Start again running cells here. Up until this cell, we have merged and cleaned the data. Now, we will work on KPIs and hypothesis testing."
   ]
  },
  {
   "cell_type": "code",
   "execution_count": null,
   "id": "416ea35c-b782-4550-8bdd-5d6fad38d382",
   "metadata": {},
   "outputs": [],
   "source": [
    "# 1- Merge the dataset with the client_id and variation with the dataset of the steps\n",
    "# 2- create a new column with either 0 or 1 for confirm\n",
    "# 3- Group by the visit_id and the variation with summing the confirm per the visit\n",
    "# 4- updating the dataset to replace the values of confirm with 1 if it is equal to 1 or more other than that 0\n",
    "    "
   ]
  },
  {
   "cell_type": "code",
   "execution_count": null,
   "id": "a208dfad-9e0b-427f-b40f-05ff6f3394f1",
   "metadata": {},
   "outputs": [],
   "source": [
    "df_merged = pd.merge(df_merged_final_web_data, df_final_experiment_clients , on='client_id', how='inner')\n",
    "df_merged.dropna(subset = ['Variation'], inplace = True) # dropping the row with nan value in variation"
   ]
  },
  {
   "cell_type": "code",
   "execution_count": null,
   "id": "26300dce-69b8-4fc1-a44a-1e919c7957ec",
   "metadata": {},
   "outputs": [],
   "source": [
    "df_merged"
   ]
  },
  {
   "cell_type": "code",
   "execution_count": null,
   "id": "5d3fc5e3-0c9b-46cc-bc61-097701b3fc69",
   "metadata": {},
   "outputs": [],
   "source": [
    "df_merged['Confirm'] = df_merged['process_step'].apply(lambda x:1 if x == 'confirm' else 0)"
   ]
  },
  {
   "cell_type": "code",
   "execution_count": null,
   "id": "bab75c64-8bd7-4e93-b232-bab94428dbf3",
   "metadata": {},
   "outputs": [],
   "source": [
    "df_merged.head(60)"
   ]
  },
  {
   "cell_type": "code",
   "execution_count": null,
   "id": "cdb497d2-623c-439e-9d5a-7092dfd07d9a",
   "metadata": {},
   "outputs": [],
   "source": [
    "# Ab hier Code von Sarah\n",
    "visits_confirm_df = pd.DataFrame(df_merged.groupby(['visit_id','Variation'])['Confirm'].sum().reset_index())\n",
    "visits_confirm_df['Confirm'] = visits_confirm_df['Confirm'].apply(lambda x:1 if x >= 1 else 0)"
   ]
  },
  {
   "cell_type": "code",
   "execution_count": null,
   "id": "45edc449-c05c-462a-8226-e88c2641de1b",
   "metadata": {},
   "outputs": [],
   "source": [
    "visits_confirm_df['Confirm'].value_counts()"
   ]
  },
  {
   "cell_type": "code",
   "execution_count": null,
   "id": "01cb1159-6248-411a-bcbf-5c2fdedad68b",
   "metadata": {},
   "outputs": [],
   "source": [
    "visits_confirm_df"
   ]
  },
  {
   "cell_type": "code",
   "execution_count": null,
   "id": "edcd6e0d-7529-4916-8467-d3401dbf2a56",
   "metadata": {},
   "outputs": [],
   "source": [
    "confirmed_users = visits_confirm_df['Confirm'].value_counts()"
   ]
  },
  {
   "cell_type": "code",
   "execution_count": null,
   "id": "90cefb48-51e4-4092-8928-b3fa2df9e659",
   "metadata": {},
   "outputs": [],
   "source": [
    "confirmed_users"
   ]
  },
  {
   "cell_type": "code",
   "execution_count": null,
   "id": "33fada0c-5b5e-4d19-9cd1-7b49213358d0",
   "metadata": {},
   "outputs": [],
   "source": [
    "# Anzahl eindeutiger visitor_id je Variation\n",
    "unique_visitors_by_variation = visits_confirm_df.groupby(['Variation','Confirm'])['visit_id'].nunique()\n",
    "\n",
    "print(unique_visitors_by_variation)"
   ]
  },
  {
   "cell_type": "code",
   "execution_count": null,
   "id": "72ad60f5-7d92-48d5-aa6d-d29ab99d9dc7",
   "metadata": {},
   "outputs": [],
   "source": [
    "total_control = len(visits_confirm_df[visits_confirm_df[\"Variation\"] == \"Control\"])\n",
    "\n",
    "total_test = len(visits_confirm_df[visits_confirm_df[\"Variation\"] == \"Test\"])\n",
    "# Count of completed (Confirm == 1) for each group"
   ]
  },
  {
   "cell_type": "code",
   "execution_count": null,
   "id": "18e818c8-e11b-4587-9a12-ec16703c5fdd",
   "metadata": {},
   "outputs": [],
   "source": [
    "completed_control = len(visits_confirm_df[(visits_confirm_df[\"Variation\"] == \"Control\") & (visits_confirm_df[\"Confirm\"] == 1)])\n",
    "completed_test = len(visits_confirm_df[(visits_confirm_df[\"Variation\"] == \"Test\") & (visits_confirm_df[\"Confirm\"] == 1)])"
   ]
  },
  {
   "cell_type": "code",
   "execution_count": null,
   "id": "ab056d13-8868-42c5-a084-94da42347ed7",
   "metadata": {},
   "outputs": [],
   "source": [
    "# Calculate percentages\n",
    "completion_rate_control = (completed_control / total_control) * 100 if total_control > 0 else 0\n",
    "\n",
    "completion_rate_test = (completed_test / total_test) * 100 if total_test > 0 else 0\n",
    "\n",
    "non_completion_rate_control = 100 - completion_rate_control\n",
    "\n",
    "non_completion_rate_test = 100 - completion_rate_test\n",
    "# Display results"
   ]
  },
  {
   "cell_type": "code",
   "execution_count": null,
   "id": "f29fa350-010f-44e8-8c81-be05d7643e2e",
   "metadata": {},
   "outputs": [],
   "source": [
    "print(f\"Completion Rate (Control): {completion_rate_control:.2f}%\")\n",
    "print(f\"Completion Rate (Test): {completion_rate_test:.2f}%\")\n",
    "print(f\"Non-Completion Rate (Control): {non_completion_rate_control:.2f}%\")\n",
    "print(f\"Non-Completion Rate (Test): {non_completion_rate_test:.2f}%\")"
   ]
  },
  {
   "cell_type": "code",
   "execution_count": null,
   "id": "bc71bedc-a4dd-4544-8853-1aafc7099c0e",
   "metadata": {},
   "outputs": [],
   "source": [
    "# End of code copied from Sarah's file. From here onwards, we work on the KPI completion rate."
   ]
  },
  {
   "cell_type": "code",
   "execution_count": null,
   "id": "eeca4116-693b-4156-aeef-b5ffb299a2fb",
   "metadata": {},
   "outputs": [],
   "source": [
    "visits_confirm_df[visits_confirm_df['Variation'] == 'Test']['Confirm']"
   ]
  },
  {
   "cell_type": "code",
   "execution_count": null,
   "id": "e93e39e8-2d6c-46a0-8aa5-0a2dd17480f0",
   "metadata": {},
   "outputs": [],
   "source": [
    "visits_confirm_df[visits_confirm_df['Variation'] == 'Control']['Confirm']"
   ]
  },
  {
   "cell_type": "code",
   "execution_count": null,
   "id": "8d6725b9-1669-4403-a648-7ca00f687133",
   "metadata": {},
   "outputs": [],
   "source": [
    "# AB HIER IST ALLES NEU VOM 15.05.2025."
   ]
  },
  {
   "cell_type": "code",
   "execution_count": null,
   "id": "45e63324-11cb-4d63-8108-f7a12bb523bf",
   "metadata": {},
   "outputs": [],
   "source": []
  },
  {
   "cell_type": "code",
   "execution_count": null,
   "id": "a5854258-a029-4e1c-9265-d1fff2308004",
   "metadata": {},
   "outputs": [],
   "source": []
  },
  {
   "cell_type": "code",
   "execution_count": null,
   "id": "71f0f7c3-ebb4-431a-b005-1295a1888b7c",
   "metadata": {},
   "outputs": [],
   "source": [
    "# Group by Variation (Test or Control for visit_id)\n",
    "grouped_variation = visits_confirm_df.groupby(\"Variation\")"
   ]
  },
  {
   "cell_type": "code",
   "execution_count": null,
   "id": "9571efb0-2ec2-4728-8778-41d8e772485f",
   "metadata": {},
   "outputs": [],
   "source": [
    "print(grouped_variation)"
   ]
  },
  {
   "cell_type": "code",
   "execution_count": null,
   "id": "47ca695c-3ab7-4eb4-b928-6726c5ab21e2",
   "metadata": {},
   "outputs": [],
   "source": [
    "confirmed_users = visits_confirm_df[visits_confirm_df[\"Confirm\"] == \"1\"].groupby(\"Variation\")[\"visit_id\"].nunique()"
   ]
  },
  {
   "cell_type": "code",
   "execution_count": null,
   "id": "f6661aae-a07b-4937-be33-06cbede728ef",
   "metadata": {},
   "outputs": [],
   "source": [
    "confirmed_users"
   ]
  },
  {
   "cell_type": "code",
   "execution_count": null,
   "id": "f8aa3371-5bfe-481f-8a5f-8c73f5c2bc55",
   "metadata": {},
   "outputs": [],
   "source": [
    "# Calculate completion rate percentage\n",
    "completion_rate = (confirmed_users / unique_clients_per_group) * 100\n",
    "\n",
    "\n",
    "completion_rate = (confirmed_users * 100) / unique_clients_per_group"
   ]
  },
  {
   "cell_type": "code",
   "execution_count": null,
   "id": "93f2778f-08d8-4901-be3b-16d7b922fe22",
   "metadata": {},
   "outputs": [],
   "source": [
    "total_control = len(visits_confirm_df[visits_confirm_df[\"Variation\"] == \"Control\"])\n",
    "total_test = len(visits_confirm_df[visits_confirm_df[\"Variation\"] == \"Test\"])"
   ]
  },
  {
   "cell_type": "code",
   "execution_count": null,
   "id": "81cd4cc3-a0df-44b2-9452-912a31a079c3",
   "metadata": {},
   "outputs": [],
   "source": [
    "completed_test = visits_confirm_df[visits_confirm_df[\"Variation\"] == \"Test\"].groupby(\"visit_id\")[\"Confirm\"].max().sum()\n",
    "completed_control = visits_confirm_df[visits_confirm_df[\"Variation\"] == \"Control\"].groupby(\"visit_id\")[\"Confirm\"].max().sum()"
   ]
  },
  {
   "cell_type": "code",
   "execution_count": null,
   "id": "580e5712-2e8b-4234-b813-435b417ccb5c",
   "metadata": {},
   "outputs": [],
   "source": [
    "# Count of completed (Confirm == 1) for each group\n",
    "completed_control = len(visits_confirm_df[(visits_confirm_df[\"Variation\"] == \"Control\") & (visits_confirm_df[\"Confirm\"] == 1)])\n",
    "completed_test = len(visits_confirm_df[(visits_confirm_df[\"Variation\"] == \"Test\") & (visits_confirm_df[\"Confirm\"] == 1)])"
   ]
  },
  {
   "cell_type": "code",
   "execution_count": null,
   "id": "962f88a8-50be-4d4b-90d7-ae87d5bd609b",
   "metadata": {},
   "outputs": [],
   "source": [
    "# Calculate percentages\n",
    "completion_rate_control = (completed_control / total_control) * 100 if total_control > 0 else 0\n",
    "completion_rate_test = (completed_test / total_test) * 100 if total_test > 0 else 0"
   ]
  },
  {
   "cell_type": "code",
   "execution_count": null,
   "id": "d61ed25c-ee85-441f-8e14-92061d0788b0",
   "metadata": {},
   "outputs": [],
   "source": [
    "non_completion_rate_control = 100 - completion_rate_control\n",
    "non_completion_rate_test = 100 - completion_rate_test\n",
    "\n",
    "completion_rate_control"
   ]
  },
  {
   "cell_type": "code",
   "execution_count": null,
   "id": "df86ef66-b582-4159-8206-bcf0bcab134c",
   "metadata": {},
   "outputs": [],
   "source": [
    "completion_rate_test"
   ]
  },
  {
   "cell_type": "code",
   "execution_count": null,
   "id": "5de0710e-a452-4fc4-a48b-89fc0be0b49c",
   "metadata": {},
   "outputs": [],
   "source": [
    "non_completion_rate_control"
   ]
  },
  {
   "cell_type": "code",
   "execution_count": null,
   "id": "702b2454-219c-4a72-aed1-2165c16d2e89",
   "metadata": {},
   "outputs": [],
   "source": [
    "non_completion_rate_test"
   ]
  },
  {
   "cell_type": "code",
   "execution_count": null,
   "id": "272e709c-1a1d-49ca-9d6d-dc1d52953c14",
   "metadata": {},
   "outputs": [],
   "source": [
    "total_control"
   ]
  },
  {
   "cell_type": "code",
   "execution_count": null,
   "id": "af49d824-fb14-470e-997d-a26791b1376b",
   "metadata": {},
   "outputs": [],
   "source": [
    "total_test"
   ]
  },
  {
   "cell_type": "code",
   "execution_count": null,
   "id": "37d83fca-c973-473a-a9ab-d1298fc51271",
   "metadata": {},
   "outputs": [],
   "source": [
    "completed_control"
   ]
  },
  {
   "cell_type": "code",
   "execution_count": null,
   "id": "6392b9f0-4bfb-488e-a0f8-de33fa26d18c",
   "metadata": {},
   "outputs": [],
   "source": [
    "completed_test"
   ]
  },
  {
   "cell_type": "code",
   "execution_count": null,
   "id": "d25c068a-a107-46fe-847d-2c20b8be1666",
   "metadata": {},
   "outputs": [],
   "source": [
    "from statsmodels.stats.proportion import proportions_ztest\n",
    "\n",
    "# Count of successes (Confirm == 1) for each group\n",
    "completed_test = np.sum(visits_confirm_df[visits_confirm_df[\"Variation\"] == \"Test\"][\"Confirm\"] == 1)\n",
    "completed_control = np.sum(visits_confirm_df[visits_confirm_df[\"Variation\"] == \"Control\"][\"Confirm\"] == 1)\n",
    "\n",
    "# Total number of observations in each group\n",
    "total_test = len(visits_confirm_df[visits_confirm_df[\"Variation\"] == \"Test\"])\n",
    "total_control = len(visits_confirm_df[visits_confirm_df[\"Variation\"] == \"Control\"])\n",
    "\n",
    "# Conduct two-proportion z-test\n",
    "count = np.array([completed_test, completed_control])\n",
    "nobs = np.array([total_test, total_control])\n",
    "\n",
    "z_stat, p_value = proportions_ztest(count, nobs, alternative = \"larger\")\n",
    "### INTRODUCE HERE A NEW PARAMETER THRESHOLD 5 % ##### \n",
    "# NOT DONE ######\n",
    "\n",
    "# Display results\n",
    "print(f\"Z-statistic: {z_stat:.2f}\")\n",
    "print(f\"P-value: {p_value}\")\n",
    "\n",
    "# Conclusion\n",
    "alpha = 0.05\n",
    "if p_value < alpha:\n",
    "    print(\"Reject the null hypothesis: The completion rate is significantly different between Test and Control.\")\n",
    "else:\n",
    "    print(\"Fail to reject the null hypothesis: No significant difference in completion rate between Test and Control.\")"
   ]
  },
  {
   "cell_type": "code",
   "execution_count": null,
   "id": "0569270a-91de-4aba-bff3-0cf8c0c8e1f0",
   "metadata": {},
   "outputs": [],
   "source": [
    "# Null Hypothesis (H₀): There is no significant difference in the completion rates between the Test group (new UI design) and the Control group (old UI design).\n",
    "# Alternative Hypothesis (H₁): There is a significant difference in the completion rates between the Test and Control groups."
   ]
  },
  {
   "cell_type": "code",
   "execution_count": null,
   "id": "adb30e48-fadc-4213-9ed2-66d18e2da456",
   "metadata": {},
   "outputs": [],
   "source": [
    "import numpy as np\n",
    "from statsmodels.stats.proportion import proportions_ztest\n",
    "\n",
    "# Define cost-effectiveness threshold\n",
    "threshold = 5.0  # Minimum required increase in completion rate for the redesign to be justified\n",
    "\n",
    "# Count of successes (Confirm == 1) for each group\n",
    "completed_test = np.sum(visits_confirm_df[visits_confirm_df[\"Variation\"] == \"Test\"][\"Confirm\"] == 1)\n",
    "completed_control = np.sum(visits_confirm_df[visits_confirm_df[\"Variation\"] == \"Control\"][\"Confirm\"] == 1)\n",
    "\n",
    "# Total number of observations in each group\n",
    "total_test = len(visits_confirm_df[visits_confirm_df[\"Variation\"] == \"Test\"])\n",
    "total_control = len(visits_confirm_df[visits_confirm_df[\"Variation\"] == \"Control\"])\n",
    "\n",
    "# Calculate completion rates\n",
    "completion_rate_test = (completed_test / total_test) * 100\n",
    "completion_rate_control = (completed_control / total_control) * 100\n",
    "\n",
    "# Calculate observed increase in completion rate\n",
    "completion_rate_increase = completion_rate_test - completion_rate_control\n",
    "\n",
    "# Conduct one-tailed proportion z-test to check if Test completion rate is significantly greater\n",
    "count = np.array([completed_test, completed_control])\n",
    "nobs = np.array([total_test, total_control])\n",
    "\n",
    "z_stat, p_value = proportions_ztest(count, nobs, alternative=\"larger\")\n",
    "\n",
    "# Display results\n",
    "print(f\"Completion Rate (Control): {completion_rate_control:.2f}%\")\n",
    "print(f\"Completion Rate (Test): {completion_rate_test:.2f}%\")\n",
    "print(f\"Observed Completion Rate Increase: {completion_rate_increase:.2f}%\")\n",
    "print(f\"Z-statistic: {z_stat:.2f}\")\n",
    "print(f\"P-value: {p_value:.4f}\")\n",
    "\n",
    "# Conclusion based on statistical significance AND cost-effectiveness threshold\n",
    "if completion_rate_increase >= threshold:\n",
    "    print(f\"The new design meets the cost-effectiveness threshold! Completion rate increased by {completion_rate_increase:.2f}%, which is above the required {threshold}%.\")\n",
    "else:\n",
    "    print(f\"The new design does NOT meet the cost-effectiveness threshold. Completion rate increased by {completion_rate_increase:.2f}%, but it falls short of the required {threshold}%.\")"
   ]
  },
  {
   "cell_type": "code",
   "execution_count": null,
   "id": "7711bc21-1751-4f31-adb3-230677b4514b",
   "metadata": {},
   "outputs": [],
   "source": [
    "z_stat, p_value"
   ]
  },
  {
   "cell_type": "code",
   "execution_count": null,
   "id": "25d062b2-6d1d-47a7-b484-61bccd23fed0",
   "metadata": {},
   "outputs": [],
   "source": [
    "# Conclusion: Since the p-value is nearly 0, we reject the null hypothesis \n",
    "# and confirm that the new design (Test group) has a statistically significant higher completion rate compared to the old design (Control group).\n",
    "# This means the redesign is highly effective in improving completion rates."
   ]
  },
  {
   "cell_type": "code",
   "execution_count": null,
   "id": "33e2d10e-5cf5-44b7-ae51-242956241fc6",
   "metadata": {},
   "outputs": [],
   "source": [
    "# Cost-effectiveness threshold\n",
    "threshold = 5.0\n",
    "\n",
    "# Determine if the new design meets the threshold\n",
    "if completion_rate_increase >= threshold:\n",
    "    print(f\"The new design is cost-effective! Completion rate increase: {completion_rate_increase:.2f}% (Threshold: {threshold}%)\")\n",
    "else:\n",
    "    print(f\"The new design is NOT cost-effective. Completion rate increase: {completion_rate_increase:.2f}% (Threshold: {threshold}%)\")"
   ]
  },
  {
   "cell_type": "code",
   "execution_count": null,
   "id": "49b8be35-2b4a-4286-863c-c9bfa21908a6",
   "metadata": {},
   "outputs": [],
   "source": [
    "# The completion rate increase is 58.52 - 49.85 = 8.67%\n",
    "# But, how much bigger is test than control? = 58.52 (Test) is 17.39 % higher than 49.85 (Control)."
   ]
  },
  {
   "cell_type": "code",
   "execution_count": null,
   "id": "7b734624-8bb3-47c4-90f2-f54853f2539b",
   "metadata": {},
   "outputs": [],
   "source": [
    "# Sort data by client_id, visit_id, and date_time\n",
    "df_merged.sort_values(by=[\"client_id\", \"visit_id\", \"date_time\"], inplace=True)\n",
    "\n",
    "# Identify errors: A step is an error if it occurs before its preceding step\n",
    "df_merged[\"previous_step\"] = df_merged.groupby([\"client_id\", \"visit_id\"])[\"process_step\"].shift(1)\n",
    "df_merged[\"error\"] = df_merged[\"previous_step\"] > df_merged[\"process_step\"]  # Error if step order is reversed\n",
    "\n",
    "# Identify error visits (if any error exists in a visit)\n",
    "df_merged[\"error_visit\"] = df_merged.groupby([\"client_id\", \"visit_id\"])[\"error\"].transform(lambda x: x.any())\n",
    "\n",
    "# Identify error customers (if any of their visits had an error)\n",
    "df_merged[\"error_customer\"] = df_merged.groupby(\"client_id\")[\"error_visit\"].transform(lambda x: x.any())\n",
    "\n",
    "# Calculate error rate per customer ID for Test and Control groups\n",
    "error_rate = df_merged.groupby(\"Variation\")[\"error_customer\"].mean() * 100\n",
    "\n",
    "# Display results\n",
    "print(f\"Error Rate (Control): {error_rate.get('Control', 0):.2f}%\")\n",
    "print(f\"Error Rate (Test): {error_rate.get('Test', 0):.2f}%\")"
   ]
  },
  {
   "cell_type": "code",
   "execution_count": null,
   "id": "b3ba52f0-af74-4c63-acf8-1576b5e9f419",
   "metadata": {},
   "outputs": [],
   "source": [
    "# We used the function shift. In our code, .shift(1) moves the values in \"process_step\" down one row.\n",
    "# If a previous step appears later than the current step, it means the user has gone backward unexpectedly, indicating an error.\n",
    "# We created 4 columns\n",
    "# New column 1: \"previous_step\". It is the process step right before the current step within the same visit. We use it to detect any backward movements and flag them as errors.\n",
    "# New column 2: \"error\". It marks whether a step appears before its previous step, indicating an unexpected backward movement.\n",
    "# New column 3: \"error_visit\". It flags visits where at least one error occurred, meaning the user faced issues within that visit.\n",
    "# New column 4: \"error_customer\". It identifies customers who experienced errors in any of their visits, helping measure overall user friction."
   ]
  },
  {
   "cell_type": "code",
   "execution_count": null,
   "id": "ba1c216e-21c3-49ab-a223-b97c0abe8278",
   "metadata": {},
   "outputs": [],
   "source": [
    "df_merged"
   ]
  },
  {
   "cell_type": "code",
   "execution_count": null,
   "id": "75dbddb3-b83d-4b05-8001-117b47cf7c4b",
   "metadata": {},
   "outputs": [],
   "source": []
  }
 ],
 "metadata": {
  "kernelspec": {
   "display_name": "Python [conda env:base] *",
   "language": "python",
   "name": "conda-base-py"
  },
  "language_info": {
   "codemirror_mode": {
    "name": "ipython",
    "version": 3
   },
   "file_extension": ".py",
   "mimetype": "text/x-python",
   "name": "python",
   "nbconvert_exporter": "python",
   "pygments_lexer": "ipython3",
   "version": "3.12.7"
  }
 },
 "nbformat": 4,
 "nbformat_minor": 5
}
