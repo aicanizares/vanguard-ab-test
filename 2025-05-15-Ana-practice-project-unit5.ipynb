{
 "cells": [
  {
   "cell_type": "code",
   "execution_count": 1,
   "id": "79c398ac-1247-4ea1-ae1f-0b8807937646",
   "metadata": {},
   "outputs": [],
   "source": [
    "# File A: df_final_experiment_clients.txt. Columns: client_id,Variation\n",
    "# File B: df_final_web_data_pt_1.          Columns: client_id,visitor_id,visit_id,process_step,date_time\n",
    "# File C: df_final_web_data_pt_2.          Columns: client_id,visitor_id,visit_id,process_step,date_tim\n",
    "# File D: df_final_demo                    Columns: client_id,clnt_tenure_yr,clnt_tenure_mnth,clnt_age,gendr,num_accts,bal,calls_6_mnth,logons_6_mnth"
   ]
  },
  {
   "cell_type": "code",
   "execution_count": null,
   "id": "8410d10b-0f3f-4b23-9bf3-9987d8c880b9",
   "metadata": {},
   "outputs": [],
   "source": [
    "# Logic of the merging:\n",
    "# DONE 1. Merge B and C because they have the same column names and their values look similar. Use CONCAT because the client_id doesn't have to be the same values.\n",
    "# I only need the data from the client_ids that participated in the experiment. So, out of the client profile in df_final_demo, I only need the client_ids that exist also in df_final_experiment_clients.txt.\n",
    "# In order to do so, perform a left join, where left is df_final_experiment_clients.txt (all of its client_id rows will be kept) and right is df_final_demo."
   ]
  },
  {
   "cell_type": "code",
   "execution_count": 3,
   "id": "06829e49-bb62-4f4c-bba0-d16066bc7f08",
   "metadata": {},
   "outputs": [],
   "source": [
    "import pandas as pd\n",
    "\n",
    "df_final_web_data_pt_1 = pd.read_csv('https://raw.githubusercontent.com/data-bootcamp-v4/lessons/refs/heads/main/5_6_eda_inf_stats_tableau/project/files_for_project/df_final_web_data_pt_1.txt')"
   ]
  },
  {
   "cell_type": "code",
   "execution_count": null,
   "id": "91ebe117-518e-438e-9fd2-9bd8477a3fd8",
   "metadata": {},
   "outputs": [],
   "source": [
    "df_final_web_data_pt_1"
   ]
  },
  {
   "cell_type": "code",
   "execution_count": 4,
   "id": "eb42654c-32ba-421e-9e5c-0843de7f6b37",
   "metadata": {},
   "outputs": [],
   "source": [
    "df_final_web_data_pt_2 = pd.read_csv('https://raw.githubusercontent.com/data-bootcamp-v4/lessons/refs/heads/main/5_6_eda_inf_stats_tableau/project/files_for_project/df_final_web_data_pt_2.txt')"
   ]
  },
  {
   "cell_type": "code",
   "execution_count": null,
   "id": "32f5c69c-826a-47af-b5ec-8d041231e81a",
   "metadata": {},
   "outputs": [],
   "source": [
    "df_final_web_data_pt_2"
   ]
  },
  {
   "cell_type": "code",
   "execution_count": 6,
   "id": "e5a8849d-47bb-4597-92e1-6a690ef30796",
   "metadata": {},
   "outputs": [],
   "source": [
    "df_merged_final_web_data = pd.concat([df_final_web_data_pt_1, df_final_web_data_pt_2], axis=0)"
   ]
  },
  {
   "cell_type": "code",
   "execution_count": null,
   "id": "8c51b0db-efb1-48fb-a419-1597fbbf7c60",
   "metadata": {},
   "outputs": [],
   "source": [
    "df_merged_final_web_data"
   ]
  },
  {
   "cell_type": "code",
   "execution_count": null,
   "id": "594ae910-b73b-47f6-a95f-d69bd0c9978e",
   "metadata": {},
   "outputs": [],
   "source": []
  },
  {
   "cell_type": "code",
   "execution_count": null,
   "id": "d53eb90e-4569-453b-b63b-eef47bdb9ba6",
   "metadata": {},
   "outputs": [],
   "source": [
    "# They have been merged successfully, number of rows is the sum of both: 755405."
   ]
  },
  {
   "cell_type": "code",
   "execution_count": 17,
   "id": "34f7ae17-779c-4887-b78d-5d3b28346542",
   "metadata": {},
   "outputs": [],
   "source": [
    "df_final_experiment_clients = pd.read_csv('https://raw.githubusercontent.com/data-bootcamp-v4/lessons/refs/heads/main/5_6_eda_inf_stats_tableau/project/files_for_project/df_final_experiment_clients.txt')"
   ]
  },
  {
   "cell_type": "code",
   "execution_count": 19,
   "id": "ae57d2cb-0703-45f9-b9aa-a87750bbc52a",
   "metadata": {},
   "outputs": [
    {
     "data": {
      "text/html": [
       "<div>\n",
       "<style scoped>\n",
       "    .dataframe tbody tr th:only-of-type {\n",
       "        vertical-align: middle;\n",
       "    }\n",
       "\n",
       "    .dataframe tbody tr th {\n",
       "        vertical-align: top;\n",
       "    }\n",
       "\n",
       "    .dataframe thead th {\n",
       "        text-align: right;\n",
       "    }\n",
       "</style>\n",
       "<table border=\"1\" class=\"dataframe\">\n",
       "  <thead>\n",
       "    <tr style=\"text-align: right;\">\n",
       "      <th></th>\n",
       "      <th>client_id</th>\n",
       "      <th>Variation</th>\n",
       "    </tr>\n",
       "  </thead>\n",
       "  <tbody>\n",
       "    <tr>\n",
       "      <th>0</th>\n",
       "      <td>9988021</td>\n",
       "      <td>Test</td>\n",
       "    </tr>\n",
       "    <tr>\n",
       "      <th>1</th>\n",
       "      <td>8320017</td>\n",
       "      <td>Test</td>\n",
       "    </tr>\n",
       "    <tr>\n",
       "      <th>2</th>\n",
       "      <td>4033851</td>\n",
       "      <td>Control</td>\n",
       "    </tr>\n",
       "    <tr>\n",
       "      <th>3</th>\n",
       "      <td>1982004</td>\n",
       "      <td>Test</td>\n",
       "    </tr>\n",
       "    <tr>\n",
       "      <th>4</th>\n",
       "      <td>9294070</td>\n",
       "      <td>Control</td>\n",
       "    </tr>\n",
       "    <tr>\n",
       "      <th>...</th>\n",
       "      <td>...</td>\n",
       "      <td>...</td>\n",
       "    </tr>\n",
       "    <tr>\n",
       "      <th>70604</th>\n",
       "      <td>2443347</td>\n",
       "      <td>NaN</td>\n",
       "    </tr>\n",
       "    <tr>\n",
       "      <th>70605</th>\n",
       "      <td>8788427</td>\n",
       "      <td>NaN</td>\n",
       "    </tr>\n",
       "    <tr>\n",
       "      <th>70606</th>\n",
       "      <td>266828</td>\n",
       "      <td>NaN</td>\n",
       "    </tr>\n",
       "    <tr>\n",
       "      <th>70607</th>\n",
       "      <td>1266421</td>\n",
       "      <td>NaN</td>\n",
       "    </tr>\n",
       "    <tr>\n",
       "      <th>70608</th>\n",
       "      <td>9895983</td>\n",
       "      <td>NaN</td>\n",
       "    </tr>\n",
       "  </tbody>\n",
       "</table>\n",
       "<p>70609 rows × 2 columns</p>\n",
       "</div>"
      ],
      "text/plain": [
       "       client_id Variation\n",
       "0        9988021      Test\n",
       "1        8320017      Test\n",
       "2        4033851   Control\n",
       "3        1982004      Test\n",
       "4        9294070   Control\n",
       "...          ...       ...\n",
       "70604    2443347       NaN\n",
       "70605    8788427       NaN\n",
       "70606     266828       NaN\n",
       "70607    1266421       NaN\n",
       "70608    9895983       NaN\n",
       "\n",
       "[70609 rows x 2 columns]"
      ]
     },
     "execution_count": 19,
     "metadata": {},
     "output_type": "execute_result"
    }
   ],
   "source": [
    "df_final_experiment_clients"
   ]
  },
  {
   "cell_type": "code",
   "execution_count": 21,
   "id": "c12974ae-8529-43ba-8b41-a4f6c88dd802",
   "metadata": {},
   "outputs": [],
   "source": [
    "df_final_demo = pd.read_csv('https://raw.githubusercontent.com/data-bootcamp-v4/lessons/refs/heads/main/5_6_eda_inf_stats_tableau/project/files_for_project/df_final_demo.txt')"
   ]
  },
  {
   "cell_type": "code",
   "execution_count": null,
   "id": "3194ea0e-d2e1-4d45-90ea-78e601b07cbe",
   "metadata": {},
   "outputs": [],
   "source": [
    "df_final_demo"
   ]
  },
  {
   "cell_type": "code",
   "execution_count": null,
   "id": "84e51954-df43-4567-8b1e-f41e0dd2a1a3",
   "metadata": {},
   "outputs": [],
   "source": [
    "merged_left_final_experiment_and_final_demo = pd.merge(df_final_experiment_clients, df_final_demo, on='client_id', how='left')"
   ]
  },
  {
   "cell_type": "code",
   "execution_count": null,
   "id": "d28c07ca-3710-45cd-97c6-567f200b83d7",
   "metadata": {},
   "outputs": [],
   "source": [
    "merged_left_final_experiment_and_final_demo"
   ]
  },
  {
   "cell_type": "code",
   "execution_count": null,
   "id": "81ef4cd9-adad-4bfe-bff4-8dc96175c211",
   "metadata": {},
   "outputs": [],
   "source": [
    "# Check what and how many rows have NaN for the \"Variation\" column. This means that they didn't participate in the experiment."
   ]
  },
  {
   "cell_type": "code",
   "execution_count": null,
   "id": "1b6d5d47-4b2b-4db7-a788-59a56e55210b",
   "metadata": {},
   "outputs": [],
   "source": [
    "# Check for null values in each column\n",
    "merged_left_final_experiment_and_final_demo.isna().any()"
   ]
  },
  {
   "cell_type": "code",
   "execution_count": null,
   "id": "f9883a49-eb49-4446-8dd1-a2fcd899e560",
   "metadata": {},
   "outputs": [],
   "source": [
    "# Count the number of null values in each column\n",
    "merged_left_final_experiment_and_final_demo.isna().sum()"
   ]
  },
  {
   "cell_type": "code",
   "execution_count": null,
   "id": "907c78bf-22eb-4145-8189-bde0a3ab97b1",
   "metadata": {},
   "outputs": [],
   "source": [
    "# Out of 70609 rows (client_ids), 20109 have Nan for \"Variation\". They didn't participate in the experiment. We will drop these rows."
   ]
  },
  {
   "cell_type": "code",
   "execution_count": null,
   "id": "fab7ce98-fd4e-45d1-a638-56a0c5c3a954",
   "metadata": {},
   "outputs": [],
   "source": [
    "merged_left_final_experiment_and_final_demo.dropna(subset=['Variation'], inplace=True)"
   ]
  },
  {
   "cell_type": "code",
   "execution_count": null,
   "id": "355913ca-a39e-4544-b17d-fc689672ddef",
   "metadata": {},
   "outputs": [],
   "source": [
    "merged_left_final_experiment_and_final_demo = merged_left_final_experiment_and_final_demo.dropna(subset=['Variation'])"
   ]
  },
  {
   "cell_type": "code",
   "execution_count": null,
   "id": "85ce054e-98c0-4e28-928e-946c9f16d4aa",
   "metadata": {},
   "outputs": [],
   "source": [
    "merged_client_profile = merged_left_final_experiment_and_final_demo"
   ]
  },
  {
   "cell_type": "code",
   "execution_count": null,
   "id": "246de89c-c257-4be4-9423-b8baaed412b3",
   "metadata": {},
   "outputs": [],
   "source": [
    "merged_client_profile.isna().sum()"
   ]
  },
  {
   "cell_type": "code",
   "execution_count": null,
   "id": "59904932-fd9a-4cd2-bf8b-9a67f81d7e5e",
   "metadata": {},
   "outputs": [],
   "source": [
    "# Check if data types for columns are correct. There seems to be no problem here."
   ]
  },
  {
   "cell_type": "code",
   "execution_count": null,
   "id": "f6502e20-e1a4-4dbd-9806-a5980467b698",
   "metadata": {},
   "outputs": [],
   "source": [
    "merged_client_profile.dtypes"
   ]
  },
  {
   "cell_type": "code",
   "execution_count": null,
   "id": "96cbfce5-b25e-4407-ba88-0387317d9191",
   "metadata": {},
   "outputs": [],
   "source": [
    "# Find out how many unique client_ids there are.\n",
    "unique_client_count_merged_left_final_experiment_and_final_demo = merged_left_final_experiment_and_final_demo[\"client_id\"].nunique()\n",
    "\n",
    "unique_client_count_merged_left_final_experiment_and_final_demo"
   ]
  },
  {
   "cell_type": "code",
   "execution_count": null,
   "id": "61e59d15-dd6f-40e4-a47d-acda404d5c8c",
   "metadata": {},
   "outputs": [],
   "source": [
    "# In the final demo (before merging), 14 client_id rows do not have any value for tenure, neither in years nor in months (values in both columns are blank, NaN)."
   ]
  },
  {
   "cell_type": "code",
   "execution_count": null,
   "id": "671734e5-cf4d-4f45-b772-1010d0225d6f",
   "metadata": {},
   "outputs": [],
   "source": [
    "# Drop these 14 rows. And drop also the client_id 4666211, because this person has their data filled from the profile, except for their age.\n",
    "# NOT DONE"
   ]
  },
  {
   "cell_type": "code",
   "execution_count": null,
   "id": "67b3d18f-5503-4af9-af18-ef0c0ebd5492",
   "metadata": {},
   "outputs": [],
   "source": [
    "merged_client_profile = merged_client_profile.dropna(subset=['clnt_age'], inplace=True)"
   ]
  },
  {
   "cell_type": "code",
   "execution_count": null,
   "id": "83b6242c-5d98-42de-bac9-2675509140e4",
   "metadata": {},
   "outputs": [],
   "source": [
    "merged_client_profile.isna().sum()"
   ]
  },
  {
   "cell_type": "code",
   "execution_count": null,
   "id": "5fec1c97-9a12-41d7-a7f9-b8d2accd6842",
   "metadata": {},
   "outputs": [],
   "source": [
    "merged_client_profile.isna().sum()"
   ]
  },
  {
   "cell_type": "code",
   "execution_count": null,
   "id": "6ae1dd6e-b6b9-4ac8-bb0d-cb13cb77564e",
   "metadata": {},
   "outputs": [],
   "source": [
    "# Now, there are no NaN values in any of the columns."
   ]
  },
  {
   "cell_type": "code",
   "execution_count": null,
   "id": "2c6288ca-ad98-493e-a42a-82dc65139c27",
   "metadata": {},
   "outputs": [],
   "source": [
    "import matplotlib.pyplot as plt\n",
    "import seaborn as sns\n",
    "import numpy as np\n",
    "\n",
    "%matplotlib inline"
   ]
  },
  {
   "cell_type": "code",
   "execution_count": null,
   "id": "606fe116-a7c1-4675-8189-7ffd312cf37c",
   "metadata": {},
   "outputs": [],
   "source": [
    "sns.barplot(x=frequency_table.index, y=frequency_table.values, hue=frequency_table.index, palette=\"Set3\", legend=False)"
   ]
  },
  {
   "cell_type": "code",
   "execution_count": null,
   "id": "6bff56a3-7b9a-459f-b930-57bd2a180fba",
   "metadata": {},
   "outputs": [],
   "source": [
    "import matplotlib.pyplot as plt\n",
    "plt.show()"
   ]
  },
  {
   "cell_type": "code",
   "execution_count": null,
   "id": "cf016f64-39ac-41b1-b8e3-470badc08c51",
   "metadata": {},
   "outputs": [],
   "source": [
    "# I need to clean the \"bal\" column for the values that contain 9999999900 at the end. Do not drop rows, but substitute values.\n",
    "# NOT DONE,"
   ]
  },
  {
   "cell_type": "code",
   "execution_count": null,
   "id": "6354e534-a8c1-4214-a646-6ada29034572",
   "metadata": {},
   "outputs": [],
   "source": []
  },
  {
   "cell_type": "code",
   "execution_count": null,
   "id": "53b3d6ea-4389-4bb2-933b-9410ace1fdfc",
   "metadata": {},
   "outputs": [],
   "source": []
  },
  {
   "cell_type": "code",
   "execution_count": null,
   "id": "e15966cf-88b3-4b1e-8c0c-b6d1acdb9564",
   "metadata": {},
   "outputs": [],
   "source": [
    "x = txt.rstrip(\"9999999900\")"
   ]
  },
  {
   "cell_type": "code",
   "execution_count": null,
   "id": "3f7172c2-9782-4a4f-9e2a-75e0b79788b3",
   "metadata": {},
   "outputs": [],
   "source": [
    "# Export to CSV merged_client_profile\n",
    "merged_client_profile.to_csv(\"merged_client_profile.csv\", index=False, encoding=\"utf-8\")"
   ]
  },
  {
   "cell_type": "code",
   "execution_count": null,
   "id": "937e2b54-af7f-4567-a5d8-4c1610fcadbf",
   "metadata": {},
   "outputs": [],
   "source": [
    "# Merge merged_client_profile with df_merged_final_web_data with an inner join.\n",
    "# I did an outer join, and there were no unmatched values left or right. That means the number of unique values of client_id is the same,\n",
    "# regardless of join type. So I have peformed an inner join below (and deleted the previous outher join).\n",
    "# THIS IS DONE"
   ]
  },
  {
   "cell_type": "code",
   "execution_count": null,
   "id": "a1b80b2a-273c-45af-a98f-748578175cd6",
   "metadata": {},
   "outputs": [],
   "source": [
    "df_4_csvs_inner = pd.merge(merged_left_final_experiment_and_final_demo, df_merged_final_web_data , on='client_id', how='inner')"
   ]
  },
  {
   "cell_type": "code",
   "execution_count": null,
   "id": "f3c57528-b5d9-4bc1-8475-73de956f0ddc",
   "metadata": {},
   "outputs": [],
   "source": [
    "df_4_csvs_inner"
   ]
  },
  {
   "cell_type": "code",
   "execution_count": null,
   "id": "562e9039-d103-4b5d-8f4b-8054c6ef6ac2",
   "metadata": {},
   "outputs": [],
   "source": [
    "df_4_csvs_inner.isna().sum()"
   ]
  },
  {
   "cell_type": "code",
   "execution_count": null,
   "id": "d9437109-61c7-4eb6-bec4-93bc0812d180",
   "metadata": {},
   "outputs": [],
   "source": [
    "# Find out what this 114 clients without an age are. If it makes sense, drop these rows.\n",
    "# NOT DONE"
   ]
  },
  {
   "cell_type": "code",
   "execution_count": null,
   "id": "b5b12803-c8fe-4536-9020-41c663cf1fb3",
   "metadata": {},
   "outputs": [],
   "source": [
    "# Find out how many unique client_ids there are.\n",
    "unique_client_count = df_4_csvs_inner[\"client_id\"].nunique()\n",
    "\n",
    "unique_client_count"
   ]
  },
  {
   "cell_type": "code",
   "execution_count": null,
   "id": "8d7aba54-be08-4e48-8494-75af20e43503",
   "metadata": {},
   "outputs": [],
   "source": [
    "# Export to CSV df_4_csvs\n",
    "df_4_csvs_inner.to_csv(\"df_4_csvs.csv\", index=False, encoding=\"utf-8\")"
   ]
  },
  {
   "cell_type": "code",
   "execution_count": null,
   "id": "235306de-7e5e-4c7b-825d-5c46dcea85c4",
   "metadata": {},
   "outputs": [],
   "source": [
    "# Create visualization to answer the following demographic question. Who are the primary clients using this online process?\n",
    "# NOT DONE"
   ]
  },
  {
   "cell_type": "code",
   "execution_count": null,
   "id": "34eed93d-a0c1-412b-8542-a6f29f357d10",
   "metadata": {},
   "outputs": [],
   "source": [
    "# Create visualization for age. Are the primary clients younger or older, new or long-standing?\n",
    "# NOT DONE"
   ]
  },
  {
   "cell_type": "code",
   "execution_count": null,
   "id": "9fe575fe-e1bf-4e15-841a-2aa3ed28a9f5",
   "metadata": {},
   "outputs": [],
   "source": [
    "# Carry out a client behaviour analysis to answer any additional relevant questions. OPTIONAL\n",
    "# NOT DONE"
   ]
  },
  {
   "cell_type": "code",
   "execution_count": null,
   "id": "2934578a-6df2-43c9-a0b2-250429324da8",
   "metadata": {},
   "outputs": [],
   "source": [
    "# Calculate KPI completion rate:\n",
    "# 1. Group 2 groups by the values of the column \"Variation\": 1 percentage number of completion rate for client_id s with the value \"Test\" vs.\n",
    "# a different percentage number of completion rate for client_id s with the value \"Control\".\n",
    "# 2. Calculate the count of unique client_ids per group, this is how many customers are part of the test vs. how many are not.\n",
    "# 3. Calculate the number of confirms per group. This is the number of unique client_id (these are the unique values of the column \"client_id\") \n",
    "# for whom the value \"confirm\" within the colum \"process_step\" appears at least once, regardless of how many times \"confirm\" appears for 1 client_id.\n",
    "# I choose to consider multiple confirms for 1 client_id as 1 single confirm. 1 confirm = 1 confirmed user\n",
    "# 4. Per group, divide number of confirms by the number of client_id s. Then multiply by 100. This is the completion rate percentage.\n",
    "# THIS IS DONE"
   ]
  },
  {
   "cell_type": "code",
   "execution_count": null,
   "id": "b9cb0435-0f32-4c8a-8282-33b179e451b9",
   "metadata": {},
   "outputs": [],
   "source": [
    "# Group by Variation (Test or Control for client_id)\n",
    "grouped_variation = df_4_csvs_inner.groupby(\"Variation\")"
   ]
  },
  {
   "cell_type": "code",
   "execution_count": null,
   "id": "905705e7-5d73-4f21-8da2-3e168e076e14",
   "metadata": {},
   "outputs": [],
   "source": [
    "# Count unique client_ids per group\n",
    "unique_clients_per_group = grouped_variation[\"client_id\"].nunique()"
   ]
  },
  {
   "cell_type": "code",
   "execution_count": null,
   "id": "11452329-6b36-4403-87f5-54af439ddc7b",
   "metadata": {},
   "outputs": [],
   "source": [
    "# Count confirmed users per group (client_id appearing at least once with \"confirm\")\n",
    "confirmed_users = df_4_csvs_inner[df_4_csvs_inner[\"process_step\"] == \"confirm\"].groupby(\"Variation\")[\"client_id\"].nunique()"
   ]
  },
  {
   "cell_type": "code",
   "execution_count": null,
   "id": "f34d6ca6-1a44-4d6f-8376-b55507170e49",
   "metadata": {},
   "outputs": [],
   "source": [
    "df_4_csvs_inner.columns"
   ]
  },
  {
   "cell_type": "code",
   "execution_count": null,
   "id": "030dcd9e-d01f-4eec-bcb0-a4f563243eb2",
   "metadata": {},
   "outputs": [],
   "source": [
    "# Calculate completion rate percentage\n",
    "completion_rate = (confirmed_users / unique_clients_per_group) * 100"
   ]
  },
  {
   "cell_type": "code",
   "execution_count": null,
   "id": "7b891335-967a-4e81-a09a-a96a4d7ae65a",
   "metadata": {},
   "outputs": [],
   "source": [
    "unique_clients_per_group"
   ]
  },
  {
   "cell_type": "code",
   "execution_count": null,
   "id": "0204e3a9-e405-4f07-924a-0e4b4361a27f",
   "metadata": {},
   "outputs": [],
   "source": [
    "confirmed_users"
   ]
  },
  {
   "cell_type": "code",
   "execution_count": null,
   "id": "ad7159d5-aab5-4d71-a6bc-19a4a480082a",
   "metadata": {},
   "outputs": [],
   "source": [
    "completion_rate"
   ]
  },
  {
   "cell_type": "code",
   "execution_count": null,
   "id": "fd0b022e-3eb1-4e85-ab46-0519bb8f5618",
   "metadata": {},
   "outputs": [],
   "source": [
    "# Conclusion of completion rate: The test group completed at a higher percentage (outperformed control group), so the test is successful.\n",
    "# Thus, the new version of the website tested should be relesased / published."
   ]
  },
  {
   "cell_type": "code",
   "execution_count": null,
   "id": "79bf925e-28a4-431d-86a4-c15f4e893d3e",
   "metadata": {},
   "outputs": [],
   "source": [
    "# Calculate KPI Time Spent on Each Step:\n",
    "# 1. Change format of column into date time using pd\n",
    "# 2. Use the diff function to calculate time between to consecutive rows??? steps???\n",
    "# 3. Out of 5 time stamps, calculate 4 time durations (times between each steps and the consecutive step). This is per user.\n",
    "# 4. Group time duration KPIs to achieve 4 time durations for each customer id group (Test vs Control), 8 time durations in total.\n",
    "# 5. If we decide to include the errors in this count, we might need to calculate a 5th time duration. This is the duration between start and step 1 (the time stamp for start only appears if the user went back to the start).\n",
    "# NOT DONE"
   ]
  },
  {
   "cell_type": "code",
   "execution_count": null,
   "id": "9bdd944b-72ac-4de8-8531-b9718c631685",
   "metadata": {},
   "outputs": [],
   "source": [
    "# 1. Change format of column into date time using pd\n",
    "df_4_csvs_inner['date_time'] = pd.to_datetime(df_4_csvs_inner['date_time'], errors='coerce')"
   ]
  },
  {
   "cell_type": "code",
   "execution_count": null,
   "id": "84997f9b-c454-4e98-8d00-0d5b9cd96704",
   "metadata": {},
   "outputs": [],
   "source": [
    "# Calculate time difference for step 1: this is the value of date_time for step 2 minus date_time for step_1."
   ]
  },
  {
   "cell_type": "code",
   "execution_count": null,
   "id": "80fcfea6-01ec-45ec-b8d6-318dd7ec9e27",
   "metadata": {},
   "outputs": [],
   "source": [
    "from datetime import datetime\n",
    "\n",
    "# Define two datetime values for start and end of duation\n",
    "date_time_step_2 = datetime.strptime(df_4_csvs_inner.loc[step_2, \"date_time\"], \"%Y-%m-%d %H:%M:%S\")\n",
    "date_time_step_1 = datetime.strptime(df_4_csvs_inner.loc[step_1, \"date_time\"], \"%Y-%m-%d %H:%M:%S\")\n",
    "# I want to get the value for date_time from \n",
    "\n",
    "# Lets set up a specific client id\n",
    "# I need to do that for the group of client_ids Test and Control. Create 1 column with the duration for each unique client_id.\n",
    "# Then, counting only unique client_ids and their duration of step 2 minus step 1\n",
    "# (not summing the durations if 1 different client_id had multiple visits),\n",
    "# calculate the average. And group by Test vs. Control to get 1 average per Variation."
   ]
  },
  {
   "cell_type": "code",
   "execution_count": null,
   "id": "dd0bb82e-35b0-4a63-a035-fa4a7c3a8d48",
   "metadata": {},
   "outputs": [],
   "source": [
    "# Example of creating a column from a list into a df.\n",
    "\n",
    "# Adding a new column C using basic arithmetic operators\n",
    "df_4_csvs_inner['duration_step_1'] = df_4_csvs_inner['date_time_step_2'] - df_4_csvs_inner['date_time_step_1']"
   ]
  },
  {
   "cell_type": "code",
   "execution_count": null,
   "id": "36817ed6-ea6a-46d5-95f6-cff0ce5c973e",
   "metadata": {},
   "outputs": [],
   "source": []
  },
  {
   "cell_type": "code",
   "execution_count": null,
   "id": "eb92a03f-6e52-4e46-b7a3-3a6fe9f00a84",
   "metadata": {},
   "outputs": [],
   "source": [
    "# Calculate the time duration for step 1\n",
    "duration_step_1 = date_time_step_2 - date_time_step_1\n",
    "\n",
    "print(duration_step_1)"
   ]
  },
  {
   "cell_type": "code",
   "execution_count": null,
   "id": "7fab27b6-9464-4082-a483-93f9f074e44f",
   "metadata": {},
   "outputs": [],
   "source": [
    "df_4_csvs_inner.head"
   ]
  },
  {
   "cell_type": "code",
   "execution_count": null,
   "id": "7a19b6f8-0e7b-40f9-b72f-4b78a7273993",
   "metadata": {},
   "outputs": [],
   "source": [
    "df_4_csvs_inner.isna().sum()"
   ]
  },
  {
   "cell_type": "code",
   "execution_count": null,
   "id": "165eb0ff-d11a-47aa-a694-42b8e4e28bcc",
   "metadata": {},
   "outputs": [],
   "source": [
    "# No null values in date_time, so conversi"
   ]
  },
  {
   "cell_type": "code",
   "execution_count": null,
   "id": "b2996e21-b623-44de-aeed-469ffbf4349f",
   "metadata": {},
   "outputs": [],
   "source": [
    "# Calculate error rates: the step before going to aprev osus tep has the error\n",
    "# 1. Create a list with steps sequence\n",
    "# My choice: If a visit has more than 0 errors, it is is an error visit, regardless of how many errors. I will also consider the customer id as having errors.\n",
    "# My choice: I will not calculate the error rate per visit, just per customer id grouped into either Test or Control.\n",
    "# My choice: Steps that will not be counted are the steps before going to a previous step, because they are steps with errors (causing the error).\n",
    "# How to calculate: If the index of a later step comes before the previous step, it is an error. ???\n",
    "# NOT DONE"
   ]
  },
  {
   "cell_type": "code",
   "execution_count": null,
   "id": "a91bb425-13b0-4b97-a8cc-6f6453d16a78",
   "metadata": {},
   "outputs": [],
   "source": [
    "\n",
    "\n",
    "# two sample t test is not valid here, we neeed to compare binary values"
   ]
  },
  {
   "cell_type": "code",
   "execution_count": null,
   "id": "03c5f1c0-a019-43fe-ae04-50519c99d11f",
   "metadata": {},
   "outputs": [],
   "source": [
    "# Day 4:"
   ]
  },
  {
   "cell_type": "code",
   "execution_count": null,
   "id": "c718549c-3e9c-4249-ae30-8d2d6174cc44",
   "metadata": {},
   "outputs": [],
   "source": [
    "#  if this difference is statistically significant.\n",
    "# Make sure to define the proper null and an alternative hypothesis to test it. Use the provided data to test these hypotheses, and determine if you can reject the null hypothesis in favor of the alternative. Make sure to consider the significance level, p-value, the statistical test prerequisites, and other relevant statistical measures in your analysis."
   ]
  },
  {
   "cell_type": "code",
   "execution_count": null,
   "id": "46aee17a-0cd8-48c3-9032-59ecef464d1c",
   "metadata": {},
   "outputs": [],
   "source": [
    "# IMPORT FISHER_EXACT TEST\n",
    "from scipy.stats import fisher_exact\n",
    "# CREATE 2X2 MATRIX\n",
    "tab = pd.crosstab(df.uspc_class, df.alice_in)\n",
    "# CONDUCT FISHER_EXACT STATISTICAL TEST\n",
    "odds_ratio, p_value = fisher_exact(tab)\n",
    "# PRINT OUT RESULTS\n",
    "if p_value < 0.05:\n",
    "    print(f'p_value: {p_value}\\nResult: There is a significant difference')\n",
    "else:\n",
    "    print(f'p_value: {p_value}\\nResult: No significant difference')"
   ]
  },
  {
   "cell_type": "code",
   "execution_count": null,
   "id": "0da29285-45a1-4897-a53d-ae18e1484855",
   "metadata": {},
   "outputs": [],
   "source": []
  },
  {
   "cell_type": "code",
   "execution_count": null,
   "id": "6ebb64bc-9573-4d22-b02c-cb34b430a09b",
   "metadata": {},
   "outputs": [],
   "source": [
    "%matplotlib inline\n",
    "\n",
    "crosstab_result = pd.crosstab(df_4_csvs_inner['Variation'], df_4_csvs_inner['confirmed'])\n",
    "\n",
    "crosstab_result"
   ]
  },
  {
   "cell_type": "code",
   "execution_count": null,
   "id": "127f1ceb-5c1d-4931-9280-9637643324ea",
   "metadata": {},
   "outputs": [],
   "source": []
  },
  {
   "cell_type": "code",
   "execution_count": null,
   "id": "df372b1e-da72-4dab-8d61-ee10ea50d624",
   "metadata": {},
   "outputs": [],
   "source": []
  },
  {
   "cell_type": "code",
   "execution_count": 23,
   "id": "416ea35c-b782-4550-8bdd-5d6fad38d382",
   "metadata": {},
   "outputs": [],
   "source": [
    "# 1- Merge the dataset with the client_id and variation with the dataset of the steps\n",
    "# 2- create a new column with either 0 or 1 for confirm\n",
    "# 3- Group by the visit_id and the variation with summing the confirm per the visit\n",
    "# 4- updating the dataset to replace the values of confirm with 1 if it is equal to 1 or more other than that 0\n",
    "    "
   ]
  },
  {
   "cell_type": "code",
   "execution_count": 25,
   "id": "a208dfad-9e0b-427f-b40f-05ff6f3394f1",
   "metadata": {},
   "outputs": [],
   "source": [
    "df_merged = pd.merge(df_merged_final_web_data, df_final_experiment_clients , on='client_id', how='inner')\n",
    "df_merged.dropna(subset = ['Variation'], inplace = True) # dropping the row with nan value in variation"
   ]
  },
  {
   "cell_type": "code",
   "execution_count": 27,
   "id": "26300dce-69b8-4fc1-a44a-1e919c7957ec",
   "metadata": {},
   "outputs": [
    {
     "data": {
      "text/html": [
       "<div>\n",
       "<style scoped>\n",
       "    .dataframe tbody tr th:only-of-type {\n",
       "        vertical-align: middle;\n",
       "    }\n",
       "\n",
       "    .dataframe tbody tr th {\n",
       "        vertical-align: top;\n",
       "    }\n",
       "\n",
       "    .dataframe thead th {\n",
       "        text-align: right;\n",
       "    }\n",
       "</style>\n",
       "<table border=\"1\" class=\"dataframe\">\n",
       "  <thead>\n",
       "    <tr style=\"text-align: right;\">\n",
       "      <th></th>\n",
       "      <th>client_id</th>\n",
       "      <th>visitor_id</th>\n",
       "      <th>visit_id</th>\n",
       "      <th>process_step</th>\n",
       "      <th>date_time</th>\n",
       "      <th>Variation</th>\n",
       "    </tr>\n",
       "  </thead>\n",
       "  <tbody>\n",
       "    <tr>\n",
       "      <th>0</th>\n",
       "      <td>9988021</td>\n",
       "      <td>580560515_7732621733</td>\n",
       "      <td>781255054_21935453173_531117</td>\n",
       "      <td>step_3</td>\n",
       "      <td>2017-04-17 15:27:07</td>\n",
       "      <td>Test</td>\n",
       "    </tr>\n",
       "    <tr>\n",
       "      <th>1</th>\n",
       "      <td>9988021</td>\n",
       "      <td>580560515_7732621733</td>\n",
       "      <td>781255054_21935453173_531117</td>\n",
       "      <td>step_2</td>\n",
       "      <td>2017-04-17 15:26:51</td>\n",
       "      <td>Test</td>\n",
       "    </tr>\n",
       "    <tr>\n",
       "      <th>2</th>\n",
       "      <td>9988021</td>\n",
       "      <td>580560515_7732621733</td>\n",
       "      <td>781255054_21935453173_531117</td>\n",
       "      <td>step_3</td>\n",
       "      <td>2017-04-17 15:19:22</td>\n",
       "      <td>Test</td>\n",
       "    </tr>\n",
       "    <tr>\n",
       "      <th>3</th>\n",
       "      <td>9988021</td>\n",
       "      <td>580560515_7732621733</td>\n",
       "      <td>781255054_21935453173_531117</td>\n",
       "      <td>step_2</td>\n",
       "      <td>2017-04-17 15:19:13</td>\n",
       "      <td>Test</td>\n",
       "    </tr>\n",
       "    <tr>\n",
       "      <th>4</th>\n",
       "      <td>9988021</td>\n",
       "      <td>580560515_7732621733</td>\n",
       "      <td>781255054_21935453173_531117</td>\n",
       "      <td>step_3</td>\n",
       "      <td>2017-04-17 15:18:04</td>\n",
       "      <td>Test</td>\n",
       "    </tr>\n",
       "    <tr>\n",
       "      <th>...</th>\n",
       "      <td>...</td>\n",
       "      <td>...</td>\n",
       "      <td>...</td>\n",
       "      <td>...</td>\n",
       "      <td>...</td>\n",
       "      <td>...</td>\n",
       "    </tr>\n",
       "    <tr>\n",
       "      <th>417650</th>\n",
       "      <td>1574008</td>\n",
       "      <td>117364417_77840596075</td>\n",
       "      <td>528720790_71583064618_169151</td>\n",
       "      <td>start</td>\n",
       "      <td>2017-05-06 23:43:27</td>\n",
       "      <td>Test</td>\n",
       "    </tr>\n",
       "    <tr>\n",
       "      <th>417651</th>\n",
       "      <td>2908510</td>\n",
       "      <td>814969699_90652851448</td>\n",
       "      <td>562606085_36368381773_92090</td>\n",
       "      <td>start</td>\n",
       "      <td>2017-05-10 22:57:17</td>\n",
       "      <td>Control</td>\n",
       "    </tr>\n",
       "    <tr>\n",
       "      <th>417652</th>\n",
       "      <td>2908510</td>\n",
       "      <td>814969699_90652851448</td>\n",
       "      <td>562606085_36368381773_92090</td>\n",
       "      <td>step_2</td>\n",
       "      <td>2017-05-10 22:56:31</td>\n",
       "      <td>Control</td>\n",
       "    </tr>\n",
       "    <tr>\n",
       "      <th>417653</th>\n",
       "      <td>2908510</td>\n",
       "      <td>814969699_90652851448</td>\n",
       "      <td>562606085_36368381773_92090</td>\n",
       "      <td>step_1</td>\n",
       "      <td>2017-05-10 22:56:23</td>\n",
       "      <td>Control</td>\n",
       "    </tr>\n",
       "    <tr>\n",
       "      <th>417654</th>\n",
       "      <td>2908510</td>\n",
       "      <td>814969699_90652851448</td>\n",
       "      <td>562606085_36368381773_92090</td>\n",
       "      <td>start</td>\n",
       "      <td>2017-05-10 22:56:20</td>\n",
       "      <td>Control</td>\n",
       "    </tr>\n",
       "  </tbody>\n",
       "</table>\n",
       "<p>321309 rows × 6 columns</p>\n",
       "</div>"
      ],
      "text/plain": [
       "        client_id             visitor_id                      visit_id  \\\n",
       "0         9988021   580560515_7732621733  781255054_21935453173_531117   \n",
       "1         9988021   580560515_7732621733  781255054_21935453173_531117   \n",
       "2         9988021   580560515_7732621733  781255054_21935453173_531117   \n",
       "3         9988021   580560515_7732621733  781255054_21935453173_531117   \n",
       "4         9988021   580560515_7732621733  781255054_21935453173_531117   \n",
       "...           ...                    ...                           ...   \n",
       "417650    1574008  117364417_77840596075  528720790_71583064618_169151   \n",
       "417651    2908510  814969699_90652851448   562606085_36368381773_92090   \n",
       "417652    2908510  814969699_90652851448   562606085_36368381773_92090   \n",
       "417653    2908510  814969699_90652851448   562606085_36368381773_92090   \n",
       "417654    2908510  814969699_90652851448   562606085_36368381773_92090   \n",
       "\n",
       "       process_step            date_time Variation  \n",
       "0            step_3  2017-04-17 15:27:07      Test  \n",
       "1            step_2  2017-04-17 15:26:51      Test  \n",
       "2            step_3  2017-04-17 15:19:22      Test  \n",
       "3            step_2  2017-04-17 15:19:13      Test  \n",
       "4            step_3  2017-04-17 15:18:04      Test  \n",
       "...             ...                  ...       ...  \n",
       "417650        start  2017-05-06 23:43:27      Test  \n",
       "417651        start  2017-05-10 22:57:17   Control  \n",
       "417652       step_2  2017-05-10 22:56:31   Control  \n",
       "417653       step_1  2017-05-10 22:56:23   Control  \n",
       "417654        start  2017-05-10 22:56:20   Control  \n",
       "\n",
       "[321309 rows x 6 columns]"
      ]
     },
     "execution_count": 27,
     "metadata": {},
     "output_type": "execute_result"
    }
   ],
   "source": [
    "df_merged"
   ]
  },
  {
   "cell_type": "code",
   "execution_count": 29,
   "id": "5d3fc5e3-0c9b-46cc-bc61-097701b3fc69",
   "metadata": {},
   "outputs": [],
   "source": [
    "df_merged['Confirm'] = df_merged['process_step'].apply(lambda x:1 if x == 'confirm' else 0)"
   ]
  },
  {
   "cell_type": "code",
   "execution_count": 31,
   "id": "bab75c64-8bd7-4e93-b232-bab94428dbf3",
   "metadata": {},
   "outputs": [
    {
     "data": {
      "text/html": [
       "<div>\n",
       "<style scoped>\n",
       "    .dataframe tbody tr th:only-of-type {\n",
       "        vertical-align: middle;\n",
       "    }\n",
       "\n",
       "    .dataframe tbody tr th {\n",
       "        vertical-align: top;\n",
       "    }\n",
       "\n",
       "    .dataframe thead th {\n",
       "        text-align: right;\n",
       "    }\n",
       "</style>\n",
       "<table border=\"1\" class=\"dataframe\">\n",
       "  <thead>\n",
       "    <tr style=\"text-align: right;\">\n",
       "      <th></th>\n",
       "      <th>client_id</th>\n",
       "      <th>visitor_id</th>\n",
       "      <th>visit_id</th>\n",
       "      <th>process_step</th>\n",
       "      <th>date_time</th>\n",
       "      <th>Variation</th>\n",
       "      <th>Confirm</th>\n",
       "    </tr>\n",
       "  </thead>\n",
       "  <tbody>\n",
       "    <tr>\n",
       "      <th>0</th>\n",
       "      <td>9988021</td>\n",
       "      <td>580560515_7732621733</td>\n",
       "      <td>781255054_21935453173_531117</td>\n",
       "      <td>step_3</td>\n",
       "      <td>2017-04-17 15:27:07</td>\n",
       "      <td>Test</td>\n",
       "      <td>0</td>\n",
       "    </tr>\n",
       "    <tr>\n",
       "      <th>1</th>\n",
       "      <td>9988021</td>\n",
       "      <td>580560515_7732621733</td>\n",
       "      <td>781255054_21935453173_531117</td>\n",
       "      <td>step_2</td>\n",
       "      <td>2017-04-17 15:26:51</td>\n",
       "      <td>Test</td>\n",
       "      <td>0</td>\n",
       "    </tr>\n",
       "    <tr>\n",
       "      <th>2</th>\n",
       "      <td>9988021</td>\n",
       "      <td>580560515_7732621733</td>\n",
       "      <td>781255054_21935453173_531117</td>\n",
       "      <td>step_3</td>\n",
       "      <td>2017-04-17 15:19:22</td>\n",
       "      <td>Test</td>\n",
       "      <td>0</td>\n",
       "    </tr>\n",
       "    <tr>\n",
       "      <th>3</th>\n",
       "      <td>9988021</td>\n",
       "      <td>580560515_7732621733</td>\n",
       "      <td>781255054_21935453173_531117</td>\n",
       "      <td>step_2</td>\n",
       "      <td>2017-04-17 15:19:13</td>\n",
       "      <td>Test</td>\n",
       "      <td>0</td>\n",
       "    </tr>\n",
       "    <tr>\n",
       "      <th>4</th>\n",
       "      <td>9988021</td>\n",
       "      <td>580560515_7732621733</td>\n",
       "      <td>781255054_21935453173_531117</td>\n",
       "      <td>step_3</td>\n",
       "      <td>2017-04-17 15:18:04</td>\n",
       "      <td>Test</td>\n",
       "      <td>0</td>\n",
       "    </tr>\n",
       "    <tr>\n",
       "      <th>5</th>\n",
       "      <td>9988021</td>\n",
       "      <td>580560515_7732621733</td>\n",
       "      <td>781255054_21935453173_531117</td>\n",
       "      <td>step_2</td>\n",
       "      <td>2017-04-17 15:17:15</td>\n",
       "      <td>Test</td>\n",
       "      <td>0</td>\n",
       "    </tr>\n",
       "    <tr>\n",
       "      <th>6</th>\n",
       "      <td>9988021</td>\n",
       "      <td>580560515_7732621733</td>\n",
       "      <td>781255054_21935453173_531117</td>\n",
       "      <td>step_1</td>\n",
       "      <td>2017-04-17 15:17:01</td>\n",
       "      <td>Test</td>\n",
       "      <td>0</td>\n",
       "    </tr>\n",
       "    <tr>\n",
       "      <th>7</th>\n",
       "      <td>9988021</td>\n",
       "      <td>580560515_7732621733</td>\n",
       "      <td>781255054_21935453173_531117</td>\n",
       "      <td>start</td>\n",
       "      <td>2017-04-17 15:16:22</td>\n",
       "      <td>Test</td>\n",
       "      <td>0</td>\n",
       "    </tr>\n",
       "    <tr>\n",
       "      <th>8</th>\n",
       "      <td>8320017</td>\n",
       "      <td>39393514_33118319366</td>\n",
       "      <td>960651974_70596002104_312201</td>\n",
       "      <td>confirm</td>\n",
       "      <td>2017-04-05 13:10:05</td>\n",
       "      <td>Test</td>\n",
       "      <td>1</td>\n",
       "    </tr>\n",
       "    <tr>\n",
       "      <th>9</th>\n",
       "      <td>8320017</td>\n",
       "      <td>39393514_33118319366</td>\n",
       "      <td>960651974_70596002104_312201</td>\n",
       "      <td>step_3</td>\n",
       "      <td>2017-04-05 13:09:43</td>\n",
       "      <td>Test</td>\n",
       "      <td>0</td>\n",
       "    </tr>\n",
       "    <tr>\n",
       "      <th>10</th>\n",
       "      <td>8320017</td>\n",
       "      <td>39393514_33118319366</td>\n",
       "      <td>960651974_70596002104_312201</td>\n",
       "      <td>step_2</td>\n",
       "      <td>2017-04-05 13:08:40</td>\n",
       "      <td>Test</td>\n",
       "      <td>0</td>\n",
       "    </tr>\n",
       "    <tr>\n",
       "      <th>11</th>\n",
       "      <td>8320017</td>\n",
       "      <td>39393514_33118319366</td>\n",
       "      <td>960651974_70596002104_312201</td>\n",
       "      <td>step_1</td>\n",
       "      <td>2017-04-05 13:08:24</td>\n",
       "      <td>Test</td>\n",
       "      <td>0</td>\n",
       "    </tr>\n",
       "    <tr>\n",
       "      <th>12</th>\n",
       "      <td>8320017</td>\n",
       "      <td>39393514_33118319366</td>\n",
       "      <td>960651974_70596002104_312201</td>\n",
       "      <td>start</td>\n",
       "      <td>2017-04-05 13:08:06</td>\n",
       "      <td>Test</td>\n",
       "      <td>0</td>\n",
       "    </tr>\n",
       "    <tr>\n",
       "      <th>13</th>\n",
       "      <td>4033851</td>\n",
       "      <td>762728880_76361333336</td>\n",
       "      <td>949661017_22392791362_127391</td>\n",
       "      <td>confirm</td>\n",
       "      <td>2017-04-05 12:29:03</td>\n",
       "      <td>Control</td>\n",
       "      <td>1</td>\n",
       "    </tr>\n",
       "    <tr>\n",
       "      <th>14</th>\n",
       "      <td>4033851</td>\n",
       "      <td>762728880_76361333336</td>\n",
       "      <td>949661017_22392791362_127391</td>\n",
       "      <td>confirm</td>\n",
       "      <td>2017-04-05 12:29:01</td>\n",
       "      <td>Control</td>\n",
       "      <td>1</td>\n",
       "    </tr>\n",
       "    <tr>\n",
       "      <th>15</th>\n",
       "      <td>4033851</td>\n",
       "      <td>762728880_76361333336</td>\n",
       "      <td>949661017_22392791362_127391</td>\n",
       "      <td>confirm</td>\n",
       "      <td>2017-04-05 12:28:52</td>\n",
       "      <td>Control</td>\n",
       "      <td>1</td>\n",
       "    </tr>\n",
       "    <tr>\n",
       "      <th>16</th>\n",
       "      <td>4033851</td>\n",
       "      <td>762728880_76361333336</td>\n",
       "      <td>949661017_22392791362_127391</td>\n",
       "      <td>step_3</td>\n",
       "      <td>2017-04-05 12:26:08</td>\n",
       "      <td>Control</td>\n",
       "      <td>0</td>\n",
       "    </tr>\n",
       "    <tr>\n",
       "      <th>17</th>\n",
       "      <td>4033851</td>\n",
       "      <td>762728880_76361333336</td>\n",
       "      <td>949661017_22392791362_127391</td>\n",
       "      <td>step_2</td>\n",
       "      <td>2017-04-05 12:24:43</td>\n",
       "      <td>Control</td>\n",
       "      <td>0</td>\n",
       "    </tr>\n",
       "    <tr>\n",
       "      <th>18</th>\n",
       "      <td>4033851</td>\n",
       "      <td>762728880_76361333336</td>\n",
       "      <td>949661017_22392791362_127391</td>\n",
       "      <td>step_1</td>\n",
       "      <td>2017-04-05 12:24:12</td>\n",
       "      <td>Control</td>\n",
       "      <td>0</td>\n",
       "    </tr>\n",
       "    <tr>\n",
       "      <th>19</th>\n",
       "      <td>4033851</td>\n",
       "      <td>762728880_76361333336</td>\n",
       "      <td>949661017_22392791362_127391</td>\n",
       "      <td>start</td>\n",
       "      <td>2017-04-05 12:24:04</td>\n",
       "      <td>Control</td>\n",
       "      <td>0</td>\n",
       "    </tr>\n",
       "    <tr>\n",
       "      <th>20</th>\n",
       "      <td>4033851</td>\n",
       "      <td>762728880_76361333336</td>\n",
       "      <td>949661017_22392791362_127391</td>\n",
       "      <td>step_2</td>\n",
       "      <td>2017-04-05 12:10:26</td>\n",
       "      <td>Control</td>\n",
       "      <td>0</td>\n",
       "    </tr>\n",
       "    <tr>\n",
       "      <th>21</th>\n",
       "      <td>4033851</td>\n",
       "      <td>762728880_76361333336</td>\n",
       "      <td>949661017_22392791362_127391</td>\n",
       "      <td>step_3</td>\n",
       "      <td>2017-04-05 12:10:26</td>\n",
       "      <td>Control</td>\n",
       "      <td>0</td>\n",
       "    </tr>\n",
       "    <tr>\n",
       "      <th>22</th>\n",
       "      <td>4033851</td>\n",
       "      <td>762728880_76361333336</td>\n",
       "      <td>949661017_22392791362_127391</td>\n",
       "      <td>step_2</td>\n",
       "      <td>2017-04-05 12:10:25</td>\n",
       "      <td>Control</td>\n",
       "      <td>0</td>\n",
       "    </tr>\n",
       "    <tr>\n",
       "      <th>23</th>\n",
       "      <td>4033851</td>\n",
       "      <td>762728880_76361333336</td>\n",
       "      <td>949661017_22392791362_127391</td>\n",
       "      <td>step_3</td>\n",
       "      <td>2017-04-05 12:10:25</td>\n",
       "      <td>Control</td>\n",
       "      <td>0</td>\n",
       "    </tr>\n",
       "    <tr>\n",
       "      <th>24</th>\n",
       "      <td>1982004</td>\n",
       "      <td>618934751_10082078917</td>\n",
       "      <td>132494692_73738638511_70823</td>\n",
       "      <td>confirm</td>\n",
       "      <td>2017-04-17 12:02:42</td>\n",
       "      <td>Test</td>\n",
       "      <td>1</td>\n",
       "    </tr>\n",
       "    <tr>\n",
       "      <th>25</th>\n",
       "      <td>1982004</td>\n",
       "      <td>618934751_10082078917</td>\n",
       "      <td>132494692_73738638511_70823</td>\n",
       "      <td>step_3</td>\n",
       "      <td>2017-04-17 12:01:09</td>\n",
       "      <td>Test</td>\n",
       "      <td>0</td>\n",
       "    </tr>\n",
       "    <tr>\n",
       "      <th>26</th>\n",
       "      <td>1982004</td>\n",
       "      <td>618934751_10082078917</td>\n",
       "      <td>132494692_73738638511_70823</td>\n",
       "      <td>step_2</td>\n",
       "      <td>2017-04-17 12:00:01</td>\n",
       "      <td>Test</td>\n",
       "      <td>0</td>\n",
       "    </tr>\n",
       "    <tr>\n",
       "      <th>27</th>\n",
       "      <td>1982004</td>\n",
       "      <td>618934751_10082078917</td>\n",
       "      <td>132494692_73738638511_70823</td>\n",
       "      <td>step_1</td>\n",
       "      <td>2017-04-17 11:59:46</td>\n",
       "      <td>Test</td>\n",
       "      <td>0</td>\n",
       "    </tr>\n",
       "    <tr>\n",
       "      <th>28</th>\n",
       "      <td>1982004</td>\n",
       "      <td>618934751_10082078917</td>\n",
       "      <td>132494692_73738638511_70823</td>\n",
       "      <td>start</td>\n",
       "      <td>2017-04-17 11:59:42</td>\n",
       "      <td>Test</td>\n",
       "      <td>0</td>\n",
       "    </tr>\n",
       "    <tr>\n",
       "      <th>29</th>\n",
       "      <td>9294070</td>\n",
       "      <td>489274391_63794562906</td>\n",
       "      <td>116640698_27328181095_188045</td>\n",
       "      <td>start</td>\n",
       "      <td>2017-04-17 11:16:28</td>\n",
       "      <td>Control</td>\n",
       "      <td>0</td>\n",
       "    </tr>\n",
       "    <tr>\n",
       "      <th>30</th>\n",
       "      <td>9294070</td>\n",
       "      <td>489274391_63794562906</td>\n",
       "      <td>116640698_27328181095_188045</td>\n",
       "      <td>start</td>\n",
       "      <td>2017-04-17 11:16:13</td>\n",
       "      <td>Control</td>\n",
       "      <td>0</td>\n",
       "    </tr>\n",
       "    <tr>\n",
       "      <th>31</th>\n",
       "      <td>9466803</td>\n",
       "      <td>97277031_5793723360</td>\n",
       "      <td>812185460_4263902139_352107</td>\n",
       "      <td>start</td>\n",
       "      <td>2017-04-16 13:24:45</td>\n",
       "      <td>Test</td>\n",
       "      <td>0</td>\n",
       "    </tr>\n",
       "    <tr>\n",
       "      <th>32</th>\n",
       "      <td>9466803</td>\n",
       "      <td>97277031_5793723360</td>\n",
       "      <td>812185460_4263902139_352107</td>\n",
       "      <td>step_2</td>\n",
       "      <td>2017-04-16 13:24:16</td>\n",
       "      <td>Test</td>\n",
       "      <td>0</td>\n",
       "    </tr>\n",
       "    <tr>\n",
       "      <th>33</th>\n",
       "      <td>9466803</td>\n",
       "      <td>97277031_5793723360</td>\n",
       "      <td>812185460_4263902139_352107</td>\n",
       "      <td>step_1</td>\n",
       "      <td>2017-04-16 13:24:07</td>\n",
       "      <td>Test</td>\n",
       "      <td>0</td>\n",
       "    </tr>\n",
       "    <tr>\n",
       "      <th>34</th>\n",
       "      <td>9466803</td>\n",
       "      <td>97277031_5793723360</td>\n",
       "      <td>812185460_4263902139_352107</td>\n",
       "      <td>start</td>\n",
       "      <td>2017-04-16 13:24:05</td>\n",
       "      <td>Test</td>\n",
       "      <td>0</td>\n",
       "    </tr>\n",
       "    <tr>\n",
       "      <th>35</th>\n",
       "      <td>9466803</td>\n",
       "      <td>97277031_5793723360</td>\n",
       "      <td>812185460_4263902139_352107</td>\n",
       "      <td>step_1</td>\n",
       "      <td>2017-04-16 13:21:58</td>\n",
       "      <td>Test</td>\n",
       "      <td>0</td>\n",
       "    </tr>\n",
       "    <tr>\n",
       "      <th>36</th>\n",
       "      <td>9466803</td>\n",
       "      <td>97277031_5793723360</td>\n",
       "      <td>812185460_4263902139_352107</td>\n",
       "      <td>start</td>\n",
       "      <td>2017-04-16 13:21:51</td>\n",
       "      <td>Test</td>\n",
       "      <td>0</td>\n",
       "    </tr>\n",
       "    <tr>\n",
       "      <th>37</th>\n",
       "      <td>3170143</td>\n",
       "      <td>837774974_91015515080</td>\n",
       "      <td>758001412_25057963943_219559</td>\n",
       "      <td>confirm</td>\n",
       "      <td>2017-04-04 18:41:44</td>\n",
       "      <td>Test</td>\n",
       "      <td>1</td>\n",
       "    </tr>\n",
       "    <tr>\n",
       "      <th>38</th>\n",
       "      <td>3170143</td>\n",
       "      <td>837774974_91015515080</td>\n",
       "      <td>758001412_25057963943_219559</td>\n",
       "      <td>step_3</td>\n",
       "      <td>2017-04-04 18:41:03</td>\n",
       "      <td>Test</td>\n",
       "      <td>0</td>\n",
       "    </tr>\n",
       "    <tr>\n",
       "      <th>39</th>\n",
       "      <td>3170143</td>\n",
       "      <td>837774974_91015515080</td>\n",
       "      <td>758001412_25057963943_219559</td>\n",
       "      <td>step_2</td>\n",
       "      <td>2017-04-04 18:38:22</td>\n",
       "      <td>Test</td>\n",
       "      <td>0</td>\n",
       "    </tr>\n",
       "    <tr>\n",
       "      <th>40</th>\n",
       "      <td>3170143</td>\n",
       "      <td>837774974_91015515080</td>\n",
       "      <td>758001412_25057963943_219559</td>\n",
       "      <td>step_1</td>\n",
       "      <td>2017-04-04 18:38:14</td>\n",
       "      <td>Test</td>\n",
       "      <td>0</td>\n",
       "    </tr>\n",
       "    <tr>\n",
       "      <th>41</th>\n",
       "      <td>3170143</td>\n",
       "      <td>837774974_91015515080</td>\n",
       "      <td>758001412_25057963943_219559</td>\n",
       "      <td>start</td>\n",
       "      <td>2017-04-04 18:38:02</td>\n",
       "      <td>Test</td>\n",
       "      <td>0</td>\n",
       "    </tr>\n",
       "    <tr>\n",
       "      <th>42</th>\n",
       "      <td>6651403</td>\n",
       "      <td>387438258_49845138949</td>\n",
       "      <td>754106292_61370647593_160929</td>\n",
       "      <td>confirm</td>\n",
       "      <td>2017-04-04 17:38:39</td>\n",
       "      <td>Control</td>\n",
       "      <td>1</td>\n",
       "    </tr>\n",
       "    <tr>\n",
       "      <th>43</th>\n",
       "      <td>6651403</td>\n",
       "      <td>387438258_49845138949</td>\n",
       "      <td>754106292_61370647593_160929</td>\n",
       "      <td>step_3</td>\n",
       "      <td>2017-04-04 17:34:03</td>\n",
       "      <td>Control</td>\n",
       "      <td>0</td>\n",
       "    </tr>\n",
       "    <tr>\n",
       "      <th>44</th>\n",
       "      <td>6651403</td>\n",
       "      <td>387438258_49845138949</td>\n",
       "      <td>754106292_61370647593_160929</td>\n",
       "      <td>step_2</td>\n",
       "      <td>2017-04-04 17:33:55</td>\n",
       "      <td>Control</td>\n",
       "      <td>0</td>\n",
       "    </tr>\n",
       "    <tr>\n",
       "      <th>45</th>\n",
       "      <td>6651403</td>\n",
       "      <td>387438258_49845138949</td>\n",
       "      <td>754106292_61370647593_160929</td>\n",
       "      <td>step_3</td>\n",
       "      <td>2017-04-04 17:31:32</td>\n",
       "      <td>Control</td>\n",
       "      <td>0</td>\n",
       "    </tr>\n",
       "    <tr>\n",
       "      <th>46</th>\n",
       "      <td>6651403</td>\n",
       "      <td>387438258_49845138949</td>\n",
       "      <td>754106292_61370647593_160929</td>\n",
       "      <td>step_2</td>\n",
       "      <td>2017-04-04 17:28:44</td>\n",
       "      <td>Control</td>\n",
       "      <td>0</td>\n",
       "    </tr>\n",
       "    <tr>\n",
       "      <th>47</th>\n",
       "      <td>6651403</td>\n",
       "      <td>387438258_49845138949</td>\n",
       "      <td>754106292_61370647593_160929</td>\n",
       "      <td>step_1</td>\n",
       "      <td>2017-04-04 17:28:35</td>\n",
       "      <td>Control</td>\n",
       "      <td>0</td>\n",
       "    </tr>\n",
       "    <tr>\n",
       "      <th>48</th>\n",
       "      <td>6651403</td>\n",
       "      <td>387438258_49845138949</td>\n",
       "      <td>754106292_61370647593_160929</td>\n",
       "      <td>start</td>\n",
       "      <td>2017-04-04 17:28:18</td>\n",
       "      <td>Control</td>\n",
       "      <td>0</td>\n",
       "    </tr>\n",
       "    <tr>\n",
       "      <th>49</th>\n",
       "      <td>5887227</td>\n",
       "      <td>448202785_26003228044</td>\n",
       "      <td>458489157_53226123692_778999</td>\n",
       "      <td>confirm</td>\n",
       "      <td>2017-04-05 14:52:34</td>\n",
       "      <td>Test</td>\n",
       "      <td>1</td>\n",
       "    </tr>\n",
       "    <tr>\n",
       "      <th>50</th>\n",
       "      <td>5887227</td>\n",
       "      <td>448202785_26003228044</td>\n",
       "      <td>458489157_53226123692_778999</td>\n",
       "      <td>step_3</td>\n",
       "      <td>2017-04-05 14:50:41</td>\n",
       "      <td>Test</td>\n",
       "      <td>0</td>\n",
       "    </tr>\n",
       "    <tr>\n",
       "      <th>51</th>\n",
       "      <td>5887227</td>\n",
       "      <td>448202785_26003228044</td>\n",
       "      <td>458489157_53226123692_778999</td>\n",
       "      <td>step_2</td>\n",
       "      <td>2017-04-05 14:49:03</td>\n",
       "      <td>Test</td>\n",
       "      <td>0</td>\n",
       "    </tr>\n",
       "    <tr>\n",
       "      <th>52</th>\n",
       "      <td>5887227</td>\n",
       "      <td>448202785_26003228044</td>\n",
       "      <td>458489157_53226123692_778999</td>\n",
       "      <td>step_1</td>\n",
       "      <td>2017-04-05 14:47:36</td>\n",
       "      <td>Test</td>\n",
       "      <td>0</td>\n",
       "    </tr>\n",
       "    <tr>\n",
       "      <th>53</th>\n",
       "      <td>5887227</td>\n",
       "      <td>448202785_26003228044</td>\n",
       "      <td>458489157_53226123692_778999</td>\n",
       "      <td>start</td>\n",
       "      <td>2017-04-05 14:46:57</td>\n",
       "      <td>Test</td>\n",
       "      <td>0</td>\n",
       "    </tr>\n",
       "    <tr>\n",
       "      <th>54</th>\n",
       "      <td>5887227</td>\n",
       "      <td>448202785_26003228044</td>\n",
       "      <td>458489157_53226123692_778999</td>\n",
       "      <td>start</td>\n",
       "      <td>2017-04-05 14:45:43</td>\n",
       "      <td>Test</td>\n",
       "      <td>0</td>\n",
       "    </tr>\n",
       "    <tr>\n",
       "      <th>55</th>\n",
       "      <td>5887227</td>\n",
       "      <td>448202785_26003228044</td>\n",
       "      <td>458489157_53226123692_778999</td>\n",
       "      <td>start</td>\n",
       "      <td>2017-04-05 14:45:14</td>\n",
       "      <td>Test</td>\n",
       "      <td>0</td>\n",
       "    </tr>\n",
       "    <tr>\n",
       "      <th>56</th>\n",
       "      <td>2105948</td>\n",
       "      <td>111894218_79248359000</td>\n",
       "      <td>284161492_75966778593_698992</td>\n",
       "      <td>confirm</td>\n",
       "      <td>2017-04-05 14:04:56</td>\n",
       "      <td>Control</td>\n",
       "      <td>1</td>\n",
       "    </tr>\n",
       "    <tr>\n",
       "      <th>57</th>\n",
       "      <td>2105948</td>\n",
       "      <td>111894218_79248359000</td>\n",
       "      <td>284161492_75966778593_698992</td>\n",
       "      <td>step_3</td>\n",
       "      <td>2017-04-05 14:00:00</td>\n",
       "      <td>Control</td>\n",
       "      <td>0</td>\n",
       "    </tr>\n",
       "    <tr>\n",
       "      <th>58</th>\n",
       "      <td>2105948</td>\n",
       "      <td>111894218_79248359000</td>\n",
       "      <td>284161492_75966778593_698992</td>\n",
       "      <td>step_2</td>\n",
       "      <td>2017-04-05 13:59:46</td>\n",
       "      <td>Control</td>\n",
       "      <td>0</td>\n",
       "    </tr>\n",
       "    <tr>\n",
       "      <th>59</th>\n",
       "      <td>2105948</td>\n",
       "      <td>111894218_79248359000</td>\n",
       "      <td>284161492_75966778593_698992</td>\n",
       "      <td>step_3</td>\n",
       "      <td>2017-04-05 13:58:32</td>\n",
       "      <td>Control</td>\n",
       "      <td>0</td>\n",
       "    </tr>\n",
       "  </tbody>\n",
       "</table>\n",
       "</div>"
      ],
      "text/plain": [
       "    client_id             visitor_id                      visit_id  \\\n",
       "0     9988021   580560515_7732621733  781255054_21935453173_531117   \n",
       "1     9988021   580560515_7732621733  781255054_21935453173_531117   \n",
       "2     9988021   580560515_7732621733  781255054_21935453173_531117   \n",
       "3     9988021   580560515_7732621733  781255054_21935453173_531117   \n",
       "4     9988021   580560515_7732621733  781255054_21935453173_531117   \n",
       "5     9988021   580560515_7732621733  781255054_21935453173_531117   \n",
       "6     9988021   580560515_7732621733  781255054_21935453173_531117   \n",
       "7     9988021   580560515_7732621733  781255054_21935453173_531117   \n",
       "8     8320017   39393514_33118319366  960651974_70596002104_312201   \n",
       "9     8320017   39393514_33118319366  960651974_70596002104_312201   \n",
       "10    8320017   39393514_33118319366  960651974_70596002104_312201   \n",
       "11    8320017   39393514_33118319366  960651974_70596002104_312201   \n",
       "12    8320017   39393514_33118319366  960651974_70596002104_312201   \n",
       "13    4033851  762728880_76361333336  949661017_22392791362_127391   \n",
       "14    4033851  762728880_76361333336  949661017_22392791362_127391   \n",
       "15    4033851  762728880_76361333336  949661017_22392791362_127391   \n",
       "16    4033851  762728880_76361333336  949661017_22392791362_127391   \n",
       "17    4033851  762728880_76361333336  949661017_22392791362_127391   \n",
       "18    4033851  762728880_76361333336  949661017_22392791362_127391   \n",
       "19    4033851  762728880_76361333336  949661017_22392791362_127391   \n",
       "20    4033851  762728880_76361333336  949661017_22392791362_127391   \n",
       "21    4033851  762728880_76361333336  949661017_22392791362_127391   \n",
       "22    4033851  762728880_76361333336  949661017_22392791362_127391   \n",
       "23    4033851  762728880_76361333336  949661017_22392791362_127391   \n",
       "24    1982004  618934751_10082078917   132494692_73738638511_70823   \n",
       "25    1982004  618934751_10082078917   132494692_73738638511_70823   \n",
       "26    1982004  618934751_10082078917   132494692_73738638511_70823   \n",
       "27    1982004  618934751_10082078917   132494692_73738638511_70823   \n",
       "28    1982004  618934751_10082078917   132494692_73738638511_70823   \n",
       "29    9294070  489274391_63794562906  116640698_27328181095_188045   \n",
       "30    9294070  489274391_63794562906  116640698_27328181095_188045   \n",
       "31    9466803    97277031_5793723360   812185460_4263902139_352107   \n",
       "32    9466803    97277031_5793723360   812185460_4263902139_352107   \n",
       "33    9466803    97277031_5793723360   812185460_4263902139_352107   \n",
       "34    9466803    97277031_5793723360   812185460_4263902139_352107   \n",
       "35    9466803    97277031_5793723360   812185460_4263902139_352107   \n",
       "36    9466803    97277031_5793723360   812185460_4263902139_352107   \n",
       "37    3170143  837774974_91015515080  758001412_25057963943_219559   \n",
       "38    3170143  837774974_91015515080  758001412_25057963943_219559   \n",
       "39    3170143  837774974_91015515080  758001412_25057963943_219559   \n",
       "40    3170143  837774974_91015515080  758001412_25057963943_219559   \n",
       "41    3170143  837774974_91015515080  758001412_25057963943_219559   \n",
       "42    6651403  387438258_49845138949  754106292_61370647593_160929   \n",
       "43    6651403  387438258_49845138949  754106292_61370647593_160929   \n",
       "44    6651403  387438258_49845138949  754106292_61370647593_160929   \n",
       "45    6651403  387438258_49845138949  754106292_61370647593_160929   \n",
       "46    6651403  387438258_49845138949  754106292_61370647593_160929   \n",
       "47    6651403  387438258_49845138949  754106292_61370647593_160929   \n",
       "48    6651403  387438258_49845138949  754106292_61370647593_160929   \n",
       "49    5887227  448202785_26003228044  458489157_53226123692_778999   \n",
       "50    5887227  448202785_26003228044  458489157_53226123692_778999   \n",
       "51    5887227  448202785_26003228044  458489157_53226123692_778999   \n",
       "52    5887227  448202785_26003228044  458489157_53226123692_778999   \n",
       "53    5887227  448202785_26003228044  458489157_53226123692_778999   \n",
       "54    5887227  448202785_26003228044  458489157_53226123692_778999   \n",
       "55    5887227  448202785_26003228044  458489157_53226123692_778999   \n",
       "56    2105948  111894218_79248359000  284161492_75966778593_698992   \n",
       "57    2105948  111894218_79248359000  284161492_75966778593_698992   \n",
       "58    2105948  111894218_79248359000  284161492_75966778593_698992   \n",
       "59    2105948  111894218_79248359000  284161492_75966778593_698992   \n",
       "\n",
       "   process_step            date_time Variation  Confirm  \n",
       "0        step_3  2017-04-17 15:27:07      Test        0  \n",
       "1        step_2  2017-04-17 15:26:51      Test        0  \n",
       "2        step_3  2017-04-17 15:19:22      Test        0  \n",
       "3        step_2  2017-04-17 15:19:13      Test        0  \n",
       "4        step_3  2017-04-17 15:18:04      Test        0  \n",
       "5        step_2  2017-04-17 15:17:15      Test        0  \n",
       "6        step_1  2017-04-17 15:17:01      Test        0  \n",
       "7         start  2017-04-17 15:16:22      Test        0  \n",
       "8       confirm  2017-04-05 13:10:05      Test        1  \n",
       "9        step_3  2017-04-05 13:09:43      Test        0  \n",
       "10       step_2  2017-04-05 13:08:40      Test        0  \n",
       "11       step_1  2017-04-05 13:08:24      Test        0  \n",
       "12        start  2017-04-05 13:08:06      Test        0  \n",
       "13      confirm  2017-04-05 12:29:03   Control        1  \n",
       "14      confirm  2017-04-05 12:29:01   Control        1  \n",
       "15      confirm  2017-04-05 12:28:52   Control        1  \n",
       "16       step_3  2017-04-05 12:26:08   Control        0  \n",
       "17       step_2  2017-04-05 12:24:43   Control        0  \n",
       "18       step_1  2017-04-05 12:24:12   Control        0  \n",
       "19        start  2017-04-05 12:24:04   Control        0  \n",
       "20       step_2  2017-04-05 12:10:26   Control        0  \n",
       "21       step_3  2017-04-05 12:10:26   Control        0  \n",
       "22       step_2  2017-04-05 12:10:25   Control        0  \n",
       "23       step_3  2017-04-05 12:10:25   Control        0  \n",
       "24      confirm  2017-04-17 12:02:42      Test        1  \n",
       "25       step_3  2017-04-17 12:01:09      Test        0  \n",
       "26       step_2  2017-04-17 12:00:01      Test        0  \n",
       "27       step_1  2017-04-17 11:59:46      Test        0  \n",
       "28        start  2017-04-17 11:59:42      Test        0  \n",
       "29        start  2017-04-17 11:16:28   Control        0  \n",
       "30        start  2017-04-17 11:16:13   Control        0  \n",
       "31        start  2017-04-16 13:24:45      Test        0  \n",
       "32       step_2  2017-04-16 13:24:16      Test        0  \n",
       "33       step_1  2017-04-16 13:24:07      Test        0  \n",
       "34        start  2017-04-16 13:24:05      Test        0  \n",
       "35       step_1  2017-04-16 13:21:58      Test        0  \n",
       "36        start  2017-04-16 13:21:51      Test        0  \n",
       "37      confirm  2017-04-04 18:41:44      Test        1  \n",
       "38       step_3  2017-04-04 18:41:03      Test        0  \n",
       "39       step_2  2017-04-04 18:38:22      Test        0  \n",
       "40       step_1  2017-04-04 18:38:14      Test        0  \n",
       "41        start  2017-04-04 18:38:02      Test        0  \n",
       "42      confirm  2017-04-04 17:38:39   Control        1  \n",
       "43       step_3  2017-04-04 17:34:03   Control        0  \n",
       "44       step_2  2017-04-04 17:33:55   Control        0  \n",
       "45       step_3  2017-04-04 17:31:32   Control        0  \n",
       "46       step_2  2017-04-04 17:28:44   Control        0  \n",
       "47       step_1  2017-04-04 17:28:35   Control        0  \n",
       "48        start  2017-04-04 17:28:18   Control        0  \n",
       "49      confirm  2017-04-05 14:52:34      Test        1  \n",
       "50       step_3  2017-04-05 14:50:41      Test        0  \n",
       "51       step_2  2017-04-05 14:49:03      Test        0  \n",
       "52       step_1  2017-04-05 14:47:36      Test        0  \n",
       "53        start  2017-04-05 14:46:57      Test        0  \n",
       "54        start  2017-04-05 14:45:43      Test        0  \n",
       "55        start  2017-04-05 14:45:14      Test        0  \n",
       "56      confirm  2017-04-05 14:04:56   Control        1  \n",
       "57       step_3  2017-04-05 14:00:00   Control        0  \n",
       "58       step_2  2017-04-05 13:59:46   Control        0  \n",
       "59       step_3  2017-04-05 13:58:32   Control        0  "
      ]
     },
     "execution_count": 31,
     "metadata": {},
     "output_type": "execute_result"
    }
   ],
   "source": [
    "df_merged.head(60)"
   ]
  },
  {
   "cell_type": "code",
   "execution_count": 33,
   "id": "cdb497d2-623c-439e-9d5a-7092dfd07d9a",
   "metadata": {},
   "outputs": [],
   "source": [
    "visits_confirm_df = pd.DataFrame(df_merged.groupby(['visit_id','Variation'])['Confirm'].sum().reset_index())\n",
    "visits_confirm_df['Confirm'] = visits_confirm_df['Confirm'].apply(lambda x:1 if x >= 1 else 0)"
   ]
  },
  {
   "cell_type": "code",
   "execution_count": 35,
   "id": "45edc449-c05c-462a-8226-e88c2641de1b",
   "metadata": {},
   "outputs": [
    {
     "data": {
      "text/plain": [
       "Confirm\n",
       "1    37777\n",
       "0    31548\n",
       "Name: count, dtype: int64"
      ]
     },
     "execution_count": 35,
     "metadata": {},
     "output_type": "execute_result"
    }
   ],
   "source": [
    "visits_confirm_df['Confirm'].value_counts()"
   ]
  },
  {
   "cell_type": "code",
   "execution_count": 37,
   "id": "01cb1159-6248-411a-bcbf-5c2fdedad68b",
   "metadata": {},
   "outputs": [
    {
     "data": {
      "text/html": [
       "<div>\n",
       "<style scoped>\n",
       "    .dataframe tbody tr th:only-of-type {\n",
       "        vertical-align: middle;\n",
       "    }\n",
       "\n",
       "    .dataframe tbody tr th {\n",
       "        vertical-align: top;\n",
       "    }\n",
       "\n",
       "    .dataframe thead th {\n",
       "        text-align: right;\n",
       "    }\n",
       "</style>\n",
       "<table border=\"1\" class=\"dataframe\">\n",
       "  <thead>\n",
       "    <tr style=\"text-align: right;\">\n",
       "      <th></th>\n",
       "      <th>visit_id</th>\n",
       "      <th>Variation</th>\n",
       "      <th>Confirm</th>\n",
       "    </tr>\n",
       "  </thead>\n",
       "  <tbody>\n",
       "    <tr>\n",
       "      <th>0</th>\n",
       "      <td>100012776_37918976071_457913</td>\n",
       "      <td>Test</td>\n",
       "      <td>1</td>\n",
       "    </tr>\n",
       "    <tr>\n",
       "      <th>1</th>\n",
       "      <td>100019538_17884295066_43909</td>\n",
       "      <td>Test</td>\n",
       "      <td>1</td>\n",
       "    </tr>\n",
       "    <tr>\n",
       "      <th>2</th>\n",
       "      <td>100022086_87870757897_149620</td>\n",
       "      <td>Test</td>\n",
       "      <td>1</td>\n",
       "    </tr>\n",
       "    <tr>\n",
       "      <th>3</th>\n",
       "      <td>100030127_47967100085_936361</td>\n",
       "      <td>Control</td>\n",
       "      <td>0</td>\n",
       "    </tr>\n",
       "    <tr>\n",
       "      <th>4</th>\n",
       "      <td>100037962_47432393712_705583</td>\n",
       "      <td>Control</td>\n",
       "      <td>0</td>\n",
       "    </tr>\n",
       "    <tr>\n",
       "      <th>...</th>\n",
       "      <td>...</td>\n",
       "      <td>...</td>\n",
       "      <td>...</td>\n",
       "    </tr>\n",
       "    <tr>\n",
       "      <th>69320</th>\n",
       "      <td>999971096_28827267783_236076</td>\n",
       "      <td>Test</td>\n",
       "      <td>1</td>\n",
       "    </tr>\n",
       "    <tr>\n",
       "      <th>69321</th>\n",
       "      <td>999976049_95772503197_182554</td>\n",
       "      <td>Test</td>\n",
       "      <td>1</td>\n",
       "    </tr>\n",
       "    <tr>\n",
       "      <th>69322</th>\n",
       "      <td>999984454_18731538378_781808</td>\n",
       "      <td>Test</td>\n",
       "      <td>1</td>\n",
       "    </tr>\n",
       "    <tr>\n",
       "      <th>69323</th>\n",
       "      <td>999985675_64610694964_443659</td>\n",
       "      <td>Control</td>\n",
       "      <td>1</td>\n",
       "    </tr>\n",
       "    <tr>\n",
       "      <th>69324</th>\n",
       "      <td>999988789_76411676596_272843</td>\n",
       "      <td>Test</td>\n",
       "      <td>0</td>\n",
       "    </tr>\n",
       "  </tbody>\n",
       "</table>\n",
       "<p>69325 rows × 3 columns</p>\n",
       "</div>"
      ],
      "text/plain": [
       "                           visit_id Variation  Confirm\n",
       "0      100012776_37918976071_457913      Test        1\n",
       "1       100019538_17884295066_43909      Test        1\n",
       "2      100022086_87870757897_149620      Test        1\n",
       "3      100030127_47967100085_936361   Control        0\n",
       "4      100037962_47432393712_705583   Control        0\n",
       "...                             ...       ...      ...\n",
       "69320  999971096_28827267783_236076      Test        1\n",
       "69321  999976049_95772503197_182554      Test        1\n",
       "69322  999984454_18731538378_781808      Test        1\n",
       "69323  999985675_64610694964_443659   Control        1\n",
       "69324  999988789_76411676596_272843      Test        0\n",
       "\n",
       "[69325 rows x 3 columns]"
      ]
     },
     "execution_count": 37,
     "metadata": {},
     "output_type": "execute_result"
    }
   ],
   "source": [
    "visits_confirm_df"
   ]
  },
  {
   "cell_type": "code",
   "execution_count": 39,
   "id": "eeca4116-693b-4156-aeef-b5ffb299a2fb",
   "metadata": {},
   "outputs": [
    {
     "data": {
      "text/plain": [
       "0        1\n",
       "1        1\n",
       "2        1\n",
       "11       1\n",
       "13       1\n",
       "        ..\n",
       "69319    0\n",
       "69320    1\n",
       "69321    1\n",
       "69322    1\n",
       "69324    0\n",
       "Name: Confirm, Length: 37136, dtype: int64"
      ]
     },
     "execution_count": 39,
     "metadata": {},
     "output_type": "execute_result"
    }
   ],
   "source": [
    "visits_confirm_df[visits_confirm_df['Variation'] == 'Test']['Confirm']"
   ]
  },
  {
   "cell_type": "code",
   "execution_count": 41,
   "id": "e93e39e8-2d6c-46a0-8aa5-0a2dd17480f0",
   "metadata": {},
   "outputs": [
    {
     "data": {
      "text/plain": [
       "3        0\n",
       "4        0\n",
       "5        0\n",
       "6        1\n",
       "7        0\n",
       "        ..\n",
       "69309    1\n",
       "69310    0\n",
       "69314    0\n",
       "69316    0\n",
       "69323    1\n",
       "Name: Confirm, Length: 32189, dtype: int64"
      ]
     },
     "execution_count": 41,
     "metadata": {},
     "output_type": "execute_result"
    }
   ],
   "source": [
    "visits_confirm_df[visits_confirm_df['Variation'] == 'Control']['Confirm']"
   ]
  },
  {
   "cell_type": "code",
   "execution_count": null,
   "id": "8d6725b9-1669-4403-a648-7ca00f687133",
   "metadata": {},
   "outputs": [],
   "source": [
    "# AB HIER IST ALLES NEU VOM 15.05.2025."
   ]
  },
  {
   "cell_type": "code",
   "execution_count": null,
   "id": "45e63324-11cb-4d63-8108-f7a12bb523bf",
   "metadata": {},
   "outputs": [],
   "source": []
  },
  {
   "cell_type": "code",
   "execution_count": null,
   "id": "a5854258-a029-4e1c-9265-d1fff2308004",
   "metadata": {},
   "outputs": [],
   "source": []
  },
  {
   "cell_type": "code",
   "execution_count": 43,
   "id": "71f0f7c3-ebb4-431a-b005-1295a1888b7c",
   "metadata": {},
   "outputs": [],
   "source": [
    "# Group by Variation (Test or Control for visit_id)\n",
    "grouped_variation = visits_confirm_df.groupby(\"Variation\")"
   ]
  },
  {
   "cell_type": "code",
   "execution_count": 45,
   "id": "9571efb0-2ec2-4728-8778-41d8e772485f",
   "metadata": {},
   "outputs": [
    {
     "name": "stdout",
     "output_type": "stream",
     "text": [
      "<pandas.core.groupby.generic.DataFrameGroupBy object at 0x0000019094A14F20>\n"
     ]
    }
   ],
   "source": [
    "print(grouped_variation)"
   ]
  },
  {
   "cell_type": "code",
   "execution_count": 47,
   "id": "47ca695c-3ab7-4eb4-b928-6726c5ab21e2",
   "metadata": {},
   "outputs": [],
   "source": [
    "confirmed_users = visits_confirm_df[visits_confirm_df[\"Confirm\"] == \"1\"].groupby(\"Variation\")[\"visit_id\"].nunique()"
   ]
  },
  {
   "cell_type": "code",
   "execution_count": 49,
   "id": "f6661aae-a07b-4937-be33-06cbede728ef",
   "metadata": {},
   "outputs": [
    {
     "data": {
      "text/plain": [
       "Series([], Name: visit_id, dtype: int64)"
      ]
     },
     "execution_count": 49,
     "metadata": {},
     "output_type": "execute_result"
    }
   ],
   "source": [
    "confirmed_users"
   ]
  },
  {
   "cell_type": "code",
   "execution_count": null,
   "id": "f8aa3371-5bfe-481f-8a5f-8c73f5c2bc55",
   "metadata": {},
   "outputs": [],
   "source": [
    "# Calculate completion rate percentage\n",
    "completion_rate = (confirmed_users / unique_clients_per_group) * 100\n",
    "\n",
    "\n",
    "completion_rate = (confirmed_users * 100) / unique_clients_per_group"
   ]
  },
  {
   "cell_type": "code",
   "execution_count": 53,
   "id": "93f2778f-08d8-4901-be3b-16d7b922fe22",
   "metadata": {},
   "outputs": [
    {
     "name": "stdout",
     "output_type": "stream",
     "text": [
      "Completion Rate (Control): 49.85%\n",
      "Completion Rate (Test): 58.52%\n",
      "Non-Completion Rate (Control): 50.15%\n",
      "Non-Completion Rate (Test): 41.48%\n"
     ]
    }
   ],
   "source": [
    "total_control = len(visits_confirm_df[visits_confirm_df[\"Variation\"] == \"Control\"])\n",
    "total_test = len(visits_confirm_df[visits_confirm_df[\"Variation\"] == \"Test\"])"
   ]
  },
  {
   "cell_type": "code",
   "execution_count": null,
   "id": "580e5712-2e8b-4234-b813-435b417ccb5c",
   "metadata": {},
   "outputs": [],
   "source": [
    "# Count of completed (Confirm == 1) for each group\n",
    "completed_control = len(visits_confirm_df[(visits_confirm_df[\"Variation\"] == \"Control\") & (visits_confirm_df[\"Confirm\"] == 1)])\n",
    "completed_test = len(visits_confirm_df[(visits_confirm_df[\"Variation\"] == \"Test\") & (visits_confirm_df[\"Confirm\"] == 1)])"
   ]
  },
  {
   "cell_type": "code",
   "execution_count": null,
   "id": "962f88a8-50be-4d4b-90d7-ae87d5bd609b",
   "metadata": {},
   "outputs": [],
   "source": [
    "# Calculate percentages\n",
    "completion_rate_control = (completed_control / total_control) * 100 if total_control > 0 else 0\n",
    "completion_rate_test = (completed_test / total_test) * 100 if total_test > 0 else 0"
   ]
  },
  {
   "cell_type": "code",
   "execution_count": 106,
   "id": "d61ed25c-ee85-441f-8e14-92061d0788b0",
   "metadata": {},
   "outputs": [
    {
     "data": {
      "text/plain": [
       "49.84932740998478"
      ]
     },
     "execution_count": 106,
     "metadata": {},
     "output_type": "execute_result"
    }
   ],
   "source": [
    "non_completion_rate_control = 100 - completion_rate_control\n",
    "non_completion_rate_test = 100 - completion_rate_test\n",
    "\n",
    "completion_rate_control"
   ]
  },
  {
   "cell_type": "code",
   "execution_count": 108,
   "id": "df86ef66-b582-4159-8206-bcf0bcab134c",
   "metadata": {},
   "outputs": [
    {
     "data": {
      "text/plain": [
       "58.51734166307626"
      ]
     },
     "execution_count": 108,
     "metadata": {},
     "output_type": "execute_result"
    }
   ],
   "source": [
    "completion_rate_test"
   ]
  },
  {
   "cell_type": "code",
   "execution_count": 110,
   "id": "5de0710e-a452-4fc4-a48b-89fc0be0b49c",
   "metadata": {},
   "outputs": [
    {
     "data": {
      "text/plain": [
       "50.15067259001522"
      ]
     },
     "execution_count": 110,
     "metadata": {},
     "output_type": "execute_result"
    }
   ],
   "source": [
    "non_completion_rate_control"
   ]
  },
  {
   "cell_type": "code",
   "execution_count": 120,
   "id": "702b2454-219c-4a72-aed1-2165c16d2e89",
   "metadata": {},
   "outputs": [
    {
     "data": {
      "text/plain": [
       "41.48265833692374"
      ]
     },
     "execution_count": 120,
     "metadata": {},
     "output_type": "execute_result"
    }
   ],
   "source": [
    "non_completion_rate_test"
   ]
  },
  {
   "cell_type": "code",
   "execution_count": 55,
   "id": "272e709c-1a1d-49ca-9d6d-dc1d52953c14",
   "metadata": {},
   "outputs": [
    {
     "data": {
      "text/plain": [
       "32189"
      ]
     },
     "execution_count": 55,
     "metadata": {},
     "output_type": "execute_result"
    }
   ],
   "source": [
    "total_control"
   ]
  },
  {
   "cell_type": "code",
   "execution_count": 57,
   "id": "af49d824-fb14-470e-997d-a26791b1376b",
   "metadata": {},
   "outputs": [
    {
     "data": {
      "text/plain": [
       "37136"
      ]
     },
     "execution_count": 57,
     "metadata": {},
     "output_type": "execute_result"
    }
   ],
   "source": [
    "total_test"
   ]
  },
  {
   "cell_type": "code",
   "execution_count": 59,
   "id": "37d83fca-c973-473a-a9ab-d1298fc51271",
   "metadata": {},
   "outputs": [
    {
     "data": {
      "text/plain": [
       "16046"
      ]
     },
     "execution_count": 59,
     "metadata": {},
     "output_type": "execute_result"
    }
   ],
   "source": [
    "completed_control"
   ]
  },
  {
   "cell_type": "code",
   "execution_count": 61,
   "id": "6392b9f0-4bfb-488e-a0f8-de33fa26d18c",
   "metadata": {},
   "outputs": [
    {
     "data": {
      "text/plain": [
       "21731"
      ]
     },
     "execution_count": 61,
     "metadata": {},
     "output_type": "execute_result"
    }
   ],
   "source": [
    "completed_test"
   ]
  },
  {
   "cell_type": "code",
   "execution_count": 126,
   "id": "d25c068a-a107-46fe-847d-2c20b8be1666",
   "metadata": {},
   "outputs": [
    {
     "name": "stdout",
     "output_type": "stream",
     "text": [
      "Z-statistic: 22.86\n",
      "P-value: 6.247505366322125e-116\n",
      "Reject the null hypothesis: The completion rate is significantly different between Test and Control.\n"
     ]
    }
   ],
   "source": [
    "from statsmodels.stats.proportion import proportions_ztest\n",
    "\n",
    "# Count of successes (Confirm == 1) for each group\n",
    "completed_test = np.sum(visits_confirm_df[visits_confirm_df[\"Variation\"] == \"Test\"][\"Confirm\"] == 1)\n",
    "completed_control = np.sum(visits_confirm_df[visits_confirm_df[\"Variation\"] == \"Control\"][\"Confirm\"] == 1)\n",
    "\n",
    "# Total number of observations in each group\n",
    "total_test = len(visits_confirm_df[visits_confirm_df[\"Variation\"] == \"Test\"])\n",
    "total_control = len(visits_confirm_df[visits_confirm_df[\"Variation\"] == \"Control\"])\n",
    "\n",
    "# Conduct two-proportion z-test\n",
    "count = np.array([completed_test, completed_control])\n",
    "nobs = np.array([total_test, total_control])\n",
    "\n",
    "z_stat, p_value = proportions_ztest(count, nobs, alternative = \"larger\")\n",
    "### INTRODUCE HERE A NEW PARAMETER THRESHOLD 5 % ##### \n",
    "# NOT DONE ######\n",
    "\n",
    "# Display results\n",
    "print(f\"Z-statistic: {z_stat:.2f}\")\n",
    "print(f\"P-value: {p_value}\")\n",
    "\n",
    "# Conclusion\n",
    "alpha = 0.05\n",
    "if p_value < alpha:\n",
    "    print(\"Reject the null hypothesis: The completion rate is significantly different between Test and Control.\")\n",
    "else:\n",
    "    print(\"Fail to reject the null hypothesis: No significant difference in completion rate between Test and Control.\")"
   ]
  },
  {
   "cell_type": "code",
   "execution_count": 93,
   "id": "0569270a-91de-4aba-bff3-0cf8c0c8e1f0",
   "metadata": {},
   "outputs": [],
   "source": [
    "# Null Hypothesis (H₀): There is no significant difference in the completion rates between the Test group (new UI design) and the Control group (old UI design).\n",
    "# Alternative Hypothesis (H₁): There is a significant difference in the completion rates between the Test and Control groups."
   ]
  },
  {
   "cell_type": "code",
   "execution_count": null,
   "id": "adb30e48-fadc-4213-9ed2-66d18e2da456",
   "metadata": {},
   "outputs": [],
   "source": [
    "import numpy as np\n",
    "from statsmodels.stats.proportion import proportions_ztest\n",
    "\n",
    "# Define cost-effectiveness threshold\n",
    "threshold = 5.0  # Minimum required increase in completion rate for the redesign to be justified\n",
    "\n",
    "# Count of successes (Confirm == 1) for each group\n",
    "completed_test = np.sum(visits_confirm_df[visits_confirm_df[\"Variation\"] == \"Test\"][\"Confirm\"] == 1)\n",
    "completed_control = np.sum(visits_confirm_df[visits_confirm_df[\"Variation\"] == \"Control\"][\"Confirm\"] == 1)\n",
    "\n",
    "# Total number of observations in each group\n",
    "total_test = len(visits_confirm_df[visits_confirm_df[\"Variation\"] == \"Test\"])\n",
    "total_control = len(visits_confirm_df[visits_confirm_df[\"Variation\"] == \"Control\"])\n",
    "\n",
    "# Calculate completion rates\n",
    "completion_rate_test = (completed_test / total_test) * 100\n",
    "completion_rate_control = (completed_control / total_control) * 100\n",
    "\n",
    "# Calculate observed increase in completion rate\n",
    "completion_rate_increase = completion_rate_test - completion_rate_control\n",
    "\n",
    "# Conduct one-tailed proportion z-test to check if Test completion rate is significantly greater\n",
    "count = np.array([completed_test, completed_control])\n",
    "nobs = np.array([total_test, total_control])\n",
    "\n",
    "z_stat, p_value = proportions_ztest(count, nobs, alternative=\"larger\")\n",
    "\n",
    "# Display results\n",
    "print(f\"Completion Rate (Control): {completion_rate_control:.2f}%\")\n",
    "print(f\"Completion Rate (Test): {completion_rate_test:.2f}%\")\n",
    "print(f\"Observed Completion Rate Increase: {completion_rate_increase:.2f}%\")\n",
    "print(f\"Z-statistic: {z_stat:.2f}\")\n",
    "print(f\"P-value: {p_value:.4f}\")\n",
    "\n",
    "# Conclusion based on statistical significance AND cost-effectiveness threshold\n",
    "if completion_rate_increase >= threshold:\n",
    "    print(f\"The new design meets the cost-effectiveness threshold! Completion rate increased by {completion_rate_increase:.2f}%, which is above the required {threshold}%.\")\n",
    "else:\n",
    "    print(f\"The new design does NOT meet the cost-effectiveness threshold. Completion rate increased by {completion_rate_increase:.2f}%, but it falls short of the required {threshold}%.\")"
   ]
  },
  {
   "cell_type": "code",
   "execution_count": 65,
   "id": "7711bc21-1751-4f31-adb3-230677b4514b",
   "metadata": {},
   "outputs": [
    {
     "data": {
      "text/plain": [
       "(22.85684118615931, 1.249501073264425e-115)"
      ]
     },
     "execution_count": 65,
     "metadata": {},
     "output_type": "execute_result"
    }
   ],
   "source": [
    "z_stat, p_value"
   ]
  },
  {
   "cell_type": "code",
   "execution_count": 79,
   "id": "25d062b2-6d1d-47a7-b484-61bccd23fed0",
   "metadata": {},
   "outputs": [],
   "source": [
    "# Conclusion: Since the p-value is nearly 0, we reject the null hypothesis \n",
    "# and confirm that the new design (Test group) has a statistically significant higher completion rate compared to the old design (Control group).\n",
    "# This means the redesign is highly effective in improving completion rates."
   ]
  },
  {
   "cell_type": "code",
   "execution_count": 130,
   "id": "33e2d10e-5cf5-44b7-ae51-242956241fc6",
   "metadata": {},
   "outputs": [
    {
     "name": "stdout",
     "output_type": "stream",
     "text": [
      "The new design is cost-effective! Completion rate increase: 8.67% (Threshold: 5.0%)\n"
     ]
    }
   ],
   "source": [
    "# Cost-effectiveness threshold\n",
    "threshold = 5.0\n",
    "\n",
    "# Determine if the new design meets the threshold\n",
    "if completion_rate_increase >= threshold:\n",
    "    print(f\"The new design is cost-effective! Completion rate increase: {completion_rate_increase:.2f}% (Threshold: {threshold}%)\")\n",
    "else:\n",
    "    print(f\"The new design is NOT cost-effective. Completion rate increase: {completion_rate_increase:.2f}% (Threshold: {threshold}%)\")"
   ]
  },
  {
   "cell_type": "code",
   "execution_count": 91,
   "id": "49b8be35-2b4a-4286-863c-c9bfa21908a6",
   "metadata": {},
   "outputs": [],
   "source": [
    "# The completion rate increase is 58.52 - 49.85 = 8.67%\n",
    "# But, how much bigger is test than control? = 58.52 (Test) is 17.39 % higher than 49.85 (Control)."
   ]
  },
  {
   "cell_type": "code",
   "execution_count": 96,
   "id": "7b734624-8bb3-47c4-90f2-f54853f2539b",
   "metadata": {},
   "outputs": [
    {
     "name": "stdout",
     "output_type": "stream",
     "text": [
      "Error Rate (Control): 88.11%\n",
      "Error Rate (Test): 92.05%\n"
     ]
    }
   ],
   "source": [
    "# Sort data by client_id, visit_id, and date_time\n",
    "df_merged.sort_values(by=[\"client_id\", \"visit_id\", \"date_time\"], inplace=True)\n",
    "\n",
    "# Identify errors: A step is an error if it occurs before its preceding step\n",
    "df_merged[\"previous_step\"] = df_merged.groupby([\"client_id\", \"visit_id\"])[\"process_step\"].shift(1)\n",
    "df_merged[\"error\"] = df_merged[\"previous_step\"] > df_merged[\"process_step\"]  # Error if step order is reversed\n",
    "\n",
    "# Identify error visits (if any error exists in a visit)\n",
    "df_merged[\"error_visit\"] = df_merged.groupby([\"client_id\", \"visit_id\"])[\"error\"].transform(lambda x: x.any())\n",
    "\n",
    "# Identify error customers (if any of their visits had an error)\n",
    "df_merged[\"error_customer\"] = df_merged.groupby(\"client_id\")[\"error_visit\"].transform(lambda x: x.any())\n",
    "\n",
    "# Calculate error rate per customer ID for Test and Control groups\n",
    "error_rate = df_merged.groupby(\"Variation\")[\"error_customer\"].mean() * 100\n",
    "\n",
    "# Display results\n",
    "print(f\"Error Rate (Control): {error_rate.get('Control', 0):.2f}%\")\n",
    "print(f\"Error Rate (Test): {error_rate.get('Test', 0):.2f}%\")"
   ]
  },
  {
   "cell_type": "code",
   "execution_count": 132,
   "id": "b3ba52f0-af74-4c63-acf8-1576b5e9f419",
   "metadata": {},
   "outputs": [],
   "source": [
    "# We used the function shift. In our code, .shift(1) moves the values in \"process_step\" down one row.\n",
    "# If a previous step appears later than the current step, it means the user has gone backward unexpectedly, indicating an error.\n",
    "# We created 4 columns\n",
    "# New column 1: \"previous_step\". It is the process step right before the current step within the same visit. We use it to detect any backward movements and flag them as errors.\n",
    "# New column 2: \"error\". It marks whether a step appears before its previous step, indicating an unexpected backward movement.\n",
    "# New column 3: \"error_visit\". It flags visits where at least one error occurred, meaning the user faced issues within that visit.\n",
    "# New column 4: \"error_customer\". It identifies customers who experienced errors in any of their visits, helping measure overall user friction."
   ]
  },
  {
   "cell_type": "code",
   "execution_count": 102,
   "id": "ba1c216e-21c3-49ab-a223-b97c0abe8278",
   "metadata": {},
   "outputs": [
    {
     "data": {
      "text/html": [
       "<div>\n",
       "<style scoped>\n",
       "    .dataframe tbody tr th:only-of-type {\n",
       "        vertical-align: middle;\n",
       "    }\n",
       "\n",
       "    .dataframe tbody tr th {\n",
       "        vertical-align: top;\n",
       "    }\n",
       "\n",
       "    .dataframe thead th {\n",
       "        text-align: right;\n",
       "    }\n",
       "</style>\n",
       "<table border=\"1\" class=\"dataframe\">\n",
       "  <thead>\n",
       "    <tr style=\"text-align: right;\">\n",
       "      <th></th>\n",
       "      <th>client_id</th>\n",
       "      <th>visitor_id</th>\n",
       "      <th>visit_id</th>\n",
       "      <th>process_step</th>\n",
       "      <th>date_time</th>\n",
       "      <th>Variation</th>\n",
       "      <th>Confirm</th>\n",
       "      <th>previous_step</th>\n",
       "      <th>error</th>\n",
       "      <th>error_visit</th>\n",
       "      <th>error_customer</th>\n",
       "    </tr>\n",
       "  </thead>\n",
       "  <tbody>\n",
       "    <tr>\n",
       "      <th>70803</th>\n",
       "      <td>555</td>\n",
       "      <td>402506806_56087378777</td>\n",
       "      <td>637149525_38041617439_716659</td>\n",
       "      <td>start</td>\n",
       "      <td>2017-04-15 12:57:56</td>\n",
       "      <td>Test</td>\n",
       "      <td>0</td>\n",
       "      <td>NaN</td>\n",
       "      <td>False</td>\n",
       "      <td>True</td>\n",
       "      <td>True</td>\n",
       "    </tr>\n",
       "    <tr>\n",
       "      <th>70802</th>\n",
       "      <td>555</td>\n",
       "      <td>402506806_56087378777</td>\n",
       "      <td>637149525_38041617439_716659</td>\n",
       "      <td>step_1</td>\n",
       "      <td>2017-04-15 12:58:03</td>\n",
       "      <td>Test</td>\n",
       "      <td>0</td>\n",
       "      <td>start</td>\n",
       "      <td>False</td>\n",
       "      <td>True</td>\n",
       "      <td>True</td>\n",
       "    </tr>\n",
       "    <tr>\n",
       "      <th>70801</th>\n",
       "      <td>555</td>\n",
       "      <td>402506806_56087378777</td>\n",
       "      <td>637149525_38041617439_716659</td>\n",
       "      <td>step_2</td>\n",
       "      <td>2017-04-15 12:58:35</td>\n",
       "      <td>Test</td>\n",
       "      <td>0</td>\n",
       "      <td>step_1</td>\n",
       "      <td>False</td>\n",
       "      <td>True</td>\n",
       "      <td>True</td>\n",
       "    </tr>\n",
       "    <tr>\n",
       "      <th>70800</th>\n",
       "      <td>555</td>\n",
       "      <td>402506806_56087378777</td>\n",
       "      <td>637149525_38041617439_716659</td>\n",
       "      <td>step_3</td>\n",
       "      <td>2017-04-15 13:00:14</td>\n",
       "      <td>Test</td>\n",
       "      <td>0</td>\n",
       "      <td>step_2</td>\n",
       "      <td>False</td>\n",
       "      <td>True</td>\n",
       "      <td>True</td>\n",
       "    </tr>\n",
       "    <tr>\n",
       "      <th>70799</th>\n",
       "      <td>555</td>\n",
       "      <td>402506806_56087378777</td>\n",
       "      <td>637149525_38041617439_716659</td>\n",
       "      <td>confirm</td>\n",
       "      <td>2017-04-15 13:00:34</td>\n",
       "      <td>Test</td>\n",
       "      <td>1</td>\n",
       "      <td>step_3</td>\n",
       "      <td>True</td>\n",
       "      <td>True</td>\n",
       "      <td>True</td>\n",
       "    </tr>\n",
       "    <tr>\n",
       "      <th>...</th>\n",
       "      <td>...</td>\n",
       "      <td>...</td>\n",
       "      <td>...</td>\n",
       "      <td>...</td>\n",
       "      <td>...</td>\n",
       "      <td>...</td>\n",
       "      <td>...</td>\n",
       "      <td>...</td>\n",
       "      <td>...</td>\n",
       "      <td>...</td>\n",
       "      <td>...</td>\n",
       "    </tr>\n",
       "    <tr>\n",
       "      <th>372489</th>\n",
       "      <td>9999729</td>\n",
       "      <td>834634258_21862004160</td>\n",
       "      <td>870243567_56915814033_814203</td>\n",
       "      <td>confirm</td>\n",
       "      <td>2017-05-08 16:09:40</td>\n",
       "      <td>Test</td>\n",
       "      <td>1</td>\n",
       "      <td>step_3</td>\n",
       "      <td>True</td>\n",
       "      <td>True</td>\n",
       "      <td>True</td>\n",
       "    </tr>\n",
       "    <tr>\n",
       "      <th>105350</th>\n",
       "      <td>9999729</td>\n",
       "      <td>604429154_69247391147</td>\n",
       "      <td>99583652_41711450505_426179</td>\n",
       "      <td>start</td>\n",
       "      <td>2017-04-05 13:40:49</td>\n",
       "      <td>Test</td>\n",
       "      <td>0</td>\n",
       "      <td>NaN</td>\n",
       "      <td>False</td>\n",
       "      <td>False</td>\n",
       "      <td>True</td>\n",
       "    </tr>\n",
       "    <tr>\n",
       "      <th>105349</th>\n",
       "      <td>9999729</td>\n",
       "      <td>604429154_69247391147</td>\n",
       "      <td>99583652_41711450505_426179</td>\n",
       "      <td>step_1</td>\n",
       "      <td>2017-04-05 13:41:04</td>\n",
       "      <td>Test</td>\n",
       "      <td>0</td>\n",
       "      <td>start</td>\n",
       "      <td>False</td>\n",
       "      <td>False</td>\n",
       "      <td>True</td>\n",
       "    </tr>\n",
       "    <tr>\n",
       "      <th>341321</th>\n",
       "      <td>9999832</td>\n",
       "      <td>145538019_54444341400</td>\n",
       "      <td>472154369_16714624241_585315</td>\n",
       "      <td>start</td>\n",
       "      <td>2017-05-16 16:46:03</td>\n",
       "      <td>Test</td>\n",
       "      <td>0</td>\n",
       "      <td>NaN</td>\n",
       "      <td>False</td>\n",
       "      <td>False</td>\n",
       "      <td>False</td>\n",
       "    </tr>\n",
       "    <tr>\n",
       "      <th>341320</th>\n",
       "      <td>9999832</td>\n",
       "      <td>145538019_54444341400</td>\n",
       "      <td>472154369_16714624241_585315</td>\n",
       "      <td>step_1</td>\n",
       "      <td>2017-05-16 16:46:11</td>\n",
       "      <td>Test</td>\n",
       "      <td>0</td>\n",
       "      <td>start</td>\n",
       "      <td>False</td>\n",
       "      <td>False</td>\n",
       "      <td>False</td>\n",
       "    </tr>\n",
       "  </tbody>\n",
       "</table>\n",
       "<p>321309 rows × 11 columns</p>\n",
       "</div>"
      ],
      "text/plain": [
       "        client_id             visitor_id                      visit_id  \\\n",
       "70803         555  402506806_56087378777  637149525_38041617439_716659   \n",
       "70802         555  402506806_56087378777  637149525_38041617439_716659   \n",
       "70801         555  402506806_56087378777  637149525_38041617439_716659   \n",
       "70800         555  402506806_56087378777  637149525_38041617439_716659   \n",
       "70799         555  402506806_56087378777  637149525_38041617439_716659   \n",
       "...           ...                    ...                           ...   \n",
       "372489    9999729  834634258_21862004160  870243567_56915814033_814203   \n",
       "105350    9999729  604429154_69247391147   99583652_41711450505_426179   \n",
       "105349    9999729  604429154_69247391147   99583652_41711450505_426179   \n",
       "341321    9999832  145538019_54444341400  472154369_16714624241_585315   \n",
       "341320    9999832  145538019_54444341400  472154369_16714624241_585315   \n",
       "\n",
       "       process_step            date_time Variation  Confirm previous_step  \\\n",
       "70803         start  2017-04-15 12:57:56      Test        0           NaN   \n",
       "70802        step_1  2017-04-15 12:58:03      Test        0         start   \n",
       "70801        step_2  2017-04-15 12:58:35      Test        0        step_1   \n",
       "70800        step_3  2017-04-15 13:00:14      Test        0        step_2   \n",
       "70799       confirm  2017-04-15 13:00:34      Test        1        step_3   \n",
       "...             ...                  ...       ...      ...           ...   \n",
       "372489      confirm  2017-05-08 16:09:40      Test        1        step_3   \n",
       "105350        start  2017-04-05 13:40:49      Test        0           NaN   \n",
       "105349       step_1  2017-04-05 13:41:04      Test        0         start   \n",
       "341321        start  2017-05-16 16:46:03      Test        0           NaN   \n",
       "341320       step_1  2017-05-16 16:46:11      Test        0         start   \n",
       "\n",
       "        error  error_visit  error_customer  \n",
       "70803   False         True            True  \n",
       "70802   False         True            True  \n",
       "70801   False         True            True  \n",
       "70800   False         True            True  \n",
       "70799    True         True            True  \n",
       "...       ...          ...             ...  \n",
       "372489   True         True            True  \n",
       "105350  False        False            True  \n",
       "105349  False        False            True  \n",
       "341321  False        False           False  \n",
       "341320  False        False           False  \n",
       "\n",
       "[321309 rows x 11 columns]"
      ]
     },
     "execution_count": 102,
     "metadata": {},
     "output_type": "execute_result"
    }
   ],
   "source": [
    "df_merged"
   ]
  },
  {
   "cell_type": "code",
   "execution_count": 104,
   "id": "75dbddb3-b83d-4b05-8001-117b47cf7c4b",
   "metadata": {},
   "outputs": [],
   "source": []
  }
 ],
 "metadata": {
  "kernelspec": {
   "display_name": "Python [conda env:base] *",
   "language": "python",
   "name": "conda-base-py"
  },
  "language_info": {
   "codemirror_mode": {
    "name": "ipython",
    "version": 3
   },
   "file_extension": ".py",
   "mimetype": "text/x-python",
   "name": "python",
   "nbconvert_exporter": "python",
   "pygments_lexer": "ipython3",
   "version": "3.12.7"
  }
 },
 "nbformat": 4,
 "nbformat_minor": 5
}
